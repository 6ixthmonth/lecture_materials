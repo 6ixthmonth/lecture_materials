{
  "nbformat": 4,
  "nbformat_minor": 0,
  "metadata": {
    "colab": {
      "name": "NumPy_강의_자료.ipynb",
      "provenance": [],
      "collapsed_sections": [
        "31khrO09Za_B",
        "mQld0yHcZa_D",
        "DVFYCHIeZa_D",
        "e2AaGhwMZa_V",
        "SKxz9kzIZbAB",
        "4hIp99IKZbAb",
        "pJYumqbwZbAm",
        "m7gQ3UHkZbAn",
        "hDn8_0uUZbAq",
        "HpfDJuVwHCYM",
        "0J603Sy4HK4h",
        "QkIaDTXyVP7p",
        "RVJLonFBtYZw",
        "oOcwyqXIVVdb",
        "U5ggBsDyVd-d",
        "B2jgBKP3JszN",
        "pmBVnl8qZbEE",
        "Qb6aV9XsYEEM",
        "HEGqBg2hZbEQ",
        "1jKRbXxfJ_1S",
        "DI74FGxYZbET",
        "a_YO44Or_7u9",
        "Q9uvCS8jLiJe",
        "7xDKoymKN_ae",
        "kVKnSov_WDrD",
        "QEfnK186OS-0",
        "J3IF7GKBZbD6",
        "63F6QYDZjSru",
        "VHG1yNHR0WAl",
        "hXk1y8RmcVOn",
        "03GXss2FcuZf",
        "u3QQlwu5hc2E",
        "9miuc1jViifh",
        "3HdYjjX5ebPQ"
      ],
      "toc_visible": true
    },
    "language_info": {
      "codemirror_mode": {
        "name": "ipython",
        "version": 3
      },
      "file_extension": ".py",
      "mimetype": "text/x-python",
      "name": "python",
      "nbconvert_exporter": "python",
      "pygments_lexer": "ipython3",
      "version": "3.7.3"
    },
    "kernelspec": {
      "name": "python3",
      "display_name": "Python 3"
    }
  },
  "cells": [
    {
      "cell_type": "markdown",
      "metadata": {
        "id": "31khrO09Za_B"
      },
      "source": [
        "# ![링크 텍스트](https://numpy.org/doc/stable/_static/numpylogo.svg)"
      ]
    },
    {
      "cell_type": "markdown",
      "metadata": {
        "id": "W8c7HMXBZa_C"
      },
      "source": [
        "*Python을 사용하는 과학 계산(scientific computing)을 위한 핵심 패키지*\n",
        "\n",
        "---\n",
        "\n",
        "**NumPy**는 오픈 소스 Python 라이브러리로써 거의 대부분의 과학 및 엔지니어링 분야에 사용된다. NumPy는 Python을 통해 수치와 관련된 데이터를 다룰 때 선택할 수 있는 수단 중에서 보편적인 표준으로써 여겨지며, 과학 관련 Python 및 PyData 생태계의 중심에 위치해 있다고 할 수 있다. 그렇기 때문에 NumPy는 Pandas, SciPy, Matplotlib, scikit-learn, scikit-image 등 대부분의 데이터 과학 관련 Python 패키지에서 또한 연계되어 광범위하게 이용된다."
      ]
    },
    {
      "cell_type": "markdown",
      "metadata": {
        "id": "mQld0yHcZa_D"
      },
      "source": [
        "# <font color=\"blue\">다차원 배열</font>"
      ]
    },
    {
      "cell_type": "markdown",
      "metadata": {
        "id": "DVFYCHIeZa_D"
      },
      "source": [
        "## <font color=\"green\">1. 숫자 자료형</font>"
      ]
    },
    {
      "cell_type": "markdown",
      "metadata": {
        "id": "-NO0MpeFZa_E"
      },
      "source": [
        "Python에서는 숫자형 변수로 데이터를 표현할 수 있다.\n",
        "\n",
        "예를 들어, 세 명의 학생들로 이루어진 반이 있고 이 학생들의 수학 점수를 각각 **숫자형 변수**에 저장하는 경우, 아래처럼 처리할 수 있다."
      ]
    },
    {
      "cell_type": "code",
      "metadata": {
        "id": "EzWM2AgtZa_F"
      },
      "source": [
        "math1 = 11\n",
        "math2 = 12\n",
        "math3 = 13"
      ],
      "execution_count": null,
      "outputs": []
    },
    {
      "cell_type": "markdown",
      "metadata": {
        "id": "Q7bJN70lZa_I"
      },
      "source": [
        "점수들의 합과 평균은 다음과 같이 구할 수 있다."
      ]
    },
    {
      "cell_type": "code",
      "metadata": {
        "id": "6HsjQHKKZa_J"
      },
      "source": [
        "math_sum = math1 + math2  + math3\n",
        "math_avg = math_sum / 3\n",
        "\n",
        "print(\"수학 점수 합: {}\".format(math_sum))\n",
        "print(\"수학 점수 평균: {}\".format(math_avg))"
      ],
      "execution_count": null,
      "outputs": []
    },
    {
      "cell_type": "markdown",
      "metadata": {
        "id": "D-kUIV4XZa_O"
      },
      "source": [
        "그런데 만약 새로운 학생이 전학을 와서 시험을 치렀고, 이 학생의 성적을 추가한 점수들의 합과 평균을 구하려면 어떻게 해야 할까?\n",
        "\n",
        "새로운 변수를 추가해야 한다."
      ]
    },
    {
      "cell_type": "code",
      "metadata": {
        "id": "Ix_PtpQnZa_P"
      },
      "source": [
        "math4 = 14"
      ],
      "execution_count": null,
      "outputs": []
    },
    {
      "cell_type": "markdown",
      "metadata": {
        "id": "AUNj4X7HZa_R"
      },
      "source": [
        "그리고 합과 평균을 구하는 코드 역시 수정해야 한다."
      ]
    },
    {
      "cell_type": "code",
      "metadata": {
        "id": "GhyHuZjuZa_S"
      },
      "source": [
        "math_sum = math1 + math2 + math3 + math4 # 항목 추가\n",
        "math_avg = math_sum / 4 # 분모 변경\n",
        "\n",
        "print(\"수학 점수 합: {}\".format(math_sum))\n",
        "print(\"수학 점수 평균: {}\".format(math_avg))"
      ],
      "execution_count": null,
      "outputs": []
    },
    {
      "cell_type": "markdown",
      "metadata": {
        "id": "Jev9ytZ-Za_V"
      },
      "source": [
        "<font color=\"red\">**데이터가 추가될 때마다 매번 코드를 바꾸는 것은 매우 비효율적**</font>이다."
      ]
    },
    {
      "cell_type": "markdown",
      "metadata": {
        "id": "e2AaGhwMZa_V"
      },
      "source": [
        "## <font color=\"green\">2. 리스트 자료형</font>"
      ]
    },
    {
      "cell_type": "markdown",
      "metadata": {
        "id": "cirugbQaZa_W"
      },
      "source": [
        "리스트 자료형에 데이터를 저장하여 이 문제를 해결할 수 있다.\n",
        "\n",
        "세 명의 학생들로 이루어진 반이 있고 이 학생들의 수학 점수를 **리스트**에 저장하는 경우, 아래와 같이 처리할 수 있다."
      ]
    },
    {
      "cell_type": "code",
      "metadata": {
        "scrolled": true,
        "id": "Se9zrzTSZa_X"
      },
      "source": [
        "math_list = [11, 12, 13]"
      ],
      "execution_count": null,
      "outputs": []
    },
    {
      "cell_type": "markdown",
      "metadata": {
        "id": "A4ceFrTaZa_a"
      },
      "source": [
        "점수들의 합과, 평균은 다음과 같이 구할 수 있다."
      ]
    },
    {
      "cell_type": "code",
      "metadata": {
        "id": "UP9qgRzyZa_e",
        "collapsed": true
      },
      "source": [
        "math_sum = 0\n",
        "math_avg = 0\n",
        "\n",
        "for score in math_list:\n",
        "    math_sum += score\n",
        "math_avg = math_sum / len(math_list)\n",
        "\n",
        "print(\"수학 점수 합: {}\".format(math_sum))\n",
        "print(\"수학 점수 평균: {}\".format(math_avg))"
      ],
      "execution_count": null,
      "outputs": []
    },
    {
      "cell_type": "markdown",
      "metadata": {
        "id": "YiIKnzK4Za_h"
      },
      "source": [
        "그런데 만약 새로운 학생이 전학을 와서 시험을 치렀고, 이 학생의 성적을 추가한 점수들의 합과 평균을 구하려면 어떻게 해야 할까?\n",
        "\n",
        "~~새로운 변수를 추가해야 한다.~~\n",
        "\n",
        "**기존의 리스트에 새로운 데이터를 추가한다.**"
      ]
    },
    {
      "cell_type": "code",
      "metadata": {
        "id": "0CJKdV4AZa_h"
      },
      "source": [
        "math_list.append(14)"
      ],
      "execution_count": null,
      "outputs": []
    },
    {
      "cell_type": "markdown",
      "metadata": {
        "id": "KhEfE1q3Za_k"
      },
      "source": [
        "~~그리고 합과 평균을 구하는 코드 역시 수정해야 한다.~~\n",
        "\n",
        "새로운 데이터가 추가되어도 <font color=\"green\">**코드는 바꾸지 않고 그대로 사용할 수 있다**</font>.\n",
        "\n"
      ]
    },
    {
      "cell_type": "code",
      "metadata": {
        "id": "8wyr0pOsZa_k"
      },
      "source": [
        "math_sum = 0\n",
        "math_avg = 0\n",
        "\n",
        "for score in math_list:\n",
        "    math_sum += score\n",
        "math_avg = math_sum / len(math_list)\n",
        "\n",
        "print(\"수학 점수 합: {}\".format(math_sum))\n",
        "print(\"수학 점수 평균: {}\".format(math_avg))"
      ],
      "execution_count": null,
      "outputs": []
    },
    {
      "cell_type": "markdown",
      "metadata": {
        "id": "OntKxcauZa_o"
      },
      "source": [
        "그런데 만약 시험 문제에서 오류가 발견되어 모든 학생의 점수를 1점씩 올려줘야 하는 상황이 발생한다면 어떻게 처리해야 할까?\n",
        "\n",
        "반복문이나 List comprehension같은 방법이 있다."
      ]
    },
    {
      "cell_type": "code",
      "metadata": {
        "id": "pgTPNqR0Za_p"
      },
      "source": [
        "math_list2 = []\n",
        "for score in math_list:\n",
        "    math_list2.append(score + 1)\n",
        "print(math_list2)"
      ],
      "execution_count": null,
      "outputs": []
    },
    {
      "cell_type": "code",
      "metadata": {
        "id": "2NXF1axEZa_u"
      },
      "source": [
        "math_list3 = [score + 1 for score in math_list]\n",
        "print(math_list3)"
      ],
      "execution_count": null,
      "outputs": []
    },
    {
      "cell_type": "markdown",
      "metadata": {
        "id": "qSF4F8QnZa_z"
      },
      "source": [
        "---\n",
        "\n",
        "여기서 구조를 확장해서,\n",
        "\n",
        "1반의 점수가 11, 12, 13\n",
        "\n",
        "2반의 점수가 21, 22, 23\n",
        "\n",
        "3반의 점수가 31, 32, 33점이라고 한다면 중첩 리스트를 통해 아래처럼 나타낼 수 있다."
      ]
    },
    {
      "cell_type": "code",
      "metadata": {
        "id": "fLfcvLEYZa_2"
      },
      "source": [
        "nested_math_list = [[11, 12, 13], [21, 22, 23], [31, 32, 33]]\n",
        "print(nested_math_list)"
      ],
      "execution_count": null,
      "outputs": []
    },
    {
      "cell_type": "markdown",
      "metadata": {
        "id": "KvZbTzWYZa_7"
      },
      "source": [
        "중첩 리스트에서 각 원소에 1을 더하는 코드는 다음과 같다."
      ]
    },
    {
      "cell_type": "code",
      "metadata": {
        "id": "N82jpBzAZa_7"
      },
      "source": [
        "nested_math_list2 = []\n",
        "\n",
        "for inner_list in nested_math_list:\n",
        "    temp_list = []\n",
        "\n",
        "    for score in inner_list:\n",
        "        temp_list.append(score + 1)\n",
        "\n",
        "    nested_math_list2.append(temp_list)\n",
        "\n",
        "print(nested_math_list2)"
      ],
      "execution_count": null,
      "outputs": []
    },
    {
      "cell_type": "markdown",
      "metadata": {
        "id": "IWStA5cfZa__"
      },
      "source": [
        "<font color=\"red\">**문제점**</font>\n",
        "\n",
        "자료 구조의 중첩이 증가하면 반복문도 하나 더 사용해야 한다.\n",
        "\n",
        "일반적으로 자료 구조의 중첩이 증가할수록, 자료 구조를 조작하는 코드는 복잡해질 수밖에 없다."
      ]
    },
    {
      "cell_type": "markdown",
      "metadata": {
        "id": "SKxz9kzIZbAB"
      },
      "source": [
        "## <font color=\"green\">3. NumPy로 구현한 다차원 배열</font>"
      ]
    },
    {
      "cell_type": "markdown",
      "metadata": {
        "id": "uxTiU-HEZbAC"
      },
      "source": [
        "**NumPy**를 사용하면 중첩된 자료구조를 효율적으로 다룰 수 있다.\n",
        " \n",
        "`import numpy as np` 형태로 사용하는게 일반적이다."
      ]
    },
    {
      "cell_type": "code",
      "metadata": {
        "id": "CiUFA8ZeZbAC"
      },
      "source": [
        "import numpy as np\n",
        "\n",
        "print(np.__version__)"
      ],
      "execution_count": null,
      "outputs": []
    },
    {
      "cell_type": "code",
      "metadata": {
        "id": "NE-6JymnZbAE"
      },
      "source": [
        "math_ndarray = np.array(nested_math_list)\n",
        "# math_ndarray = np.array([[11, 12, 13], [21, 22, 23], [31, 32, 33]])\n",
        "\n",
        "print(math_ndarray)\n",
        "print(type(math_ndarray)) # 다차원 배열이라고 부른다."
      ],
      "execution_count": null,
      "outputs": []
    },
    {
      "cell_type": "markdown",
      "metadata": {
        "id": "uPo3oy7DZbAI"
      },
      "source": [
        "각 원소에 1을 더하려면,"
      ]
    },
    {
      "cell_type": "code",
      "metadata": {
        "id": "HDcNtq1EZbAI"
      },
      "source": [
        "new_ndarray = math_ndarray + 1\n",
        "print(new_ndarray)"
      ],
      "execution_count": null,
      "outputs": []
    },
    {
      "cell_type": "markdown",
      "metadata": {
        "id": "xa9Jqm8WmGbH"
      },
      "source": [
        "NumPy에 구현된 함수를 이용해서 합이나 평균도 쉽게 구할 수 있다."
      ]
    },
    {
      "cell_type": "code",
      "metadata": {
        "id": "w15OXRueZbAM"
      },
      "source": [
        "# 전체 합 구하기\n",
        "np.sum(math_ndarray)"
      ],
      "execution_count": null,
      "outputs": []
    },
    {
      "cell_type": "code",
      "metadata": {
        "id": "y0s07gHmZbAO"
      },
      "source": [
        "# 전체 평균 구하기\n",
        "np.mean(math_ndarray)"
      ],
      "execution_count": null,
      "outputs": []
    },
    {
      "cell_type": "code",
      "metadata": {
        "id": "GCsE5bl0ZbAR"
      },
      "source": [
        "# 열의 평균 구하기\n",
        "np.mean(math_ndarray, axis=0)"
      ],
      "execution_count": null,
      "outputs": []
    },
    {
      "cell_type": "code",
      "metadata": {
        "id": "pjaDAB3cZbAU"
      },
      "source": [
        "# 행의 평균 구하기\n",
        "np.mean(math_ndarray, axis=1)"
      ],
      "execution_count": null,
      "outputs": []
    },
    {
      "cell_type": "markdown",
      "metadata": {
        "id": "4hIp99IKZbAb"
      },
      "source": [
        "## <font color=\"green\">4. Python의 list와 NumPy의 ndarray의 성능 비교</font>"
      ]
    },
    {
      "cell_type": "code",
      "metadata": {
        "id": "RGcfihKqZbAX"
      },
      "source": [
        "import time\n",
        "\n",
        "# 코드 실행 시간을 측정하기 위한 클래스\n",
        "class Timer:\n",
        "    # Timer 클래스의 생성자\n",
        "    def __init__(self, name):\n",
        "        self.name = name\n",
        "\n",
        "    # with 문이 시작할 때 실행되는 함수\n",
        "    def __enter__(self):\n",
        "        print(\"[%s]\" % self.name)\n",
        "        self.start = time.time()\n",
        "\n",
        "    # with 문이 끝날 때 실행되는 함수\n",
        "    def __exit__(self, type, value, traceback):\n",
        "        print(\"실행 시간: %.6f 초\" % (time.time() - self.start))"
      ],
      "execution_count": null,
      "outputs": []
    },
    {
      "cell_type": "code",
      "metadata": {
        "id": "WXgyVZpFZbAZ"
      },
      "source": [
        "with Timer(\"코드 실행 시간을 측정하는 예제\"):\n",
        "    time.sleep(1)"
      ],
      "execution_count": null,
      "outputs": []
    },
    {
      "cell_type": "code",
      "metadata": {
        "id": "h3NF8vBBZbAc"
      },
      "source": [
        "# Python의 list와 NumPy의 ndarray의 성능을 비교하기 위해 똑같은 데이터를 가지는 자료 구조를 생성한다.\n",
        "rows = 100 # 행\n",
        "cols = 100 # 열\n",
        "rand_array = np.random.rand(rows, cols) # 0 이상 1 미만의 난수로 이루어진 100행 100열짜리 ndarray 선언\n",
        "rand_list = rand_array.tolist() # ndarray를 list로 변환"
      ],
      "execution_count": null,
      "outputs": []
    },
    {
      "cell_type": "code",
      "metadata": {
        "id": "dUucjablZbAe"
      },
      "source": [
        "print(rand_array)\n",
        "print(type(rand_array))"
      ],
      "execution_count": null,
      "outputs": []
    },
    {
      "cell_type": "code",
      "metadata": {
        "id": "Kmx-wY0hZbAg"
      },
      "source": [
        "print(rand_list)\n",
        "print(type(rand_list))"
      ],
      "execution_count": null,
      "outputs": []
    },
    {
      "cell_type": "code",
      "metadata": {
        "id": "gykuqH8rZbAj"
      },
      "source": [
        "with Timer(\"Python의 list를 사용해서 모든 원소의 합 구하기\"):\n",
        "    result = 0\n",
        "    for inner_list in rand_list:\n",
        "        for e in inner_list:\n",
        "            result += e\n",
        "    print(\"합계:\", result)\n",
        "\n",
        "print(\"-\" * 20)\n",
        "\n",
        "with Timer(\"Python의 list를 사용해서 모든 원소에 1 더하기\"):\n",
        "    result_list = []\n",
        "    for inner_list in rand_list:\n",
        "        temp_list = []\n",
        "        for e in inner_list:\n",
        "            temp_list.append(e + 1)\n",
        "        result_list.append(temp_list)\n",
        "\n",
        "print(\"=\" * 20)\n",
        "\n",
        "with Timer(\"NumPy의 ndarray를 사용해서 모든 원소의 합 구하기\"):\n",
        "    result = np.sum(rand_array)\n",
        "    print(\"합계:\", result)\n",
        "    \n",
        "print(\"-\" * 20)\n",
        "\n",
        "with Timer(\"NumPy의 ndarray를 사용해서 모든 원소에 1 더하기\"):\n",
        "    result_array = rand_array + 1"
      ],
      "execution_count": null,
      "outputs": []
    },
    {
      "cell_type": "markdown",
      "metadata": {
        "id": "pJYumqbwZbAm"
      },
      "source": [
        "### NumPy의 장점"
      ]
    },
    {
      "cell_type": "markdown",
      "metadata": {
        "id": "L_AUjz8aZbAn"
      },
      "source": [
        "- 코어 부분이 C로 구현되어 동일한 연산을 하더라도 Python에 비해 속도가 빠름\n",
        "- 라이브러리에 구현되어있는 함수들을 활용해 짧고 간결한 코드 작성 가능\n",
        "- 효율적인 메모리 사용이 가능하도록 구현됨"
      ]
    },
    {
      "cell_type": "markdown",
      "metadata": {
        "id": "m7gQ3UHkZbAn"
      },
      "source": [
        "### Python의 list가 느린 이유"
      ]
    },
    {
      "cell_type": "markdown",
      "metadata": {
        "id": "z78wkxumZbAp"
      },
      "source": [
        "- 파이썬 리스트는 결국 포인터의 배열\n",
        "- 경우에 따라서 각각 객체가 메모리 여기저기 흩어져 있음\n",
        "- 그러므로 캐시 활용이 어려움"
      ]
    },
    {
      "cell_type": "markdown",
      "metadata": {
        "id": "hDn8_0uUZbAq"
      },
      "source": [
        "### NumPy의 ndarray가 빠른 이유"
      ]
    },
    {
      "cell_type": "markdown",
      "metadata": {
        "id": "Nv6Ze8ytZbAq"
      },
      "source": [
        "- ndarray는 타입을 명시하여 원소의 배열로 데이터를 유지\n",
        "- 다차원 데이터도 연속된 메모리 공간이 할당됨\n",
        "- 많은 연산이 dimensions과 strides를 잘 활용하면 효율적으로 가능"
      ]
    },
    {
      "cell_type": "markdown",
      "metadata": {
        "id": "uleu2J3ZZbAr"
      },
      "source": [
        "![title](http://jakevdp.github.io/images/array_vs_list.png)"
      ]
    },
    {
      "cell_type": "markdown",
      "metadata": {
        "id": "HpfDJuVwHCYM"
      },
      "source": [
        "# <font color=\"blue\">기초 문법</font>"
      ]
    },
    {
      "cell_type": "markdown",
      "source": [
        "NumPy는 `ndarray`라고 부르는 배열 클래스를 주로 다루며, 줄여서 `array`라고도 부른다. ndarray 객체에서 사용할 수 있는 주요 속성들은 다음과 같다.\n",
        "\n",
        "---\n",
        "\n",
        "**ndarray.ndim**\n",
        "\n",
        "> 배열의 축(차원)의 개수.\n",
        "\n",
        "**ndarray.shape**\n",
        "> 배열의 차원. 배열의 각 차원의 크기를 나타내는 정수 튜플이다. n개의 행과 m개의 열로 이루어진 행렬의 경우, (n, m)이 된다. 따라서 shape 튜플의 길이는 축의 개수, 즉 ndim과 같다.\n",
        "\n",
        "**ndarray.size**\n",
        "> 배열의 요소의 총 개수. shape의 요소의 곱과도 같다.\n",
        "\n",
        "**ndarray.dtype**\n",
        "> 배열의 요소의 자료형. 배열 생성 시 Python 표준 자료형을 지정할 수도 있고 NumPy에서 지원하는 자체 자료형을 사용할 수도 있다."
      ],
      "metadata": {
        "id": "iHVc4JYxBe0p"
      }
    },
    {
      "cell_type": "code",
      "source": [
        "import numpy as np\n",
        "a = np.array([[[1, 0, 0], [0, 1, 2]]])\n",
        "\n",
        "print(a) # 배열 출력\n",
        "print(\"type:\", type(a))\n",
        "\n",
        "print(\"차원의 수(ndim):\", a.ndim)\n",
        "print(\"차원(shape):\", a.shape)\n",
        "print(\"요소의 총 개수(size):\", a.size)\n",
        "print(\"요소의 자료형(dtype):\", a.dtype)"
      ],
      "metadata": {
        "id": "iTSXBIpYDs-S"
      },
      "execution_count": null,
      "outputs": []
    },
    {
      "cell_type": "markdown",
      "metadata": {
        "id": "0J603Sy4HK4h"
      },
      "source": [
        "## <font color=\"green\">배열 생성</font>"
      ]
    },
    {
      "cell_type": "markdown",
      "metadata": {
        "id": "Z6qM0-yBIPT4"
      },
      "source": [
        "다차원 배열을 만드는 방법에는 여러 가지가 있다.\n",
        "\n",
        "가장 기본적인 방법은, `array` 함수를 사용하여 일반적인 Python list 또는 tuple로부터 다차원 배열을 만드는 것이다."
      ]
    },
    {
      "cell_type": "code",
      "metadata": {
        "id": "NjZGkuZNJogM"
      },
      "source": [
        "import numpy as np\n",
        "\n",
        "a = np.array([2, 3, 4])\n",
        "print(a)"
      ],
      "execution_count": null,
      "outputs": []
    },
    {
      "cell_type": "markdown",
      "source": [
        "빈번하게 발생하는 실수 중 하나는 array 함수에 여러 개의 인수를 입력하는 것이다."
      ],
      "metadata": {
        "id": "nIAQZ0mHCeiU"
      }
    },
    {
      "cell_type": "code",
      "source": [
        "a = np.array(1, 2, 3, 4)    # 틀림\n",
        "# a = np.array([1, 2, 3, 4])  # 맞음"
      ],
      "metadata": {
        "id": "QvMp1v8OCldR"
      },
      "execution_count": null,
      "outputs": []
    },
    {
      "cell_type": "markdown",
      "source": [
        "array 함수는 시퀀스 안에 시퀀스가 중첩되어 있는 객체를 2차원 배열로 생성해준다. 마찬가지로 시퀀스 안에 시퀀스 안에 시퀀스가 중첩되어 있는 구조라면 3차원 배열로 생성해주는 식으로 동작한다."
      ],
      "metadata": {
        "id": "XeqyF4dUC9Iz"
      }
    },
    {
      "cell_type": "code",
      "source": [
        "b = np.array([(1.5, 2, 3), (4, 5, 6)])\n",
        "print(b)\n",
        "print(b.ndim)"
      ],
      "metadata": {
        "id": "o65I9UjnDHWm"
      },
      "execution_count": null,
      "outputs": []
    },
    {
      "cell_type": "code",
      "source": [
        "b = np.array([[[1, 2], [3, 4]], [[5, 6], [7, 8]]])\n",
        "print(b)\n",
        "print(b.ndim)"
      ],
      "metadata": {
        "id": "RbnwnP7VDTAQ"
      },
      "execution_count": null,
      "outputs": []
    },
    {
      "cell_type": "markdown",
      "metadata": {
        "id": "I-gj3WLZPg_L"
      },
      "source": [
        "배열 생성 시 자료형을 명시적으로 지정할 수도 있다. dtype 키워드 인수에 Python 표준 자료형을 사용하여 지정할 수도 있고, NumPy에서 지원하는 자체 자료형(numpy.int32, numpy.int16, numpy.float64 등)을 사용할 수도 있다."
      ]
    },
    {
      "cell_type": "code",
      "metadata": {
        "id": "uXorsKT4Px5R"
      },
      "source": [
        "# c = np.array([[1, 2], [3, 4]], dtype=float) # 파이썬의 float 자료형 적용\n",
        "c = np.array([[1, 2], [3, 4]], dtype=np.float64) # numpy 모듈의 float64 자료형 적용\n",
        "print(c)\n",
        "print(c.dtype.name)"
      ],
      "execution_count": null,
      "outputs": []
    },
    {
      "cell_type": "markdown",
      "metadata": {
        "id": "iT_V2cLWQVK1"
      },
      "source": [
        "다양한 함수를 이용해서 다차원 배열을 만들 수도 있다.\n",
        "\n",
        "`zeros` 함수는 모든 요소가 0으로 이루어진 다차원 배열을 생성한다.\n",
        "\n",
        "`ones` 함수는 모든 요소가 1로 이루어진 다차원 배열을 생성한다.\n",
        "\n",
        "`full` 함수는 모든 요소가 특정 값으로 이루어진 다차원 배열을 생성한다.\n",
        "\n",
        "`empty` 함수는 모든 요소가 메모리의 초기값으로 이루어진 다차원 배열을 생성한다."
      ]
    },
    {
      "cell_type": "code",
      "metadata": {
        "id": "HILHG9qPRe7b"
      },
      "source": [
        "print(\"zeros 함수를 이용한 (3, 4) 형태의 2차원 배열\")\n",
        "print(np.zeros((3, 4))) # 기본 자료형이 float이다.\n",
        "\n",
        "print(\"\\nones 함수를 이용한 (3, 4) 형태의 2차원 배열\")\n",
        "print(np.ones((3, 4), dtype=np.int16))\n",
        "\n",
        "print(\"\\nfull 함수를 이용한 (3, 4) 형태의 2차원 배열\")\n",
        "print(np.full((3, 4), -1))\n",
        "\n",
        "print(\"\\nempty 함수를 이용한 (2, 3, 4) 형태의 3차원 배열\")\n",
        "print(np.empty((2, 3, 4)))"
      ],
      "execution_count": null,
      "outputs": []
    },
    {
      "cell_type": "markdown",
      "metadata": {
        "id": "5fylQoSBSyMN"
      },
      "source": [
        "연속된 숫자로 이루어진 다차원 배열을 만들 수 있는, Python의 `range` 내장 함수와 유사한 함수인 `arange` 함수를 제공한다."
      ]
    },
    {
      "cell_type": "code",
      "metadata": {
        "id": "PNGO9udLZ9vI"
      },
      "source": [
        "print(np.arange(0, 2, 0.3)) # 0 이상 2 미만의 범위에서 각 요소 값들이 0.3씩 차이가 나도록 설정"
      ],
      "execution_count": null,
      "outputs": []
    },
    {
      "cell_type": "code",
      "metadata": {
        "id": "fD5E1iO_TGUR"
      },
      "source": [
        "print(np.arange(10, 30, 5)) # 10 이상 30 미만의 범위에서 각 요소 값들이 5씩 차이가 나도록 설정"
      ],
      "execution_count": null,
      "outputs": []
    },
    {
      "cell_type": "markdown",
      "metadata": {
        "id": "xQ9o5vJkT4hj"
      },
      "source": [
        "`arange` 함수와 유사하게 범위를 설정하지만 대신 총 요소의 개수를 설정할 수 있는 `linspace` 함수를 제공한다."
      ]
    },
    {
      "cell_type": "code",
      "metadata": {
        "id": "g8TSA8XfUNVa"
      },
      "source": [
        "print(np.linspace(0, 2, 9)) # 0 이상 2 이하의 범위를 9등분하여 설정"
      ],
      "execution_count": null,
      "outputs": []
    },
    {
      "cell_type": "code",
      "metadata": {
        "id": "7E5yziNfZy7n"
      },
      "source": [
        "x = np.linspace(0, 2 * np.pi, 10) # 0 이상 2π 이하의 범위를 10등분하여 설정\n",
        "print(x)\n",
        "f = np.sin(x) # 삼각함수의 input으로 자주 설정하는 방식\n",
        "print(f)"
      ],
      "execution_count": null,
      "outputs": []
    },
    {
      "cell_type": "markdown",
      "metadata": {
        "id": "QkIaDTXyVP7p"
      },
      "source": [
        "## <font color=\"green\">2. 기본 연산 및 조작 함수</font>"
      ]
    },
    {
      "cell_type": "markdown",
      "metadata": {
        "id": "HSDxmBngZoHs"
      },
      "source": [
        "다차원 배열에 대해 산술, 비교 연산자를 적용할 때 *요소별*로 계산된다. 연산 결과로 새로운 배열이 생성되고 결과로 채워진다."
      ]
    },
    {
      "cell_type": "code",
      "metadata": {
        "id": "ebcJ4EUPZwYh"
      },
      "source": [
        "a = np.array([20, 35, 40, 55])\n",
        "print(\"a:\", a)\n",
        "\n",
        "print(\"-\" * 20)\n",
        "\n",
        "print(\"a + 100:\", a + 100)\n",
        "print(\"a ** 2\", a ** 2)\n",
        "print(\"10 * np.sin(a):\", 10 * np.sin(a))\n",
        "print(\"a > 35:\", a > 35)\n",
        "print(\"a % 2 == 0:\", a % 2 == 0)"
      ],
      "execution_count": null,
      "outputs": []
    },
    {
      "cell_type": "markdown",
      "metadata": {
        "id": "0Tr8irlZd8lO"
      },
      "source": [
        "두 개 이상의 배열에 대해서 또한 마찬가지로, 각 배열의 같은 위치에 있는 요소끼리 연산한다."
      ]
    },
    {
      "cell_type": "code",
      "metadata": {
        "id": "HY4oTvr-drQS"
      },
      "source": [
        "a = np.array([1, 10, 100, 1000])\n",
        "b = np.array([10, 20, 30, 40])\n",
        "print(\"a:\", a)\n",
        "print(\"b:\", b)\n",
        "\n",
        "print(\"-\" * 20)\n",
        "\n",
        "print(\"a + b:\", a + b)\n",
        "print(\"a / b:\", a / b)\n",
        "print(\"a > b:\", a > b)\n",
        "print(\"a <= b * 3:\", a <= b * 3)"
      ],
      "execution_count": null,
      "outputs": []
    },
    {
      "cell_type": "markdown",
      "metadata": {
        "id": "Ln6ymXH0m1qr"
      },
      "source": [
        "`*` 연산자 또한 요소별로 적용된다.\n",
        "\n",
        "`@` 연산자 또는 `dot` 함수를 사용하여 행렬 곱을 수행할 수 있다."
      ]
    },
    {
      "cell_type": "code",
      "metadata": {
        "id": "B2HsZHjjnG_i"
      },
      "source": [
        "A = np.array([[1, 1], \n",
        "              [0, 1]])\n",
        "B = np.array([[2, 0],\n",
        "              [3, 4]])\n",
        "print(A * B)\n",
        "print(A @ B)\n",
        "print(A.dot(B))"
      ],
      "execution_count": null,
      "outputs": []
    },
    {
      "cell_type": "markdown",
      "metadata": {
        "id": "WhyA_DRNn56H"
      },
      "source": [
        "`+=` 및 `*=`과 같은 일부 연산자는 새 배열을 생성하지 않고 기존 배열을 수정한다."
      ]
    },
    {
      "cell_type": "code",
      "metadata": {
        "id": "XccCkSwfoHLo"
      },
      "source": [
        "a = np.ones((2, 3), dtype=int)\n",
        "print(a)\n",
        "\n",
        "a += 1\n",
        "print(a)\n",
        "\n",
        "a *= 3\n",
        "print(a)"
      ],
      "execution_count": null,
      "outputs": []
    },
    {
      "cell_type": "markdown",
      "metadata": {
        "id": "apJlEA_Lpotr"
      },
      "source": [
        "연산 시 자료형은 적절하게 형변환(Upcasting)된다."
      ]
    },
    {
      "cell_type": "code",
      "metadata": {
        "id": "5Tdur608prRQ"
      },
      "source": [
        "a = np.ones(3, dtype=np.int32)\n",
        "b = np.linspace(0, pi, 3)\n",
        "print(a.dtype.name)\n",
        "print(b.dtype.name)\n",
        "\n",
        "c = a + b\n",
        "print(c.dtype.name)"
      ],
      "execution_count": null,
      "outputs": []
    },
    {
      "cell_type": "markdown",
      "metadata": {
        "id": "SIRXw2-tqVtV"
      },
      "source": [
        "배열의 모든 요소의 합을 구하기 등, 많은 단항 연산이 `ndarray` 클래스의 메서드로 구현되어 있다."
      ]
    },
    {
      "cell_type": "code",
      "metadata": {
        "id": "FXoRhVBOq7CW"
      },
      "source": [
        "a = np.random.random((2, 3))\n",
        "print(a)\n",
        "print(a.sum()) # 모든 요소의 합\n",
        "print(a.min()) # 모든 요소 중 최소값\n",
        "print(a.max()) # 모든 요소 중 최대값"
      ],
      "execution_count": null,
      "outputs": []
    },
    {
      "cell_type": "markdown",
      "metadata": {
        "id": "rb02Enzhrix1"
      },
      "source": [
        "대부분의 이러한 연산들은 `axis` 매개 변수를 지정하면 배열의 지정된 축을 따라 작업을 적용 할 수 있다."
      ]
    },
    {
      "cell_type": "code",
      "metadata": {
        "id": "DxrkL4nvrln2"
      },
      "source": [
        "b = np.arange(12).reshape(3, 4)\n",
        "print(b)\n",
        "print(b.mean(axis=1)) # 각 행의 평균\n",
        "print(b.std(axis=0)) # 각 열의 표준편차\n",
        "print(b.cumsum(axis=1)) # 각 행의 누적합"
      ],
      "execution_count": null,
      "outputs": []
    },
    {
      "cell_type": "markdown",
      "metadata": {
        "id": "RVJLonFBtYZw"
      },
      "source": [
        "## <font color=\"green\">3. 인덱싱, 슬라이싱, 반복</font>"
      ]
    },
    {
      "cell_type": "markdown",
      "metadata": {
        "id": "KdbQXhlBt0F6"
      },
      "source": [
        "**1차원** 배열은 Python list와 같이 인덱싱, 슬라이싱, 반복할 수 있다."
      ]
    },
    {
      "cell_type": "code",
      "metadata": {
        "id": "Wgk45YituDuu"
      },
      "source": [
        "a = np.arange(10) ** 3\n",
        "print(a)\n",
        "print(a[2]) # 인덱싱\n",
        "print(a[2:5]) # 슬라이싱\n",
        "\n",
        "for i in a:\n",
        "    print(i ** (1 / 3))"
      ],
      "execution_count": null,
      "outputs": []
    },
    {
      "cell_type": "markdown",
      "metadata": {
        "id": "fWC9scVkDJ_T"
      },
      "source": [
        "다차원 배열은 축 별로 인덱스를 가진다. 각 축에 대해 인덱싱, 슬라이싱을 차례로 적용할 수 있다."
      ]
    },
    {
      "cell_type": "code",
      "metadata": {
        "id": "O19HVQ3XQbi7"
      },
      "source": [
        "b = np.arange(16).reshape(4, 4)\n",
        "print(b)\n",
        "print(b[2, 3]) # 인덱싱\n",
        "print(b[:2, 1]) # 행 슬라이싱과 열 인덱싱\n",
        "print(b[1, 2:]) # 행 인덱싱과 열 슬라이싱\n",
        "print(b[1:3, 2:]) # 슬라이싱"
      ],
      "execution_count": null,
      "outputs": []
    },
    {
      "cell_type": "markdown",
      "metadata": {
        "id": "Se0HMqFgRo9t"
      },
      "source": [
        "축 수보다 적은 수의 인덱스를 제공한 경우, 생략된 인덱스는  전 범위에 대한 슬라이스(`:`)로 간주된다."
      ]
    },
    {
      "cell_type": "code",
      "metadata": {
        "id": "jeF_sGy5R6Hd"
      },
      "source": [
        "print(b[-2])"
      ],
      "execution_count": null,
      "outputs": []
    },
    {
      "cell_type": "markdown",
      "metadata": {
        "id": "I1-EcdfnUQf-"
      },
      "source": [
        "다차원 배열에 대한 **반복**은 첫 번째 축부터 수행된다."
      ]
    },
    {
      "cell_type": "code",
      "metadata": {
        "id": "e8XXYA2DUbQa"
      },
      "source": [
        "for row in b: # 다차원 배열에서 행을 하나씩 꺼내옴\n",
        "    for val in row: # 행에서 요소를 하나씩 꺼내옴\n",
        "        print(val)"
      ],
      "execution_count": null,
      "outputs": []
    },
    {
      "cell_type": "markdown",
      "metadata": {
        "id": "vD-iuXwxUgna"
      },
      "source": [
        "`flat` 속성을 이용하면 모든 요소에 대해 반복을 수행할 수 있다."
      ]
    },
    {
      "cell_type": "code",
      "metadata": {
        "id": "Y9PqDaxXUlpf"
      },
      "source": [
        "for element in b.flat:\n",
        "    print(element)"
      ],
      "execution_count": null,
      "outputs": []
    },
    {
      "cell_type": "markdown",
      "metadata": {
        "id": "oOcwyqXIVVdb"
      },
      "source": [
        "# <font color=\"blue\">응용 문법</font>"
      ]
    },
    {
      "cell_type": "markdown",
      "metadata": {
        "id": "U5ggBsDyVd-d"
      },
      "source": [
        "## <font color=\"green\">1. 형태(shape) 조작</font>"
      ]
    },
    {
      "cell_type": "markdown",
      "metadata": {
        "id": "B2jgBKP3JszN"
      },
      "source": [
        "### <font color=\"red\">1-1. 형태를 직접 변경하는 함수들</font>\n",
        "\n"
      ]
    },
    {
      "cell_type": "markdown",
      "metadata": {
        "id": "pmBVnl8qZbEE"
      },
      "source": [
        "#### numpy.reshape() 혹은 numpy.ndarray.reshape()"
      ]
    },
    {
      "cell_type": "markdown",
      "metadata": {
        "id": "Yn3jVLniKPe8"
      },
      "source": [
        "데이터를 변경하지 않고 배열을 새로운 shape로 수정한다."
      ]
    },
    {
      "cell_type": "code",
      "metadata": {
        "id": "t2nZqY8RZbEF"
      },
      "source": [
        "import numpy as np\n",
        "\n",
        "a = np.arange(6)\n",
        "print(a)"
      ],
      "execution_count": null,
      "outputs": []
    },
    {
      "cell_type": "code",
      "metadata": {
        "id": "ykfV7zGtZbEG"
      },
      "source": [
        "a.reshape((3, 2))"
      ],
      "execution_count": null,
      "outputs": []
    },
    {
      "cell_type": "code",
      "metadata": {
        "id": "n_2loi36ZbEK"
      },
      "source": [
        "b = a.reshape((3, 2))\n",
        "print(b)"
      ],
      "execution_count": null,
      "outputs": []
    },
    {
      "cell_type": "code",
      "metadata": {
        "id": "_HqQT-xTZbEH"
      },
      "source": [
        "np.reshape(b, (2, 3))"
      ],
      "execution_count": null,
      "outputs": []
    },
    {
      "cell_type": "code",
      "metadata": {
        "id": "Ln4UeyNDZbEL"
      },
      "source": [
        "# 결과가 2차원이다.\n",
        "c = np.reshape(a, (1, 6))\n",
        "print(c, c.ndim)"
      ],
      "execution_count": null,
      "outputs": []
    },
    {
      "cell_type": "code",
      "metadata": {
        "id": "5JTGrWfqZbEM"
      },
      "source": [
        "# 결과가 1차원이다.\n",
        "d = np.reshape(a, 6)\n",
        "print(d, d.ndim)"
      ],
      "execution_count": null,
      "outputs": []
    },
    {
      "cell_type": "markdown",
      "metadata": {
        "id": "Qb6aV9XsYEEM"
      },
      "source": [
        "#### numpy.ndarray.resize()"
      ]
    },
    {
      "cell_type": "markdown",
      "metadata": {
        "id": "cTUpZbxHYGxa"
      },
      "source": [
        "원본 배열을 새로운 shape로 수정한다."
      ]
    },
    {
      "cell_type": "code",
      "metadata": {
        "id": "aL04tYZEYKvQ"
      },
      "source": [
        "a = np.arange(12)\n",
        "a.resize((3, 4))\n",
        "print(a)"
      ],
      "execution_count": null,
      "outputs": []
    },
    {
      "cell_type": "markdown",
      "metadata": {
        "id": "HEGqBg2hZbEQ"
      },
      "source": [
        "#### numpy.ndarray.flatten()"
      ]
    },
    {
      "cell_type": "markdown",
      "metadata": {
        "id": "isdXUjzoMCmI"
      },
      "source": [
        "배열을 1차원으로 만든다."
      ]
    },
    {
      "cell_type": "code",
      "metadata": {
        "id": "AMCP8KFRZbEQ"
      },
      "source": [
        "a = np.array([[1, 2], [3, 4]])\n",
        "print(a)"
      ],
      "execution_count": null,
      "outputs": []
    },
    {
      "cell_type": "code",
      "metadata": {
        "id": "_oPpaVicZbES"
      },
      "source": [
        "print(a.flatten())"
      ],
      "execution_count": null,
      "outputs": []
    },
    {
      "cell_type": "markdown",
      "metadata": {
        "id": "1jKRbXxfJ_1S"
      },
      "source": [
        "### <font color=\"red\">1-2. 다차원 배열 병합</font>"
      ]
    },
    {
      "cell_type": "markdown",
      "metadata": {
        "id": "DI74FGxYZbET"
      },
      "source": [
        "#### numpy.concatenate()"
      ]
    },
    {
      "cell_type": "markdown",
      "metadata": {
        "id": "Q9Ws3dIXZbET"
      },
      "source": [
        "두 개 이상의 배열을 연결한다.\n",
        "\n",
        "`concatenate()` 함수를 수행하려면 차원 수가 같아야 한다."
      ]
    },
    {
      "cell_type": "code",
      "metadata": {
        "id": "08J5QhXZZbEV"
      },
      "source": [
        "a = np.array([[1, 2], [3, 4]])\n",
        "print(a) # 2차원 배열"
      ],
      "execution_count": null,
      "outputs": []
    },
    {
      "cell_type": "code",
      "metadata": {
        "id": "uUlnLcD5PnyQ"
      },
      "source": [
        "b = np.array([5, 6])\n",
        "print(b) # 1차원 배열"
      ],
      "execution_count": null,
      "outputs": []
    },
    {
      "cell_type": "code",
      "metadata": {
        "id": "Zlxi121GPrsB"
      },
      "source": [
        "np.concatenate((a, b)) # 차원 수가 다르기 때문에 안 됨"
      ],
      "execution_count": null,
      "outputs": []
    },
    {
      "cell_type": "code",
      "metadata": {
        "id": "4YSqIOgxODNG"
      },
      "source": [
        "b = np.array([[5, 6]])\n",
        "print(b) # 2차원 배열"
      ],
      "execution_count": null,
      "outputs": []
    },
    {
      "cell_type": "code",
      "metadata": {
        "id": "H-Jv1h09ZbEW"
      },
      "source": [
        "c = np.concatenate((a, b))\n",
        "print(c)"
      ],
      "execution_count": null,
      "outputs": []
    },
    {
      "cell_type": "markdown",
      "metadata": {
        "id": "HHKe7Ak1Voip"
      },
      "source": [
        "세 개 이상의 배열을 연결할 수도 있다."
      ]
    },
    {
      "cell_type": "code",
      "metadata": {
        "id": "teqI60WvOym6"
      },
      "source": [
        "d = np.concatenate((a, b, c))\n",
        "print(d)"
      ],
      "execution_count": null,
      "outputs": []
    },
    {
      "cell_type": "markdown",
      "metadata": {
        "id": "v_dfgDafZbEc"
      },
      "source": [
        "axis 인수를 설정하여 연결 방향을 정할 수 있다."
      ]
    },
    {
      "cell_type": "code",
      "metadata": {
        "id": "nvZ-BMQHZbEc"
      },
      "source": [
        "e = np.concatenate((a, d.T), axis=1)\n",
        "print(e)"
      ],
      "execution_count": null,
      "outputs": []
    },
    {
      "cell_type": "markdown",
      "metadata": {
        "id": "a_YO44Or_7u9"
      },
      "source": [
        "#### numpy.vstack(), numpy.hstack()"
      ]
    },
    {
      "cell_type": "markdown",
      "metadata": {
        "id": "5oYWZgtHAAqG"
      },
      "source": [
        "수직(vertical) 또는 수평(horizontal) 방향으로 다차원 배열을 추가한다."
      ]
    },
    {
      "cell_type": "code",
      "metadata": {
        "id": "jTTW_kpaAFT4"
      },
      "source": [
        "a = np.array([[1, 2], [3, 4]])\n",
        "b = np.array([[5, 6], [7, 8]])\n",
        "print(a, \"\\n\")\n",
        "print(b, \"\\n\")\n",
        "\n",
        "c = np.vstack((a, b)) # 수직 방향으로 추가\n",
        "print(c, \"\\n\")\n",
        "d = np.hstack((a, b)) # 수평 방향으로 추가\n",
        "print(d)"
      ],
      "execution_count": null,
      "outputs": []
    },
    {
      "cell_type": "markdown",
      "metadata": {
        "id": "RlNy_-rOKWsE"
      },
      "source": [
        "`vstack()` 함수의 경우, `concatenate()` 함수와 다르게, 차원 수가 달라도 조작할 수 있다."
      ]
    },
    {
      "cell_type": "code",
      "metadata": {
        "id": "2mw_W1HjKWA6"
      },
      "source": [
        "a = np.array([[1, 2], [3, 4]]) # 2차원 배열\n",
        "b = np.array([5, 6]) # 1차원 배열\n",
        "print(a, \"\\n\")\n",
        "print(b, \"\\n\")\n",
        "\n",
        "c = np.vstack((a, b)) # 수직 방향으로 추가\n",
        "print(c, \"\\n\")"
      ],
      "execution_count": null,
      "outputs": []
    },
    {
      "cell_type": "markdown",
      "metadata": {
        "id": "Q9uvCS8jLiJe"
      },
      "source": [
        "#### numpy.column_stack(), numpy.row_stack()"
      ]
    },
    {
      "cell_type": "markdown",
      "metadata": {
        "id": "Qt2gsYhzLolk"
      },
      "source": [
        "열, 행으로써 다차원 배열을 추가한다."
      ]
    },
    {
      "cell_type": "code",
      "metadata": {
        "id": "SxYZHZz1L4Jg"
      },
      "source": [
        "a = np.array([1, 2])\n",
        "b = np.array([100, 200])\n",
        "print(a, \"\\n\")\n",
        "print(b, \"\\n\")\n",
        "\n",
        "c = np.column_stack((a, b))\n",
        "print(c, \"\\n\")\n",
        "d = np.row_stack((a, b))\n",
        "print(d)"
      ],
      "execution_count": null,
      "outputs": []
    },
    {
      "cell_type": "markdown",
      "metadata": {
        "id": "XGICg0BeML66"
      },
      "source": [
        "`column_stack()` 함수의 경우, *2차원 배열*에 대해서 `hstack()` 함수와 동일하게 동작한다."
      ]
    },
    {
      "cell_type": "code",
      "metadata": {
        "id": "rbB3Ybg1MYDw"
      },
      "source": [
        "a = np.array([[1, 2], [3, 4]])\n",
        "b = np.array([[11, 12], [13, 14]])\n",
        "print(a, \"\\n\")\n",
        "print(b, \"\\n\")\n",
        "\n",
        "c = np.column_stack((a, b))\n",
        "print(c, \"\\n\")\n",
        "d = np.hstack((a, b))\n",
        "print(d)"
      ],
      "execution_count": null,
      "outputs": []
    },
    {
      "cell_type": "markdown",
      "metadata": {
        "id": "eQ26YANnNBim"
      },
      "source": [
        "`row_stack()` 함수의 경우, 항상 `vstack()` 함수와 동일하게 동작한다."
      ]
    },
    {
      "cell_type": "code",
      "metadata": {
        "id": "BfrQXoWMNK4X"
      },
      "source": [
        "a = np.array([[1, 2], [3, 4]])\n",
        "b = np.array([100, 200])\n",
        "print(a, \"\\n\")\n",
        "print(b, \"\\n\")\n",
        "\n",
        "c = np.row_stack((a, b))\n",
        "print(c, \"\\n\")\n",
        "d = np.vstack((a, b))\n",
        "print(d)"
      ],
      "execution_count": null,
      "outputs": []
    },
    {
      "cell_type": "markdown",
      "metadata": {
        "id": "7xDKoymKN_ae"
      },
      "source": [
        "### <font color=\"red\">1-3. 다차원 배열 분할</font>"
      ]
    },
    {
      "cell_type": "markdown",
      "metadata": {
        "id": "kVKnSov_WDrD"
      },
      "source": [
        "#### numpy.split(), numpy.array_split()"
      ]
    },
    {
      "cell_type": "markdown",
      "metadata": {
        "id": "iIxMUI4cWHRY"
      },
      "source": [
        "다차원 배열을 행 또는 열에 대해서 분할할 수 있다. 함수를 실행한 결과, 분할된 부분 배열들을 python list에 담아서 반환한다."
      ]
    },
    {
      "cell_type": "code",
      "metadata": {
        "id": "6TJW84ADWL1H"
      },
      "source": [
        "x = np.arange(36).reshape(6, 6)\n",
        "print(x, \"\\n\")\n",
        "\n",
        "y_list = np.split(x, 3, axis=0) # 행을 나눠서 총 3개의 다차원 배열 생성\n",
        "for y in y_list:\n",
        "    print(y, \"\\n\")\n",
        "\n",
        "# y_list = np.split(x, 3, axis=1) # 열을 나눠서 총 3개의 다차원 배열 생성\n",
        "# for y in y_list:\n",
        "#     print(y, \"\\n\")\n",
        "\n",
        "# y_list = np.split(x, (1, 5), axis=0) # 첫 번째, 다섯 번째 행에서 나누기\n",
        "# for y in y_list:\n",
        "#     print(y, \"\\n\")\n",
        "\n",
        "# y_list = np.split(x, (1, 5), axis=1) # 첫 번째, 다섯 번째 열에서 나누기\n",
        "# for y in y_list:\n",
        "#     print(y, \"\\n\")"
      ],
      "execution_count": null,
      "outputs": []
    },
    {
      "cell_type": "markdown",
      "metadata": {
        "id": "e-1TOlIPYV5K"
      },
      "source": [
        "`array_split()` 함수는 기본적으로 `split()` 함수와 동일하게 동작한다."
      ]
    },
    {
      "cell_type": "code",
      "metadata": {
        "id": "894ttKQcWo8I"
      },
      "source": [
        "x = np.arange(36).reshape(6, 6)\n",
        "print(x, \"\\n\")\n",
        "\n",
        "y_list = np.array_split(x, 3, axis=0) # 행을 나눠서 총 3개의 다차원 배열 생성\n",
        "for y in y_list:\n",
        "    print(y, \"\\n\")\n",
        "\n",
        "# y_list = np.array_split(x, 3, axis=1) # 열을 나눠서 총 3개의 다차원 배열 생성\n",
        "# for y in y_list:\n",
        "#     print(y, \"\\n\")\n",
        "\n",
        "# y_list = np.array_split(x, (1, 5), axis=0) # 첫 번째, 다섯 번째 행에서 나누기\n",
        "# for y in y_list:\n",
        "#     print(y, \"\\n\")\n",
        "\n",
        "# y_list = np.array_split(x, (1, 5), axis=1) # 첫 번째, 다섯 번째 열에서 나누기\n",
        "# for y in y_list:\n",
        "#     print(y, \"\\n\")"
      ],
      "execution_count": null,
      "outputs": []
    },
    {
      "cell_type": "markdown",
      "metadata": {
        "id": "_SU6toQEZDqV"
      },
      "source": [
        "`split()` 함수는 균등하게 분리할 수 없는 경우, 오류가 발생한다."
      ]
    },
    {
      "cell_type": "code",
      "metadata": {
        "id": "CkrfQGCMZHnF"
      },
      "source": [
        "x = np.arange(8)\n",
        "print(x, \"\\n\")\n",
        "\n",
        "# y_list = np.split(x, 3) # 8개의 요소를 균등하게 3분할 불가\n",
        "# for y in y_list:\n",
        "#     print(y, \"\\n\")"
      ],
      "execution_count": null,
      "outputs": []
    },
    {
      "cell_type": "markdown",
      "metadata": {
        "id": "udJMc8DRZj-L"
      },
      "source": [
        "`array_split()` 함수는 균등하게 분리할 수 없어도, 적절히 처리된다."
      ]
    },
    {
      "cell_type": "code",
      "metadata": {
        "id": "n0qif71nZbvJ"
      },
      "source": [
        "x = np.arange(8)\n",
        "print(x, \"\\n\")\n",
        "\n",
        "y_list = np.array_split(x, 3) # 8개의 요소를 3개, 3개, 2개로 분할\n",
        "for y in y_list:\n",
        "    print(y, \"\\n\")"
      ],
      "execution_count": null,
      "outputs": []
    },
    {
      "cell_type": "markdown",
      "metadata": {
        "id": "QEfnK186OS-0"
      },
      "source": [
        "#### numpy.hsplit(), numpy.vsplit()"
      ]
    },
    {
      "cell_type": "markdown",
      "metadata": {
        "id": "ACnntNj3QJAz"
      },
      "source": [
        "`hsplit()`은 다차원 배열을 열에서 분할한다."
      ]
    },
    {
      "cell_type": "code",
      "metadata": {
        "id": "NK4l7CpnPmLI"
      },
      "source": [
        "x = np.concatenate((np.full((3, 3), 1), np.full((3, 3), 2), np.full((3, 3), 3)), axis=1)\n",
        "print(a, \"\\n\")\n",
        "\n",
        "y_list = np.hsplit(x, 3) # 열을 나눠서 총 3개의 다차원 배열 생성\n",
        "for y in y_list:\n",
        "    print(y, \"\\n\")\n",
        "\n",
        "# y_list = np.hsplit(x, (4, 5)) # 네 번째, 다섯 번째 열에서 나누기\n",
        "# for y in y_list:\n",
        "#     print(y, \"\\n\")"
      ],
      "execution_count": null,
      "outputs": []
    },
    {
      "cell_type": "markdown",
      "metadata": {
        "id": "DTcrT27NR1CZ"
      },
      "source": [
        "`vsplit()`은 다차원 배열을 행에서 분할한다."
      ]
    },
    {
      "cell_type": "code",
      "metadata": {
        "id": "PvVnSTOwR2bt"
      },
      "source": [
        "x = np.concatenate((np.full((3, 3), 1), np.full((3, 3), 2), np.full((3, 3), 3)))\n",
        "print(a, \"\\n\")\n",
        "\n",
        "y_list = np.vsplit(x, 3) # 행을 나눠서 총 3개의 다차원 배열 생성\n",
        "for y in y_list:\n",
        "    print(y, \"\\n\")\n",
        "\n",
        "# y_list = np.vsplit(x, (4, 5)) # 네 번째, 다섯 번째 행에서 나누기\n",
        "# for y in y_list:\n",
        "#     print(y, \"\\n\")"
      ],
      "execution_count": null,
      "outputs": []
    },
    {
      "cell_type": "markdown",
      "metadata": {
        "id": "J3IF7GKBZbD6"
      },
      "source": [
        "## <font color=\"green\">2. 전치(transpose)</font>"
      ]
    },
    {
      "cell_type": "markdown",
      "metadata": {
        "id": "63F6QYDZjSru"
      },
      "source": [
        "#### np.transpose() 혹은 np.ndarray.transpose() 혹은 np.ndarray.T"
      ]
    },
    {
      "cell_type": "markdown",
      "metadata": {
        "id": "ao-XF01jI1lC"
      },
      "source": [
        "\n",
        "전치는 기존 행렬의 행과 열을 교환하는 것, 즉 주대각선을 기준으로 반사 대칭하는 것을 말한다."
      ]
    },
    {
      "cell_type": "code",
      "metadata": {
        "id": "JW9Q45VKZbD8"
      },
      "source": [
        "x = np.array([[1, 2, 3], [4, 5, 6], [7, 8, 9]])\n",
        "print(x)"
      ],
      "execution_count": null,
      "outputs": []
    },
    {
      "cell_type": "code",
      "metadata": {
        "id": "zfprAJl2ZbD-"
      },
      "source": [
        "print(np.transpose(x))\n",
        "# print(x.transpose())\n",
        "# print(x.T)"
      ],
      "execution_count": null,
      "outputs": []
    },
    {
      "cell_type": "markdown",
      "metadata": {
        "id": "QApz8bx1I-wH"
      },
      "source": [
        "1차원 배열을 전치할 경우, 결과 배열은 원본 배열과 동일하다."
      ]
    },
    {
      "cell_type": "code",
      "metadata": {
        "id": "-q3M8KlaZbD_"
      },
      "source": [
        "y = x.flatten()\n",
        "print(y, y.ndim)"
      ],
      "execution_count": null,
      "outputs": []
    },
    {
      "cell_type": "code",
      "metadata": {
        "id": "MqLmOxUoZbED"
      },
      "source": [
        "print(y.T, y.T.ndim)"
      ],
      "execution_count": null,
      "outputs": []
    },
    {
      "cell_type": "markdown",
      "metadata": {
        "id": "VHG1yNHR0WAl"
      },
      "source": [
        "#### np.moveaxis(), np.swapaxes()"
      ]
    },
    {
      "cell_type": "markdown",
      "metadata": {
        "id": "XwF5ut9a0h7l"
      },
      "source": [
        "`moveaxis()` 함수는 특정 축을 지정해서 다른 위치로 이동한다."
      ]
    },
    {
      "cell_type": "code",
      "metadata": {
        "id": "9OOeYMxfilw4"
      },
      "source": [
        "x = np.empty((3, 4, 5))\n",
        "print(x.shape)"
      ],
      "execution_count": null,
      "outputs": []
    },
    {
      "cell_type": "code",
      "metadata": {
        "id": "ScnDEQJf3tUD"
      },
      "source": [
        "y = np.moveaxis(x, 0, 1) # 0번 인덱스 축을 지정해서 1번 인덱스 축으로 이동\n",
        "print(y.shape)\n",
        "\n",
        "z = np.moveaxis(x, 0, -1) # 0번 인덱스 축을 지정해서 -1번(맨 뒤) 인덱스 축으로 이동\n",
        "print(z.shape)"
      ],
      "execution_count": null,
      "outputs": []
    },
    {
      "cell_type": "markdown",
      "metadata": {
        "id": "8DGXDJgt22Am"
      },
      "source": [
        "`swapaxes()` 함수는 두 축을 지정해서 위치를 서로 바꾼다."
      ]
    },
    {
      "cell_type": "code",
      "metadata": {
        "id": "Ller5V7k29TW"
      },
      "source": [
        "x = np.empty((3, 4, 5))\n",
        "print(x.shape)"
      ],
      "execution_count": null,
      "outputs": []
    },
    {
      "cell_type": "code",
      "metadata": {
        "id": "K4JCPgDi3uoW"
      },
      "source": [
        "y = np.swapaxes(x, 0, 1) # 0번 인덱스 축을 지정해서 1번 인덱스 축과 서로 교체\n",
        "print(y.shape)\n",
        "\n",
        "z = np.swapaxes(x, 0, -1) # 0번 인덱스 축을 지정해서 -1번(맨 뒤) 인덱스 축과 서로 교체\n",
        "print(z.shape)"
      ],
      "execution_count": null,
      "outputs": []
    },
    {
      "cell_type": "markdown",
      "metadata": {
        "id": "p2gSJL6C3NSR"
      },
      "source": [
        "`moveaxis()` 함수 또는 `swapaxes()` 함수를 이용하면 전치한 것과 같은 효과를 얻을 수 있다."
      ]
    },
    {
      "cell_type": "code",
      "metadata": {
        "id": "g8GT3NVr3YO8"
      },
      "source": [
        "x = np.array([[1, 1, 1], [10, 10, 10], [100, 100, 100]])\n",
        "print(x, \"\\n\")"
      ],
      "execution_count": null,
      "outputs": []
    },
    {
      "cell_type": "code",
      "metadata": {
        "collapsed": true,
        "id": "Gel9i6gV3vmx"
      },
      "source": [
        "y = np.moveaxis(x, 0, 1)\n",
        "# y = np.swapaxes(x, 0, 1)\n",
        "print(y)"
      ],
      "execution_count": null,
      "outputs": []
    },
    {
      "cell_type": "markdown",
      "metadata": {
        "id": "hXk1y8RmcVOn"
      },
      "source": [
        "## <font color=\"green\">3. random 모듈</font>"
      ]
    },
    {
      "cell_type": "markdown",
      "metadata": {
        "id": "03GXss2FcuZf"
      },
      "source": [
        "#### np.random.random()"
      ]
    },
    {
      "cell_type": "markdown",
      "metadata": {
        "id": "x3_pqQVR1fAQ"
      },
      "source": [
        "> 0 이상 1 미만의 임의의 실수를 만든다. shape를 전달하면 그 크기에 맞는 다차원 배열을 생성한다."
      ]
    },
    {
      "cell_type": "code",
      "metadata": {
        "id": "BfHOSD7wdZBn"
      },
      "source": [
        "a = np.random.random() # 난수 1개 생성\n",
        "print(a)\n",
        "\n",
        "b = np.random.random(3) # 1차원 배열 생성\n",
        "print(b)\n",
        "\n",
        "c = np.random.random((3, 4)) # 2차원 배열을 만들 때 튜플 형태로 전달\n",
        "print(c)"
      ],
      "execution_count": null,
      "outputs": []
    },
    {
      "cell_type": "markdown",
      "metadata": {
        "id": "u3QQlwu5hc2E"
      },
      "source": [
        "#### np.random.rand()"
      ]
    },
    {
      "cell_type": "markdown",
      "metadata": {
        "id": "kCqkl5Uw1i9Y"
      },
      "source": [
        "> 0 이상 1 미만의 임의의 실수를 만든다. shape를 전달하면 그 크기에 맞는 다차원 배열을 생성한다."
      ]
    },
    {
      "cell_type": "code",
      "metadata": {
        "id": "s5d4tW0ahpUK"
      },
      "source": [
        "a = np.random.rand() # 난수 1개 생성\n",
        "print(a)\n",
        "\n",
        "b = np.random.rand(3) # 1차원 배열 생성\n",
        "print(b)\n",
        "\n",
        "c = np.random.rand(3, 4) # 2차원 배열을 만들 때 두 개의 인수를 전달\n",
        "print(c)"
      ],
      "execution_count": null,
      "outputs": []
    },
    {
      "cell_type": "markdown",
      "metadata": {
        "id": "9miuc1jViifh"
      },
      "source": [
        "#### np.random.randn()"
      ]
    },
    {
      "cell_type": "markdown",
      "metadata": {
        "id": "c5cGhoNP1oa0"
      },
      "source": [
        "> 0에 근사한 임의의 실수를 만든다. shape를 전달하면 그 크기에 맞는 다차원 배열을 생성한다."
      ]
    },
    {
      "cell_type": "code",
      "metadata": {
        "id": "0rPNWVBTiml6"
      },
      "source": [
        "a = np.random.randn() # 난수 1개 생성\n",
        "print(a)\n",
        "\n",
        "b = np.random.randn(3) # 1차원 배열 생성\n",
        "print(b)\n",
        "\n",
        "c = np.random.randn(3, 4) # 2차원 배열을 만들 때 두 개의 인수를 전달\n",
        "print(c)"
      ],
      "execution_count": null,
      "outputs": []
    },
    {
      "cell_type": "markdown",
      "metadata": {
        "id": "GqtWZvmqitvJ"
      },
      "source": [
        "`rand()` 함수는 균일 분포를 따르고, `randn()` 함수는 평균이 0, 표준 편차가 1인 표준 정규 분포를 따른다."
      ]
    },
    {
      "cell_type": "code",
      "metadata": {
        "id": "bXUiKiQXi7rN"
      },
      "source": [
        "a = np.random.rand(100, 100)\n",
        "print(a)\n",
        "print(a.mean()) # 0.5에 근사한 평균\n",
        "b = np.random.randn(100, 100)\n",
        "print(b)\n",
        "print(b.mean()) # 0.0에 근사한 평균"
      ],
      "execution_count": null,
      "outputs": []
    },
    {
      "cell_type": "markdown",
      "metadata": {
        "id": "3HdYjjX5ebPQ"
      },
      "source": [
        "#### np.random.randint()"
      ]
    },
    {
      "cell_type": "markdown",
      "metadata": {
        "id": "GKBQdJ041r_U"
      },
      "source": [
        "> 주어진 범위의 임의의 정수를 만든다."
      ]
    },
    {
      "cell_type": "code",
      "metadata": {
        "id": "IAvYJ37kernC"
      },
      "source": [
        "a = np.random.randint(3) # 0 이상 3 미만의 임의의 정수 1개 생성\n",
        "print(a)\n",
        "\n",
        "b = np.random.randint(2, 5) # 2 이상 5 미만의 임의의 정수 1개 생성\n",
        "print(b)\n",
        "\n",
        "c = np.random.randint(1, 46, 6) # 1 이상 46 미만의 임의의 정수 6개 생성\n",
        "print(c)\n",
        "\n",
        "d = np.random.randint(0, 100, (100, 100)) # 0 이상 100 미만의 임의의 정수로 이루어진 100행 100열의 2차원 배열 생성\n",
        "print(d)"
      ],
      "execution_count": null,
      "outputs": []
    }
  ]
}