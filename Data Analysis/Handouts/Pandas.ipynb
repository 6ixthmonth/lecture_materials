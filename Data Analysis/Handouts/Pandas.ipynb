{
  "nbformat": 4,
  "nbformat_minor": 0,
  "metadata": {
    "colab": {
      "name": "Pandas_강의_자료.ipynb",
      "provenance": [],
      "collapsed_sections": [
        "31khrO09Za_B",
        "zUv2EaIhXc5A",
        "YSBDZ1B2Zflt",
        "mLAueOfQxRyn",
        "mQld0yHcZa_D",
        "DVFYCHIeZa_D",
        "e2AaGhwMZa_V",
        "dEJt4qzJBenj",
        "nUkjayhjI9eb",
        "oKHabGmfdUbO",
        "PhdU3qWWBkW4",
        "2EI3gyrL20fE",
        "_Sy_fGmRJFu6",
        "A5ST6DHf2oeW",
        "7CdZvFfUD7zV",
        "-G0aA8_joEzb",
        "FC8ZGTTKqALn",
        "4J1I-9zq6hNQ",
        "AvCKKvWG8Z7V",
        "YYEPYr-13gTJ",
        "91bzBNRKhKCS",
        "waOcd7cbKFhK",
        "giFTlUwJLBa-",
        "Myow3pFBDj1H",
        "cJLUsFmxR6r-",
        "w0TZ3LukDfd6",
        "_yLjUq3dgTjc",
        "3u2Er2Z3gEzW",
        "X612j4vgQ585",
        "-s1gWcXbR9pc",
        "4bJBTDK9Q-uo",
        "JX-2dm0y2BS5",
        "sHvEoHb6CIKe",
        "fNXsK7WanxEz",
        "4xyLee6YnhL5",
        "V22u6Ad0op1O",
        "0cEsclqGpDCj",
        "tUEp0AoBA_zB",
        "O5iUpfqb3cBh",
        "tohFGDC41Ldt",
        "_uwUE-4k9EbX",
        "f9rN39eF3N5L",
        "5coTfR913SFs",
        "U69Wy9WCVCGs",
        "NutzwAJIFjSK",
        "uD3xxnZaVzsZ",
        "iKPYvJPJGOh1",
        "m6RzDL-4dUZd",
        "hRsso6xeVRdp",
        "FmyUkeqdHQJq",
        "gPQAjnr0RDWG",
        "Gl9SJl4LS-3z"
      ]
    },
    "language_info": {
      "codemirror_mode": {
        "name": "ipython",
        "version": 3
      },
      "file_extension": ".py",
      "mimetype": "text/x-python",
      "name": "python",
      "nbconvert_exporter": "python",
      "pygments_lexer": "ipython3",
      "version": "3.7.3"
    },
    "kernelspec": {
      "name": "python3",
      "display_name": "Python 3"
    }
  },
  "cells": [
    {
      "cell_type": "markdown",
      "metadata": {
        "id": "31khrO09Za_B"
      },
      "source": [
        "# ![title](https://upload.wikimedia.org/wikipedia/commons/e/ed/Pandas_logo.svg)"
      ]
    },
    {
      "cell_type": "markdown",
      "metadata": {
        "id": "W8c7HMXBZa_C"
      },
      "source": [
        "`pandas`는 데이터 분석/조작 도구를 제공하는 오픈소스 Python 패키지다.\n",
        "특히 **관계형(Relational)** 구조를 가지는 데이터를 보다 쉽고 직관적으로 사용할 수 있도록 빠르고 유연하며 표현력이 뛰어난 기능을 다양하게 제공한다.\n",
        "\n",
        "> pandas로 다루기 적합한 데이터들은 다음과 같다.\n",
        "- SQL 테이블 또는 Excel 스프레드시트에서와 같은 유형의 테이블 형식 데이터\n",
        "- 정렬 및 정렬되지 않은 시계열(time series) 데이터\n",
        "- 행 및 열 레이블이 있는 임의의 행렬 데이터\n",
        "- 기타 모든 형태의 관찰/통계 데이터 세트"
      ]
    },
    {
      "cell_type": "markdown",
      "source": [
        "# <font color=\"blue\">pandas 특징</font>"
      ],
      "metadata": {
        "id": "zUv2EaIhXc5A"
      }
    },
    {
      "cell_type": "markdown",
      "source": [
        "- 핵심 기능이 Cython 코드를 통해 조정되어 매우 빠른 성능을 나타낸다.\n",
        "- 두 가지 기본 데이터 구조인 Series(1차원) 및 DataFrame(2차원)을 지원하며, 이는 금융, 통계, 사회 과학 및 엔지니어링 등 많은 영역에서 대부분의 일반적인 사용 사례를 처리할 수 있다.\n",
        "- R과 결합해서 R DataFrame으로 사용할 수 있다.\n",
        "- NumPy 기반으로 구축되어 데이터 사이언스 분야의 다른 라이브러리와 연동/결합해서 사용하기 쉽도록 고안되어 있다."
      ],
      "metadata": {
        "id": "XfLVeXJeXelo"
      }
    },
    {
      "cell_type": "markdown",
      "source": [
        "# <font color=\"blue\">pandas 주요 기능</font>"
      ],
      "metadata": {
        "id": "YSBDZ1B2Zflt"
      }
    },
    {
      "cell_type": "markdown",
      "source": [
        "- 누락된 데이터(missing data, missing value)를 쉽게 처리할 수 있다.\n",
        "- 크기 가변성: 기존의 객체에 같은 차원 또는 더 높은 차원의 객체를 쉽게 적용시킬 수 있고, 또한 새로운 열을 삽입하거나 기존 열을 삭제하는 것도 쉽게 가능하다.\n",
        "- 자동 및 명시적 데이터 정렬: 레이블(label)을 부여해서 데이터를 명시적으로 정렬하거나, 계산을 통해 자동으로 데이터를 정렬하는 기능을 제공한다.\n",
        "- 데이터 집계 및 변환을 위해 데이터 세트에 대해 분할-적용-결합 작업을 수행 하는 강력하고 유연한 기능별 그룹화 기능을 제공한다.\n",
        "- 다른 Python 및 NumPy 데이터 구조를 가지는 데이터를 쉽게 불러올 수 있다.\n",
        "- 레이블 또는 데이터 기반의 인덱싱, 슬라이싱 기능을 제공하며 하위 데이터 세트 집합을 쉽게 생성할 수 있다.\n",
        "- 데이터 세트의 병합 및 결합, 분리와 분할이 직관적이다.\n",
        "- 기존 데이터 세트를 유연하게 재구성하거나 피벗 형태를 취할 수 있다.\n",
        "- 각 축에 대해 계층적 레이블을 지정할 수 있다.\n",
        "- CSV, Excel, HDF5 파일 및 데이터베이스에서 데이터를 불러오거나 저장할 수 있다.\n",
        "- 시계열 관련 기능: 날짜 범위 생성 및 빈도 변환, 창 통계 이동, 날짜 이동 및 지연 등."
      ],
      "metadata": {
        "id": "35_k_gYhZfth"
      }
    },
    {
      "cell_type": "markdown",
      "metadata": {
        "id": "mLAueOfQxRyn"
      },
      "source": [
        "# <font color=\"blue\">pandas 불러오기</font>"
      ]
    },
    {
      "cell_type": "markdown",
      "metadata": {
        "id": "R2SSexQTxqwN"
      },
      "source": [
        "pandas는 일반적으로 pd라는 별칭으로 불러온다."
      ]
    },
    {
      "cell_type": "code",
      "metadata": {
        "id": "DIjxiKf3xhGA"
      },
      "source": [
        "import pandas as pd\n",
        "\n",
        "print(pd.__version__)"
      ],
      "execution_count": null,
      "outputs": []
    },
    {
      "cell_type": "markdown",
      "metadata": {
        "id": "mQld0yHcZa_D"
      },
      "source": [
        "# <font color=\"blue\">pandas에서 사용하는 자료 구조</font>"
      ]
    },
    {
      "cell_type": "markdown",
      "metadata": {
        "id": "k6ezUzzlwbCH"
      },
      "source": [
        "pandas에서는 다음과 같은 자료 구조를 사용한다.\n",
        "\n",
        "*   시리즈(Series)\n",
        "*   데이터프레임(DataFrame)"
      ]
    },
    {
      "cell_type": "markdown",
      "metadata": {
        "id": "DVFYCHIeZa_D"
      },
      "source": [
        "## <font color=\"green\">1. 시리즈(Series)</font>"
      ]
    },
    {
      "cell_type": "markdown",
      "metadata": {
        "id": "-NO0MpeFZa_E"
      },
      "source": [
        "시리즈는 1차원 배열과 유사하게 사용할 수 있다.\n",
        "\n",
        "list 등의 객체를 전달하여 시리즈 객체를 생성할 수 있다."
      ]
    },
    {
      "cell_type": "code",
      "metadata": {
        "id": "EzWM2AgtZa_F"
      },
      "source": [
        "num_list = [2, 3, 5, 7, 11]\n",
        "sr = pd.Series(num_list)\n",
        "\n",
        "print(sr)\n",
        "print(type(sr))"
      ],
      "execution_count": null,
      "outputs": []
    },
    {
      "cell_type": "markdown",
      "metadata": {
        "id": "AUNj4X7HZa_R"
      },
      "source": [
        "list 내 각각의 요소에 대해서 인덱스가 0부터 차례대로 부여되어 시리즈 객체를 출력할 때 자동으로 표시된다.\n",
        "\n",
        "혹은 인덱스를 직접 입력할 수도 있다."
      ]
    },
    {
      "cell_type": "code",
      "metadata": {
        "id": "npXlajoJzsTr"
      },
      "source": [
        "menu_list = [\"토스트\", \"제육볶음\", \"치킨\"]\n",
        "index_list = [\"아침\", \"점심\", \"저녁\"]\n",
        "sr = pd.Series(menu_list, index_list)\n",
        "\n",
        "print(sr)"
      ],
      "execution_count": null,
      "outputs": []
    },
    {
      "cell_type": "markdown",
      "metadata": {
        "id": "c6fk8A6X3BoX"
      },
      "source": [
        "인덱스나 값만 추출할 수도 있다."
      ]
    },
    {
      "cell_type": "code",
      "metadata": {
        "id": "bTd0Zq1r3FH4"
      },
      "source": [
        "print(sr.index)\n",
        "print(sr.values)\n",
        "# print(type(sr.values))"
      ],
      "execution_count": null,
      "outputs": []
    },
    {
      "cell_type": "markdown",
      "metadata": {
        "id": "e2AaGhwMZa_V"
      },
      "source": [
        "## <font color=\"green\">2. 데이터프레임(DataFrame)</font>"
      ]
    },
    {
      "cell_type": "markdown",
      "metadata": {
        "id": "cirugbQaZa_W"
      },
      "source": [
        "데이터프레임은 2차원 배열과 유사하게 사용할 수 있다.\n",
        "\n",
        "중첩 list 등의 객체를 전달하여 데이터프레임 객체를 생성할 수 있다."
      ]
    },
    {
      "cell_type": "code",
      "metadata": {
        "scrolled": true,
        "id": "Se9zrzTSZa_X"
      },
      "source": [
        "nums = [[1, 2, 3], [4, 5, 6], [7, 8, 9]]\n",
        "df = pd.DataFrame(nums)\n",
        "\n",
        "print(df)\n",
        "print(type(df))"
      ],
      "execution_count": null,
      "outputs": []
    },
    {
      "cell_type": "markdown",
      "metadata": {
        "id": "A4ceFrTaZa_a"
      },
      "source": [
        "마찬가지로 list 내 각각의 요소에 대해서 인덱스가 0부터 차례대로 부여되어 시리즈 객체를 출력할 때 자동으로 표시된다.\n",
        "\n",
        "또한 인덱스를 직접 입력할 수도 있다."
      ]
    },
    {
      "cell_type": "code",
      "metadata": {
        "id": "UP9qgRzyZa_e"
      },
      "source": [
        "menu = [[\"토스트\", \"시리얼\", \"스크램블드에그\"], [\"제육볶음\", \"칼국수\", \"육개장\"], [\"치킨\", \"삼겹살\", \"라면\"]]\n",
        "index = [\"아침\", \"점심\", \"저녁\"]\n",
        "columns = [\"월\", \"화\", \"수\"]\n",
        "df = pd.DataFrame(menu, index, columns)\n",
        "\n",
        "print(df)"
      ],
      "execution_count": null,
      "outputs": []
    },
    {
      "cell_type": "markdown",
      "metadata": {
        "id": "U_egCVdy3Yvl"
      },
      "source": [
        "인덱스나 값만 추출할 수도 있다."
      ]
    },
    {
      "cell_type": "code",
      "metadata": {
        "id": "EqzgWPSB3eL7"
      },
      "source": [
        "print(df.index)\n",
        "print(df.columns)\n",
        "print(df.values)\n",
        "# print(type(df.values))"
      ],
      "execution_count": null,
      "outputs": []
    },
    {
      "cell_type": "markdown",
      "metadata": {
        "id": "dEJt4qzJBenj"
      },
      "source": [
        "# <font color=\"blue\">데이터 조회 및 처리</font>"
      ]
    },
    {
      "cell_type": "code",
      "metadata": {
        "id": "2Th98vgNXb0M"
      },
      "source": [
        "import numpy as np\n",
        "import pandas as pd\n",
        "\n",
        "arr = np.random.randint(100, size=(10, 10))\n",
        "df = pd.DataFrame(arr, index=list(\"ABCDEFGHIJ\"), columns=list(\"abcdefghij\"))\n",
        "display(df)"
      ],
      "execution_count": null,
      "outputs": []
    },
    {
      "cell_type": "markdown",
      "metadata": {
        "id": "nUkjayhjI9eb"
      },
      "source": [
        "## <font color=\"green\">간략한 데이터 조회</font>"
      ]
    },
    {
      "cell_type": "markdown",
      "metadata": {
        "id": "oKHabGmfdUbO"
      },
      "source": [
        "### df.컬럼명"
      ]
    },
    {
      "cell_type": "markdown",
      "metadata": {
        "id": "0Mgp9djpd82Q"
      },
      "source": [
        "컬럼의 라벨을 이용해서 특정 열을 선택할 수 있다.\n",
        "\n",
        "데이터프레임 객체를 생성할 때 컬럼명에 대한 요소 또한 생성되기 때문에 변수를 호출하듯이 사용할 수 있다."
      ]
    },
    {
      "cell_type": "code",
      "metadata": {
        "id": "neaKGMS1eC31"
      },
      "source": [
        "df.a\n",
        "print(type(df.a))"
      ],
      "execution_count": null,
      "outputs": []
    },
    {
      "cell_type": "markdown",
      "metadata": {
        "id": "PhdU3qWWBkW4"
      },
      "source": [
        "### df.head(), df.tail()"
      ]
    },
    {
      "cell_type": "markdown",
      "metadata": {
        "id": "B6Lq7JvoCXj-"
      },
      "source": [
        "위(아래)에서부터 n개의 행을 선택한다.\n",
        "\n",
        "숫자를 전달하지 않으면 5개의 행을 선택한다."
      ]
    },
    {
      "cell_type": "code",
      "metadata": {
        "id": "4-NoMBVhCOOc"
      },
      "source": [
        "df.head(2)"
      ],
      "execution_count": null,
      "outputs": []
    },
    {
      "cell_type": "code",
      "metadata": {
        "id": "SuZRtmeCxgHm"
      },
      "source": [
        "df.tail(3)"
      ],
      "execution_count": null,
      "outputs": []
    },
    {
      "cell_type": "code",
      "metadata": {
        "id": "6WZdAcxVxmg8"
      },
      "source": [
        "df.head()"
      ],
      "execution_count": null,
      "outputs": []
    },
    {
      "cell_type": "code",
      "metadata": {
        "id": "qbE3bCrLxohk"
      },
      "source": [
        "df.tail()"
      ],
      "execution_count": null,
      "outputs": []
    },
    {
      "cell_type": "markdown",
      "metadata": {
        "id": "2EI3gyrL20fE"
      },
      "source": [
        "## <font color=\"green\">인덱싱, 슬라이싱</font>"
      ]
    },
    {
      "cell_type": "code",
      "metadata": {
        "id": "dV6M0MaxLsDR"
      },
      "source": [
        "display(df)"
      ],
      "execution_count": null,
      "outputs": []
    },
    {
      "cell_type": "markdown",
      "metadata": {
        "id": "_Sy_fGmRJFu6"
      },
      "source": [
        "### 기본적인 인덱싱과 슬라이싱"
      ]
    },
    {
      "cell_type": "markdown",
      "metadata": {
        "id": "I5hSJRTz9cVs"
      },
      "source": [
        "**열**의 라벨을 이용해서 **인덱싱**을 할 수 있다."
      ]
    },
    {
      "cell_type": "code",
      "metadata": {
        "id": "YGYZjcN_3A8D"
      },
      "source": [
        "df[\"a\"] # df.a"
      ],
      "execution_count": null,
      "outputs": []
    },
    {
      "cell_type": "markdown",
      "metadata": {
        "id": "qLN6r9t_9gqC"
      },
      "source": [
        "**행**의 라벨을 이용해서 **슬라이싱**을 할 수 있다.\n",
        "\n",
        "이 때, 파이썬의 일반적인 슬라이싱과 다르게 마지막 요소까지 범위에 포함된다."
      ]
    },
    {
      "cell_type": "code",
      "metadata": {
        "id": "FUUx14-69j_C"
      },
      "source": [
        "df[\"A\":\"C\"]"
      ],
      "execution_count": null,
      "outputs": []
    },
    {
      "cell_type": "markdown",
      "metadata": {
        "id": "pPRp9lFk_QCs"
      },
      "source": [
        "열의 순서를 이용해서 인덱싱을 할 수 **없다.**"
      ]
    },
    {
      "cell_type": "code",
      "metadata": {
        "id": "00XNbdha-ryd"
      },
      "source": [
        "# df[0]"
      ],
      "execution_count": null,
      "outputs": []
    },
    {
      "cell_type": "markdown",
      "metadata": {
        "id": "zUfiKpZR_gcV"
      },
      "source": [
        "하지만 행의 순서를 이용해서 슬라이싱은 할 수 있다.\n",
        "\n",
        "이 때는 파이썬의 일반적인 슬라이싱 문법과 동일하다."
      ]
    },
    {
      "cell_type": "code",
      "metadata": {
        "id": "VTsFwn2_-VpQ"
      },
      "source": [
        "df[0:3]"
      ],
      "execution_count": null,
      "outputs": []
    },
    {
      "cell_type": "markdown",
      "metadata": {
        "id": "A5ST6DHf2oeW"
      },
      "source": [
        "### df.at, df.iat"
      ]
    },
    {
      "cell_type": "markdown",
      "metadata": {
        "id": "ucS_BKK62sFU"
      },
      "source": [
        "라벨 또는 인덱스를 이용해서 특정 위치의 데이터를 가져온다."
      ]
    },
    {
      "cell_type": "code",
      "metadata": {
        "id": "Vr-DNAdl2whs"
      },
      "source": [
        "df.at[\"B\", \"c\"]"
      ],
      "execution_count": null,
      "outputs": []
    },
    {
      "cell_type": "code",
      "metadata": {
        "id": "MY0Ykdeu3KTc"
      },
      "source": [
        "df.iat[4, 4]"
      ],
      "execution_count": null,
      "outputs": []
    },
    {
      "cell_type": "markdown",
      "metadata": {
        "id": "7CdZvFfUD7zV"
      },
      "source": [
        "### df.loc, df.iloc"
      ]
    },
    {
      "cell_type": "markdown",
      "metadata": {
        "id": "LLixT4aIEAAb"
      },
      "source": [
        "행과 열을 지정하여 데이터를 선택할 수 있다.\n",
        "\n",
        "*   df.loc[[행], [열]] : 행과 열의 라벨을 이용해서 데이터를 선택한다.\n",
        "*   df.iloc[[행], [열]] : 행과 열의 인덱스를 이용해서 데이터를 선택한다."
      ]
    },
    {
      "cell_type": "code",
      "metadata": {
        "id": "8Rtl8ZK_Ek2N"
      },
      "source": [
        "print(df.loc[\"A\", \"a\"])\n",
        "print(df.iloc[9, 9])"
      ],
      "execution_count": null,
      "outputs": []
    },
    {
      "cell_type": "markdown",
      "metadata": {
        "id": "49ok8VwPFIyQ"
      },
      "source": [
        "여러 개의 행과 열을 지정할 수도 있다.\n",
        "\n",
        "연속되지 않는 행과 열을 지정하거나 중복해서 지정할 수도 있다."
      ]
    },
    {
      "cell_type": "code",
      "metadata": {
        "id": "M7W1sKwJFMSH"
      },
      "source": [
        "df.loc[[\"E\", \"C\", \"A\"], [\"c\", \"c\", \"c\"]]"
      ],
      "execution_count": null,
      "outputs": []
    },
    {
      "cell_type": "markdown",
      "metadata": {
        "id": "k72hab-eGQhx"
      },
      "source": [
        "슬라이싱을 사용할 수 있다.\n",
        "\n",
        "df.loc의 경우, 인덱스명으로 슬라이싱을 하며 또한 슬라이싱 범위에 end 오프셋이 포함된다.\n",
        "\n",
        "df.iloc의 경우, 일반적인 슬라이싱 문법과 동일하다."
      ]
    },
    {
      "cell_type": "code",
      "metadata": {
        "id": "8CC_Z-rLG1si"
      },
      "source": [
        "df.loc[\"A\":\"E\", \"f\":\"j\"]"
      ],
      "execution_count": null,
      "outputs": []
    },
    {
      "cell_type": "code",
      "metadata": {
        "id": "j7-2cenqGTYX"
      },
      "source": [
        "df.iloc[0:5:2, 5:10:2]"
      ],
      "execution_count": null,
      "outputs": []
    },
    {
      "cell_type": "markdown",
      "metadata": {
        "id": "2EkTjVg8FvRY"
      },
      "source": [
        "인덱싱과 슬라이싱을 함께 사용할 수도 있다."
      ]
    },
    {
      "cell_type": "code",
      "metadata": {
        "id": "R0TUuSeQFxY1"
      },
      "source": [
        "df.loc[[\"H\", \"I\"], ::2]"
      ],
      "execution_count": null,
      "outputs": []
    },
    {
      "cell_type": "code",
      "metadata": {
        "id": "G-370Ki0HJpx"
      },
      "source": [
        "df.loc[\"E\":\"J\", [\"a\", \"b\", \"c\", \"c\", \"b\", \"a\"]]"
      ],
      "execution_count": null,
      "outputs": []
    },
    {
      "cell_type": "code",
      "metadata": {
        "id": "pwU_nYDA1HZL"
      },
      "source": [
        "df.iloc[[3, 5, 7], 1::3]"
      ],
      "execution_count": null,
      "outputs": []
    },
    {
      "cell_type": "markdown",
      "metadata": {
        "id": "-G0aA8_joEzb"
      },
      "source": [
        "## <font color=\"green\">데이터 수정</font>"
      ]
    },
    {
      "cell_type": "code",
      "metadata": {
        "id": "W8QWXNZPMDu1"
      },
      "source": [
        "display(df)"
      ],
      "execution_count": null,
      "outputs": []
    },
    {
      "cell_type": "markdown",
      "metadata": {
        "id": "Awddq-J_oRHO"
      },
      "source": [
        "인덱싱과 슬라이싱을 통해 선택된 위치에 값을 대입하여 데이터를 수정할 수 있다."
      ]
    },
    {
      "cell_type": "code",
      "metadata": {
        "id": "iXryWXIPtdJC"
      },
      "source": [
        "df[\"e\"] = df[\"f\"] = 0\n",
        "df"
      ],
      "execution_count": null,
      "outputs": []
    },
    {
      "cell_type": "code",
      "metadata": {
        "id": "wXZvoXJGtna0"
      },
      "source": [
        "df[\"E\":\"F\"] = 0\n",
        "df"
      ],
      "execution_count": null,
      "outputs": []
    },
    {
      "cell_type": "code",
      "metadata": {
        "id": "F3JJVDT2qLiu"
      },
      "source": [
        "df.at[\"E\", \"e\"] = 1\n",
        "df"
      ],
      "execution_count": null,
      "outputs": []
    },
    {
      "cell_type": "code",
      "metadata": {
        "id": "ed_OuBzsqrAt"
      },
      "source": [
        "df.iat[5, 5] = -1\n",
        "df"
      ],
      "execution_count": null,
      "outputs": []
    },
    {
      "cell_type": "code",
      "metadata": {
        "id": "bMTHzILZq9_-"
      },
      "source": [
        "df.loc[\"D\":\"G\":3, \"d\":\"g\":3] = -2\n",
        "df"
      ],
      "execution_count": null,
      "outputs": []
    },
    {
      "cell_type": "code",
      "metadata": {
        "id": "H6U630IRrWTv"
      },
      "source": [
        "df.iloc[-3:, -3:] = -3\n",
        "df"
      ],
      "execution_count": null,
      "outputs": []
    },
    {
      "cell_type": "markdown",
      "metadata": {
        "id": "FC8ZGTTKqALn"
      },
      "source": [
        "## <font color=\"green\">데이터 정렬</font>"
      ]
    },
    {
      "cell_type": "code",
      "metadata": {
        "id": "DSlDmyEFMKDA"
      },
      "source": [
        "display(df)"
      ],
      "execution_count": null,
      "outputs": []
    },
    {
      "cell_type": "markdown",
      "metadata": {
        "id": "4J1I-9zq6hNQ"
      },
      "source": [
        "### df.sort_values()"
      ]
    },
    {
      "cell_type": "markdown",
      "metadata": {
        "id": "6GTwFH2m6kPX"
      },
      "source": [
        "행 또는 열을 하나 지정해서 값에 따라 정렬한다.\n",
        "\n",
        "기본 값은 열을 지정해서 값에 따라 오름차순으로 정렬하는 것이다."
      ]
    },
    {
      "cell_type": "code",
      "metadata": {
        "id": "xNgUy8uu6G5S"
      },
      "source": [
        "df.sort_values(\"a\")"
      ],
      "execution_count": null,
      "outputs": []
    },
    {
      "cell_type": "markdown",
      "metadata": {
        "id": "J-XDSbGl7GZY"
      },
      "source": [
        "행을 지정해서 정렬하려면 axis 인수에 1 또는 \"columns\"를 전달한다."
      ]
    },
    {
      "cell_type": "code",
      "metadata": {
        "id": "1SPnFYfQ6pL_"
      },
      "source": [
        "df.sort_values(\"A\", \"columns\")"
      ],
      "execution_count": null,
      "outputs": []
    },
    {
      "cell_type": "markdown",
      "metadata": {
        "id": "WbCYhj_U74aM"
      },
      "source": [
        "내림차순으로 정렬하려면 ascending 인수에 False를 전달한다."
      ]
    },
    {
      "cell_type": "code",
      "metadata": {
        "id": "pUn3PSl-8Goj"
      },
      "source": [
        "df.sort_values(\"b\", axis=0, ascending=False)"
      ],
      "execution_count": null,
      "outputs": []
    },
    {
      "cell_type": "markdown",
      "metadata": {
        "id": "AvCKKvWG8Z7V"
      },
      "source": [
        "### df.sort_index()"
      ]
    },
    {
      "cell_type": "markdown",
      "metadata": {
        "id": "8CKxLLJ-B6mC"
      },
      "source": [
        "행 또는 열에 대해 정렬한다.\n",
        "\n",
        "기본 값은 인덱스를 오름차순으로 정렬하는 것이다.\n",
        "\n",
        "컬럼명에 따라 내림차순으로 정렬하려면 axis 인수와 ascending 인수를 설정한다."
      ]
    },
    {
      "cell_type": "code",
      "metadata": {
        "id": "IqrE-VBC51O7"
      },
      "source": [
        "df.sort_index(axis=\"columns\", ascending=False)"
      ],
      "execution_count": null,
      "outputs": []
    },
    {
      "cell_type": "markdown",
      "metadata": {
        "id": "YYEPYr-13gTJ"
      },
      "source": [
        "# <font color=\"blue\">데이터프레임 조작</font>"
      ]
    },
    {
      "cell_type": "markdown",
      "metadata": {
        "id": "91bzBNRKhKCS"
      },
      "source": [
        "## <font color=\"green\">새로운 행 또는 열 추가</font>"
      ]
    },
    {
      "cell_type": "code",
      "metadata": {
        "id": "AMwhZGENfKTo"
      },
      "source": [
        "import pandas as pd\n",
        "df = pd.DataFrame([[1, 2, 3], [7, 8, 9], [13, 14, 15]], index=list(\"ABC\"), columns=list(\"abc\"))\n",
        "display(df)"
      ],
      "execution_count": null,
      "outputs": []
    },
    {
      "cell_type": "markdown",
      "metadata": {
        "id": "waOcd7cbKFhK"
      },
      "source": [
        "### 리스트를 이용해서 새로운 행 또는 열 추가"
      ]
    },
    {
      "cell_type": "markdown",
      "metadata": {
        "id": "AKubYYlzM6fn"
      },
      "source": [
        "리스트를 이용해서 기존의 데이터프레임 객체에 새로운 행 또는 열을 추가할 수 있다.\n",
        "\n",
        "새로 추가할 라벨을 통해 인덱싱 후 추가할 리스트를 대입한다."
      ]
    },
    {
      "cell_type": "code",
      "metadata": {
        "id": "3KIPh3R0KJ6I"
      },
      "source": [
        "df.loc[\"D\"] = [19, 20, 21] # 새로운 행 추가\n",
        "df"
      ],
      "execution_count": null,
      "outputs": []
    },
    {
      "cell_type": "code",
      "metadata": {
        "id": "-QMjPMpyNDrw"
      },
      "source": [
        "df[\"d\"] = [4, 10, 16, 22] # 새로운 열 추가\n",
        "df"
      ],
      "execution_count": null,
      "outputs": []
    },
    {
      "cell_type": "markdown",
      "metadata": {
        "id": "giFTlUwJLBa-"
      },
      "source": [
        "### 다차원 배열을 이용해서 새로운 행 또는 열 추가"
      ]
    },
    {
      "cell_type": "markdown",
      "metadata": {
        "id": "Vyr_5WMPN2I1"
      },
      "source": [
        "리스트를 이용해서 새로운 행 또는 열을 추가하는 것과 동일하다."
      ]
    },
    {
      "cell_type": "code",
      "metadata": {
        "id": "jmDA0Ob0LycR"
      },
      "source": [
        "df.loc[\"E\"] = np.array([25, 26, 27, 28]) # 새로운 행 추가\n",
        "df"
      ],
      "execution_count": null,
      "outputs": []
    },
    {
      "cell_type": "code",
      "metadata": {
        "id": "YaTE89fYMg4Z"
      },
      "source": [
        "df[\"e\"] = np.array([5, 11, 17, 23, 29]) # 새로운 열 추가\n",
        "df"
      ],
      "execution_count": null,
      "outputs": []
    },
    {
      "cell_type": "markdown",
      "metadata": {
        "id": "Myow3pFBDj1H"
      },
      "source": [
        "### 시리즈를 이용해서 새로운 행 또는 열 추가"
      ]
    },
    {
      "cell_type": "markdown",
      "metadata": {
        "id": "3SAAESHTo72q"
      },
      "source": [
        "시리즈 객체를 이용해서 기존의 데이터프레임 객체에 새로운 행 또는 열을 추가할 수 있다.\n",
        "\n",
        "이때 시리즈 객체가 *같은 인덱스를 갖도록 작성*한다.\n",
        "\n",
        "인덱스를 정확하게 명시하지 않으면 추가되는 열의 요소는 NaN으로 초기화된다."
      ]
    },
    {
      "cell_type": "code",
      "metadata": {
        "id": "l4rCScwFOwhp"
      },
      "source": [
        "df.loc[\"F\"] = pd.Series(np.array([31, 32, 33, 34, 35]), index=df.columns) # 새로운 행을 추가하기 때문에 시리즈 객체의 인덱스를 기존의 데이터프레임 객체의 컬럼명으로 지정한다.\n",
        "df"
      ],
      "execution_count": null,
      "outputs": []
    },
    {
      "cell_type": "code",
      "metadata": {
        "id": "rIBvG5jbhPpq"
      },
      "source": [
        "df[\"f\"] = pd.Series(np.array([6, 12, 18, 24, 30, 36]), index=df.index) # 새로운 열을 추가하기 때문에 시리즈 객체의 인덱스를 기존의 데이터프레임 객체의 인덱스로 지정한다.\n",
        "df"
      ],
      "execution_count": null,
      "outputs": []
    },
    {
      "cell_type": "code",
      "metadata": {
        "id": "go8Ug8mA3ssW"
      },
      "source": [
        "sr = pd.Series(np.array([11, 22, 33, 44, 55, 66]))\n",
        "print(sr)"
      ],
      "execution_count": null,
      "outputs": []
    },
    {
      "cell_type": "code",
      "metadata": {
        "id": "Qegg8UcE3-bM"
      },
      "source": [
        "df.loc[\"G\"] = sr\n",
        "display(df)"
      ],
      "execution_count": null,
      "outputs": []
    },
    {
      "cell_type": "markdown",
      "metadata": {
        "id": "cJLUsFmxR6r-"
      },
      "source": [
        "## <font color=\"green\">행/열의 변경</font>"
      ]
    },
    {
      "cell_type": "code",
      "metadata": {
        "id": "kX-SCWGHcsuB"
      },
      "source": [
        "import pandas as pd\n",
        "df = pd.DataFrame([[1, 2, 3], [4, 5, 6], [7, 8, 9]])\n",
        "display(df)"
      ],
      "execution_count": null,
      "outputs": []
    },
    {
      "cell_type": "markdown",
      "metadata": {
        "id": "w0TZ3LukDfd6"
      },
      "source": [
        "### df.reindex()"
      ]
    },
    {
      "cell_type": "markdown",
      "metadata": {
        "id": "Wy9xphV_DhRH"
      },
      "source": [
        "새로운 행 또는 열을 추가한다.\n",
        "\n",
        "추가되는 행 또는 열의 요소는 NaN으로 초기화된다.\n",
        "\n",
        "실행 결과는 원본에 영향을 주지 않고 새로운 데이터프레임 객체를 반환한다."
      ]
    },
    {
      "cell_type": "code",
      "metadata": {
        "id": "V2N1OqH9DxqB"
      },
      "source": [
        "df.reindex(index=[0, 1, 2, 3], columns=[0, 1, 2, 3])"
      ],
      "execution_count": null,
      "outputs": []
    },
    {
      "cell_type": "markdown",
      "metadata": {
        "id": "TNbGAFQQG_6V"
      },
      "source": [
        "행 또는 열의 순서를 임의로 섞을 수도 있다.\n",
        "\n",
        "또한 기존에 존재하던 라벨을 일부러 생략해서 행 또는 열을 제거할 수도 있다."
      ]
    },
    {
      "cell_type": "code",
      "metadata": {
        "id": "7_WYELHPHI5V"
      },
      "source": [
        "df.reindex(index=[0, 1], columns=[1, 0])"
      ],
      "execution_count": null,
      "outputs": []
    },
    {
      "cell_type": "markdown",
      "metadata": {
        "id": "vZQN6mqP3Zo6"
      },
      "source": [
        "기본적인 인덱싱을 할 때, 조건식을 전달할 수 있다.\n",
        "\n",
        "열 또는 데이터프레임 전체에 대해 조건식을 작성할 수 있다."
      ]
    },
    {
      "cell_type": "code",
      "metadata": {
        "id": "zjqc3euKeLNL"
      },
      "source": [
        "df"
      ],
      "execution_count": null,
      "outputs": []
    },
    {
      "cell_type": "code",
      "metadata": {
        "id": "4W_kzjbM4DNB"
      },
      "source": [
        "df[df.a > 50] # df의 a열의 요소 중 50을 초과하는 값이 있을 때 해당 값의 행을 선택"
      ],
      "execution_count": null,
      "outputs": []
    },
    {
      "cell_type": "code",
      "metadata": {
        "id": "P-ht3Zha3aPR"
      },
      "source": [
        "df[df % 2 == 0] # df의 모든 요소 중 짝수를 선택"
      ],
      "execution_count": null,
      "outputs": []
    },
    {
      "cell_type": "markdown",
      "metadata": {
        "id": "_yLjUq3dgTjc"
      },
      "source": [
        "## <font color=\"green\">행/열의 삭제</font>"
      ]
    },
    {
      "cell_type": "code",
      "metadata": {
        "id": "yeQkWvA-gceS"
      },
      "source": [
        "import pandas as pd\n",
        "df = pd.DataFrame([[1, 2], [3, 4]], index=[\"A\", \"B\"], columns=[\"a\", \"b\"])\n",
        "display(df)"
      ],
      "execution_count": null,
      "outputs": []
    },
    {
      "cell_type": "markdown",
      "metadata": {
        "id": "3u2Er2Z3gEzW"
      },
      "source": [
        "### df.drop()"
      ]
    },
    {
      "cell_type": "markdown",
      "metadata": {
        "id": "JfNU-y6BgGIL"
      },
      "source": [
        "행 또는 열을 삭제한다.\n",
        "\n",
        "실행 결과는 원본에 영향을 주지 않고 새로운 데이터프레임 객체를 반환한다."
      ]
    },
    {
      "cell_type": "code",
      "metadata": {
        "id": "NQQKMK3cio70"
      },
      "source": [
        "df.drop(\"B\") # 행 삭제"
      ],
      "execution_count": null,
      "outputs": []
    },
    {
      "cell_type": "code",
      "metadata": {
        "id": "z6xBm1api81D"
      },
      "source": [
        "df.drop(\"b\", axis=1) # 열 삭제"
      ],
      "execution_count": null,
      "outputs": []
    },
    {
      "cell_type": "markdown",
      "metadata": {
        "id": "X612j4vgQ585"
      },
      "source": [
        "## <font color=\"green\">데이터프레임 간의 조합</font>"
      ]
    },
    {
      "cell_type": "code",
      "metadata": {
        "id": "32TthAK9j77P"
      },
      "source": [
        "import pandas as pd\n",
        "df = pd.DataFrame([[1, 2], [3, 4]], index=[\"A\", \"B\"], columns=[\"a\", \"b\"])\n",
        "display(df)"
      ],
      "execution_count": null,
      "outputs": []
    },
    {
      "cell_type": "markdown",
      "metadata": {
        "id": "-s1gWcXbR9pc"
      },
      "source": [
        "### df.append()"
      ]
    },
    {
      "cell_type": "markdown",
      "metadata": {
        "id": "H_4H3HhKdMZ_"
      },
      "source": [
        "새로운 행을 추가한다.\n",
        "\n",
        "실행 결과는 원본에 영향을 주지 않고 새로운 데이터프레임 객체를 반환한다."
      ]
    },
    {
      "cell_type": "code",
      "metadata": {
        "id": "3vwqwRgQdgcE"
      },
      "source": [
        "df2 = df.copy()\n",
        "df3 = df.append(df2)\n",
        "df3"
      ],
      "execution_count": null,
      "outputs": []
    },
    {
      "cell_type": "markdown",
      "metadata": {
        "id": "Nph4epM9fq7V"
      },
      "source": [
        "ignore_index 인자의 값을 True로 전달하여 추가할 객체의 인덱스를 무시할 수 있다."
      ]
    },
    {
      "cell_type": "code",
      "metadata": {
        "id": "bT4YxNr5f1Zb"
      },
      "source": [
        "df4 = df.append(df2, ignore_index=True)\n",
        "df4"
      ],
      "execution_count": null,
      "outputs": []
    },
    {
      "cell_type": "markdown",
      "metadata": {
        "id": "4bJBTDK9Q-uo"
      },
      "source": [
        "### pd.concat()"
      ]
    },
    {
      "cell_type": "markdown",
      "metadata": {
        "id": "cj0Lb88UkJgz"
      },
      "source": [
        "두 개 이상의 데이터프레임 객체를 연결한다.\n",
        "\n",
        "실행 결과는 원본에 영향을 주지 않고 새로운 데이터프레임 객체를 반환한다."
      ]
    },
    {
      "cell_type": "code",
      "metadata": {
        "id": "-TajbNHbm5yQ"
      },
      "source": [
        "df3 = pd.concat([df, df2])\n",
        "df3"
      ],
      "execution_count": null,
      "outputs": []
    },
    {
      "cell_type": "markdown",
      "metadata": {
        "id": "i_K4W6r6m_gq"
      },
      "source": [
        "인덱스의 라벨이 일치할 때, axis 인자를 전달하여 행의 방향으로 추가할 수도 있다."
      ]
    },
    {
      "cell_type": "code",
      "metadata": {
        "id": "SaMsz83gkLw0"
      },
      "source": [
        "df3 = pd.DataFrame([[5, 6], [7, 8]], index=[\"A\", \"B\"], columns=[\"c\", \"d\"])\n",
        "df4 = pd.concat([df, df3], axis=1)\n",
        "df4"
      ],
      "execution_count": null,
      "outputs": []
    },
    {
      "cell_type": "markdown",
      "metadata": {
        "id": "JX-2dm0y2BS5"
      },
      "source": [
        "# <font color=\"blue\">통계</font>"
      ]
    },
    {
      "cell_type": "code",
      "metadata": {
        "id": "Ry1b8mfqnnWH"
      },
      "source": [
        "import numpy as np\n",
        "import pandas as pd\n",
        "arr = np.random.randint(100, size=(10, 10))\n",
        "df = pd.DataFrame(arr, index=list(\"ABCDEFGHIJ\"), columns=list(\"abcdefghij\"))\n",
        "display(df)"
      ],
      "execution_count": null,
      "outputs": []
    },
    {
      "cell_type": "markdown",
      "metadata": {
        "id": "sHvEoHb6CIKe"
      },
      "source": [
        "### df.describe()"
      ]
    },
    {
      "cell_type": "markdown",
      "metadata": {
        "id": "LdPG-JkcCYqQ"
      },
      "source": [
        "각 열에 대한 주요 통계 수치들을 산출한다."
      ]
    },
    {
      "cell_type": "code",
      "metadata": {
        "id": "fBljVKZ3CRKU"
      },
      "source": [
        "df.describe()"
      ],
      "execution_count": null,
      "outputs": []
    },
    {
      "cell_type": "markdown",
      "metadata": {
        "id": "fNXsK7WanxEz"
      },
      "source": [
        "### df.count()"
      ]
    },
    {
      "cell_type": "markdown",
      "metadata": {
        "id": "pDh68duLoA5_"
      },
      "source": [
        "각 행/열에 대한 요소의 개수를 산출한다."
      ]
    },
    {
      "cell_type": "code",
      "metadata": {
        "id": "Xk_qRKn8oSZK"
      },
      "source": [
        "df[\"k\"] = pd.Series(np.arange(10), list(\"ABCDEFGHIJ\"))\n",
        "display(df)"
      ],
      "execution_count": null,
      "outputs": []
    },
    {
      "cell_type": "code",
      "metadata": {
        "id": "7z6ac12uochP"
      },
      "source": [
        "df.count(axis=1) # 각 행의 요소의 개수"
      ],
      "execution_count": null,
      "outputs": []
    },
    {
      "cell_type": "code",
      "metadata": {
        "id": "iE6lf4g5n9Nf"
      },
      "source": [
        "df.count() # 각 열의 요소의 개수"
      ],
      "execution_count": null,
      "outputs": []
    },
    {
      "cell_type": "markdown",
      "metadata": {
        "id": "4xyLee6YnhL5"
      },
      "source": [
        "### df.mean()"
      ]
    },
    {
      "cell_type": "markdown",
      "metadata": {
        "id": "w8gQ3-1knkBz"
      },
      "source": [
        "각 행/열에 대한 평균을 산출한다."
      ]
    },
    {
      "cell_type": "code",
      "metadata": {
        "id": "8YNvuOoPoMkW"
      },
      "source": [
        "df.mean(axis=1) # 각 행의 평균"
      ],
      "execution_count": null,
      "outputs": []
    },
    {
      "cell_type": "code",
      "metadata": {
        "id": "ZAKj6xtwu4Q8"
      },
      "source": [
        "# arr = df.to_numpy()\n",
        "arr = np.array(df)\n",
        "arr.mean()"
      ],
      "execution_count": null,
      "outputs": []
    },
    {
      "cell_type": "code",
      "metadata": {
        "id": "yxtuzf4znuOw"
      },
      "source": [
        "df.mean() # 각 열의 평균"
      ],
      "execution_count": null,
      "outputs": []
    },
    {
      "cell_type": "markdown",
      "metadata": {
        "id": "V22u6Ad0op1O"
      },
      "source": [
        "### df.std()"
      ]
    },
    {
      "cell_type": "markdown",
      "metadata": {
        "id": "cabq96i8o1ak"
      },
      "source": [
        "각 행/열에 대한 표준편차를 산출한다."
      ]
    },
    {
      "cell_type": "code",
      "metadata": {
        "id": "mWUhJBfQotDO"
      },
      "source": [
        "df.std(axis=1) # 각 행의 표준편차"
      ],
      "execution_count": null,
      "outputs": []
    },
    {
      "cell_type": "code",
      "metadata": {
        "id": "w4EmdvfXorrV"
      },
      "source": [
        "df.std() # 각 열의 표준편차"
      ],
      "execution_count": null,
      "outputs": []
    },
    {
      "cell_type": "markdown",
      "metadata": {
        "id": "0cEsclqGpDCj"
      },
      "source": [
        "### df.min(), df.max()"
      ]
    },
    {
      "cell_type": "markdown",
      "metadata": {
        "id": "ZynT0XT1pEBt"
      },
      "source": [
        "각 행/열에 대한 최소/최대값을 산출한다."
      ]
    },
    {
      "cell_type": "code",
      "metadata": {
        "id": "xEYG7wxppK46"
      },
      "source": [
        "df.min(axis=1) # 각 행의 최소값"
      ],
      "execution_count": null,
      "outputs": []
    },
    {
      "cell_type": "code",
      "metadata": {
        "id": "aeRVhkyGpMdD"
      },
      "source": [
        "df.min() # 각 열의 최소값"
      ],
      "execution_count": null,
      "outputs": []
    },
    {
      "cell_type": "code",
      "metadata": {
        "id": "rMF0e3oJpLSD"
      },
      "source": [
        "df.max(axis=1) # 각 행의 최대값"
      ],
      "execution_count": null,
      "outputs": []
    },
    {
      "cell_type": "code",
      "metadata": {
        "id": "GKzrRvj2pLpa"
      },
      "source": [
        "df.max() # 각 열의 최대값"
      ],
      "execution_count": null,
      "outputs": []
    },
    {
      "cell_type": "markdown",
      "metadata": {
        "id": "tUEp0AoBA_zB"
      },
      "source": [
        "# <font color=\"blue\">고급 문법</font>"
      ]
    },
    {
      "cell_type": "markdown",
      "metadata": {
        "id": "O5iUpfqb3cBh"
      },
      "source": [
        "## <font color=\"red\">Boolean Indexing</font>"
      ]
    },
    {
      "cell_type": "code",
      "source": [
        "import numpy as np\n",
        "import pandas as pd\n",
        "\n",
        "a = np.arange(10).reshape((10, 1))\n",
        "b = np.random.randint(10, size=(10, 1))\n",
        "c = np.random.randint(2, size=(10, 1))\n",
        "d = np.concatenate([a, b, c], axis=1)\n",
        "df = pd.DataFrame(d, columns=[\"a\", \"b\", \"c\"])\n",
        "\n",
        "df"
      ],
      "metadata": {
        "id": "j7_s4mTNb5fy"
      },
      "execution_count": null,
      "outputs": []
    },
    {
      "cell_type": "markdown",
      "source": [
        "데이터프레임 객체에 산술, 비교 연산을 시도할 수 있다.\n",
        "\n",
        "연산은 numpy의 다차원 배열처럼 각각의 요소에 대해서 적용된다."
      ],
      "metadata": {
        "id": "HPnZGdljb40y"
      }
    },
    {
      "cell_type": "code",
      "source": [
        "df + 100 # 데이터프레임 객체를 구성하는 모든 요소에 대해서 각각 100씩 더함"
      ],
      "metadata": {
        "id": "j7ZLFmCKd9ji"
      },
      "execution_count": null,
      "outputs": []
    },
    {
      "cell_type": "code",
      "source": [
        "df % 2 == 0 # 데이터프레임 객체를 구성하는 모든 요소에 대해서 짝수 여부를 판별"
      ],
      "metadata": {
        "id": "O0trl5G0eQhQ"
      },
      "execution_count": null,
      "outputs": []
    },
    {
      "cell_type": "markdown",
      "source": [
        "특정 열을 선택해서 연산을 시도할 수도 있다.\n",
        "\n",
        "열을 선택하면 시리즈 객체로 반환되기 때문에 연산 결과도 시리즈 객체로 나타난다."
      ],
      "metadata": {
        "id": "Cpny9vzXe62-"
      }
    },
    {
      "cell_type": "code",
      "source": [
        "df[\"a\"] > 4 # a열에 존재하는 모든 값들에 대해서 4보다 큰지 비교"
      ],
      "metadata": {
        "id": "COqWv0Leegif"
      },
      "execution_count": null,
      "outputs": []
    },
    {
      "cell_type": "markdown",
      "source": [
        "1. 시리즈 객체의 요소들이 *논리값*을 가지고,\n",
        "2. 시리즈 객체와 데이터프레임 객체의 **index**가 일치할 때,\n",
        "3. 시리즈 객체를 데이터프레임 객체에 전달해서 특정 행만 취할 수 있다,"
      ],
      "metadata": {
        "id": "HbK0LeELfstk"
      }
    },
    {
      "cell_type": "code",
      "source": [
        "df[df[\"a\"] > 4] # a열에 대해서 4보다 큰 값을 가지는 행만 선택"
      ],
      "metadata": {
        "id": "A-08WxV9icyf"
      },
      "execution_count": null,
      "outputs": []
    },
    {
      "cell_type": "code",
      "source": [
        "df[df[\"b\"] % 2 == 0] # b열에 대해서 짝수인 값을 가지는 행만 선택"
      ],
      "metadata": {
        "id": "mTBKhJ_-iscX"
      },
      "execution_count": null,
      "outputs": []
    },
    {
      "cell_type": "code",
      "source": [
        "df[df[\"c\"] == 1] # c열에 대해서 1인 값을 가지는 행만 선택"
      ],
      "metadata": {
        "id": "wz3urvlhiy-i"
      },
      "execution_count": null,
      "outputs": []
    },
    {
      "cell_type": "markdown",
      "source": [
        "&, |, ~ 기호를 이용해서 and, or, not 연산 또한 가능하다."
      ],
      "metadata": {
        "id": "2g-wgbZ3jkvN"
      }
    },
    {
      "cell_type": "code",
      "source": [
        "df[(df[\"a\"] < 5) & (df[\"b\"] < 5)] # a, b열의 값이 모두 5보다 작은 행을 선택"
      ],
      "metadata": {
        "id": "qSG6R8vHjIPD"
      },
      "execution_count": null,
      "outputs": []
    },
    {
      "cell_type": "code",
      "source": [
        "df[(df[\"a\"] % 2 != 0) | (df[\"b\"] % 2 == 0)] # a열의 값이 홀수이거나 b열의 값이 짝수인 행을 선택"
      ],
      "metadata": {
        "id": "HkW6i_9YkJw_"
      },
      "execution_count": null,
      "outputs": []
    },
    {
      "cell_type": "code",
      "source": [
        "df[~(df[\"c\"] == 0)] # c열의 값이 0이 아닌 행을 선택"
      ],
      "metadata": {
        "id": "YAEXuY_HkanR"
      },
      "execution_count": null,
      "outputs": []
    },
    {
      "cell_type": "markdown",
      "source": [
        "boolean indexing을 만족하는 행에 대해 값을 할당할 수도 있다."
      ],
      "metadata": {
        "id": "R2l606sukqPg"
      }
    },
    {
      "cell_type": "code",
      "source": [
        "df[df[\"c\"] == 0] = -1 # c열의 값이 0인 모든 행에 -1을 대입\n",
        "df"
      ],
      "metadata": {
        "id": "p3Tqn87dk3-U"
      },
      "execution_count": null,
      "outputs": []
    },
    {
      "cell_type": "markdown",
      "source": [
        "조건을 만족하는 모든 행의 값이 변경되기 때문에, 특정 열의 값만 변경하고 싶으면 해당 열을 먼저 선택한 후 처리하면 된다."
      ],
      "metadata": {
        "id": "0F0_qSlylcEU"
      }
    },
    {
      "cell_type": "code",
      "source": [
        "df[\"c\"][df[\"c\"] == -1] = 0\n",
        "df"
      ],
      "metadata": {
        "id": "QAgTaMCzlSUD"
      },
      "execution_count": null,
      "outputs": []
    },
    {
      "cell_type": "markdown",
      "metadata": {
        "id": "tohFGDC41Ldt"
      },
      "source": [
        "## <font color=\"green\">결측값 처리</font>"
      ]
    },
    {
      "cell_type": "markdown",
      "metadata": {
        "id": "_8RVjCJS1PTB"
      },
      "source": [
        "현실 세계에서 실제로 수집한 빅 데이터를 이용하고자 할 때, 종종 일부 데이터가 누락되는 경우가 있다.\n",
        "\n",
        "이러한 데이터를 결측값(missing data, missing value)라고 하며, 통계학 혹은 기계 학습 등의 분야에서 분석을 진행하기 전, 결측값을 어떻게 처리하느냐에 따라 결과가 달라지기도 한다.\n",
        "\n",
        "Pandas에서는 결측값을 다루기 위한 몇 가지 방법을 제공한다."
      ]
    },
    {
      "cell_type": "code",
      "metadata": {
        "id": "RErKWEm-146b"
      },
      "source": [
        "import numpy as np\n",
        "import pandas as pd\n",
        "\n",
        "arr = np.random.randint(0, 10, (5, 5))\n",
        "df = pd.DataFrame(arr, index=list(\"ABCDE\"), columns=list(\"abcde\"))\n",
        "\n",
        "# 결측값 설정\n",
        "# pandas에서는 결측값을 numpy의 nan으로 설정한다.\n",
        "# df.at[\"B\", \"c\"] = np.nan # int 자료형으로 선언된 데이터프레임에, at 속성을 이용해서 float 값을 대입할 수 없음.\n",
        "df.at[\"B\", \"c\"] = None\n",
        "df.loc[\"C\", \"c\"] = np.nan\n",
        "df.loc[\"D\", \"e\"] = None\n",
        "\n",
        "df"
      ],
      "execution_count": null,
      "outputs": []
    },
    {
      "cell_type": "markdown",
      "metadata": {
        "id": "_uwUE-4k9EbX"
      },
      "source": [
        "### df.isna(), df.notna()"
      ]
    },
    {
      "cell_type": "markdown",
      "metadata": {
        "id": "HzrsK8Xx9MzI"
      },
      "source": [
        "데이터가 NaN인지 아닌지 검사한다."
      ]
    },
    {
      "cell_type": "code",
      "metadata": {
        "id": "s3eChEv89Glj"
      },
      "source": [
        "checked_df = df.isna()\n",
        "checked_df"
      ],
      "execution_count": null,
      "outputs": []
    },
    {
      "cell_type": "code",
      "metadata": {
        "id": "F2ypXDUg9VjR"
      },
      "source": [
        "checked_df2 = df.notna()\n",
        "checked_df2"
      ],
      "execution_count": null,
      "outputs": []
    },
    {
      "cell_type": "markdown",
      "metadata": {
        "id": "f9rN39eF3N5L"
      },
      "source": [
        "### df.dropna()"
      ]
    },
    {
      "cell_type": "markdown",
      "metadata": {
        "id": "mzfcfZ3l3P5g"
      },
      "source": [
        "행 또는 열에 대해 결측값을 제거한다.\n",
        "\n",
        "기본 설정은 결측값이 존재하는 행을 모두 제거하는 방식이다."
      ]
    },
    {
      "cell_type": "code",
      "metadata": {
        "id": "aGoTISNw3ckU"
      },
      "source": [
        "cleared_row_df = df.dropna()\n",
        "cleared_row_df"
      ],
      "execution_count": null,
      "outputs": []
    },
    {
      "cell_type": "markdown",
      "metadata": {
        "id": "_0D-am4e4Zm3"
      },
      "source": [
        "axis 인수를 설정하면 결측값이 있는 열을 선택해서 제거할 수 있다."
      ]
    },
    {
      "cell_type": "code",
      "metadata": {
        "id": "YGkEYNXS4osI"
      },
      "source": [
        "cleared_col_df = df.dropna(axis=1)\n",
        "cleared_col_df"
      ],
      "execution_count": null,
      "outputs": []
    },
    {
      "cell_type": "markdown",
      "metadata": {
        "id": "qol0Q_ti42mN"
      },
      "source": [
        "특정 행 또는 열만 선택해서 결측값이 있으면 제거할 수 있다."
      ]
    },
    {
      "cell_type": "code",
      "metadata": {
        "id": "H9JUlcN049D7"
      },
      "source": [
        "# 열을 선택해서 결측값이 있는 행 제거\n",
        "a = df[[\"c\", \"d\", \"e\"]].dropna()\n",
        "a"
      ],
      "execution_count": null,
      "outputs": []
    },
    {
      "cell_type": "code",
      "metadata": {
        "id": "Uz4HJOPm578Y"
      },
      "source": [
        "# 행을 선택해서 결측값이 있는 열 제거\n",
        "b = df[\"B\":\"D\"].dropna(axis=1)\n",
        "b"
      ],
      "execution_count": null,
      "outputs": []
    },
    {
      "cell_type": "markdown",
      "metadata": {
        "id": "5coTfR913SFs"
      },
      "source": [
        "### df.fillna()"
      ]
    },
    {
      "cell_type": "markdown",
      "metadata": {
        "id": "PzT7-UzV3UjQ"
      },
      "source": [
        "결측값을 다른 값으로 채운다."
      ]
    },
    {
      "cell_type": "code",
      "metadata": {
        "id": "Aqy4QKJx-cov"
      },
      "source": [
        "filled_df = df.fillna(-9999)\n",
        "filled_df"
      ],
      "execution_count": null,
      "outputs": []
    },
    {
      "cell_type": "markdown",
      "metadata": {
        "id": "l4fyiEh6_X3Y"
      },
      "source": [
        "method 인자를 전달하면 열 기준 바로 앞/뒤에 있는 값으로 채울 수도 있다.\n",
        "\n",
        "method 인자의 값이 \"pad\" 혹은 \"ffill\"이면 앞의 값으로 채우고, \"backfill\" 혹은 \"bfill\"이면 뒤의 값으로 채운다."
      ]
    },
    {
      "cell_type": "code",
      "metadata": {
        "id": "4X0xE3sG_AdY"
      },
      "source": [
        "# filled_df2 = df.fillna(method=\"pad\")\n",
        "# filled_df2 = df.fillna(method=\"ffill\")\n",
        "filled_df2 = df.ffill()\n",
        "filled_df2"
      ],
      "execution_count": null,
      "outputs": []
    },
    {
      "cell_type": "code",
      "metadata": {
        "id": "G9G-eyGy_Lu9"
      },
      "source": [
        "# filled_df3 = df.fillna(method=\"backfill\")\n",
        "# filled_df3 = df.fillna(method=\"bfill\")\n",
        "filled_df3 = df.bfill()\n",
        "filled_df3"
      ],
      "execution_count": null,
      "outputs": []
    },
    {
      "cell_type": "markdown",
      "source": [
        "limit 인자를 이용해서 채워 넣을 행의 수를 제한할 수도 있다."
      ],
      "metadata": {
        "id": "I5dEli9LY1kv"
      }
    },
    {
      "cell_type": "code",
      "source": [
        "# filled_df4 = df.fillna(method=\"ffill\", limit=1)\n",
        "filled_df4 = df.ffill(limit=1)\n",
        "filled_df4"
      ],
      "metadata": {
        "id": "zGTcKrRkY8s7"
      },
      "execution_count": null,
      "outputs": []
    },
    {
      "cell_type": "code",
      "source": [
        "# filled_df5 = df.fillna(method=\"bfill\", limit=1)\n",
        "filled_df5 = df.bfill(limit=1)\n",
        "filled_df5"
      ],
      "metadata": {
        "id": "oHfzMaJaZXp6"
      },
      "execution_count": null,
      "outputs": []
    },
    {
      "cell_type": "markdown",
      "metadata": {
        "id": "U69Wy9WCVCGs"
      },
      "source": [
        "## <font color=\"green\">데이터프레임 재구조화</font>"
      ]
    },
    {
      "cell_type": "code",
      "metadata": {
        "id": "zzJmUxr3BD5U"
      },
      "source": [
        "import numpy as np\n",
        "import pandas as pd\n",
        "\n",
        "df = pd.DataFrame(np.arange(16).reshape(4, 4), index=list(\"ABCD\"), columns=list(\"abcd\"))\n",
        "\n",
        "year_df = pd.DataFrame([2019, 2020, 2019, 2020], index=list(\"ABCD\"), columns=[\"year\"])\n",
        "class_df = pd.DataFrame(list(\"AABB\"), index=list(\"ABCD\"), columns=[\"class\"])\n",
        "\n",
        "df = pd.concat([year_df, class_df, df], axis=1)\n",
        "df"
      ],
      "execution_count": null,
      "outputs": []
    },
    {
      "cell_type": "markdown",
      "metadata": {
        "id": "NutzwAJIFjSK"
      },
      "source": [
        "### pd.pivot_table(), df.pivot()"
      ]
    },
    {
      "cell_type": "markdown",
      "metadata": {
        "id": "h9LT7yFhFrJT"
      },
      "source": [
        "![title](https://pandas.pydata.org/docs/_images/reshaping_pivot.png)\n",
        "\n",
        "두 개의 열을 선택해서 각각 index와 column으로 사용하는 피벗 테이블을 생성한다."
      ]
    },
    {
      "cell_type": "code",
      "source": [
        "df"
      ],
      "metadata": {
        "id": "YxL9XB1ccXGm"
      },
      "execution_count": null,
      "outputs": []
    },
    {
      "cell_type": "code",
      "metadata": {
        "id": "4PkdtdM0BoJX"
      },
      "source": [
        "pivot1 = pd.pivot_table(df, index=\"year\", columns=\"class\")\n",
        "pivot1"
      ],
      "execution_count": null,
      "outputs": []
    },
    {
      "cell_type": "code",
      "metadata": {
        "id": "bQm9mVcPF4dq"
      },
      "source": [
        "pivot2 = df.pivot(index=\"class\", columns=\"year\")\n",
        "pivot2"
      ],
      "execution_count": null,
      "outputs": []
    },
    {
      "cell_type": "markdown",
      "metadata": {
        "id": "uD3xxnZaVzsZ"
      },
      "source": [
        "### pd.melt"
      ]
    },
    {
      "cell_type": "markdown",
      "metadata": {
        "id": "xc3XnhWwWk1H"
      },
      "source": [
        "![title](https://pandas.pydata.org/docs/_images/reshaping_melt.png)\n",
        "\n",
        "열을 분해해서 열의 이름과 해당 열에 존재하는 데이터를 모두 표시해준다."
      ]
    },
    {
      "cell_type": "code",
      "source": [
        "df"
      ],
      "metadata": {
        "id": "VAYkE9MbcYZi"
      },
      "execution_count": null,
      "outputs": []
    },
    {
      "cell_type": "code",
      "metadata": {
        "id": "iDiitQhcV2fd"
      },
      "source": [
        "melted_df = pd.melt(df)\n",
        "melted_df"
      ],
      "execution_count": null,
      "outputs": []
    },
    {
      "cell_type": "markdown",
      "metadata": {
        "id": "K8msBqFrXu0P"
      },
      "source": [
        "id_vars 인수를 통해 분해하지 않을 열을 선택할 수 있다."
      ]
    },
    {
      "cell_type": "code",
      "metadata": {
        "id": "ZzJckNfFWVOs"
      },
      "source": [
        "melted_df2 = pd.melt(df, id_vars=[\"year\", \"class\"])\n",
        "melted_df2"
      ],
      "execution_count": null,
      "outputs": []
    },
    {
      "cell_type": "markdown",
      "metadata": {
        "id": "sB5CpOuKXyms"
      },
      "source": [
        "value_vars 인수를 통해 분해할 열만 선택할 수도 있다.\n",
        "\n",
        "변수 열의 이름과 값 열의 이름 또한 설정할 수 있다."
      ]
    },
    {
      "cell_type": "code",
      "metadata": {
        "id": "upNIH3vnXFND"
      },
      "source": [
        "melted_df3 = pd.melt(df, value_vars=[\"d\"], var_name=\"Col. d\", value_name=\"values of d\")\n",
        "melted_df3"
      ],
      "execution_count": null,
      "outputs": []
    },
    {
      "cell_type": "markdown",
      "metadata": {
        "id": "iKPYvJPJGOh1"
      },
      "source": [
        "### df.stack(), sr.unstack()"
      ]
    },
    {
      "cell_type": "markdown",
      "metadata": {
        "id": "_bvYYrhGG1_5"
      },
      "source": [
        "![title](https://pandas.pydata.org/docs/_images/reshaping_stack.png)\n",
        "\n",
        "stack 함수는 데이터프레임을 시리즈로 변환한다."
      ]
    },
    {
      "cell_type": "code",
      "source": [
        "df"
      ],
      "metadata": {
        "id": "5ukh4FvZcZ0S"
      },
      "execution_count": null,
      "outputs": []
    },
    {
      "cell_type": "code",
      "metadata": {
        "id": "xzMi7LOjGga9"
      },
      "source": [
        "stacked_sr = df.stack()\n",
        "stacked_sr"
      ],
      "execution_count": null,
      "outputs": []
    },
    {
      "cell_type": "markdown",
      "metadata": {
        "id": "-oUu4c6PG-VZ"
      },
      "source": [
        "![title](https://pandas.pydata.org/docs/_images/reshaping_unstack.png)\n",
        "\n",
        "unstack 함수를 통해 시리즈를 데이터프레임으로 되돌릴 수도 있다."
      ]
    },
    {
      "cell_type": "code",
      "metadata": {
        "id": "igh5vpzJGoeO"
      },
      "source": [
        "unstacked_df = stacked_sr.unstack()\n",
        "unstacked_df"
      ],
      "execution_count": null,
      "outputs": []
    },
    {
      "cell_type": "markdown",
      "source": [
        "## <font color=\"green\">그룹화</font>"
      ],
      "metadata": {
        "id": "m6RzDL-4dUZd"
      }
    },
    {
      "cell_type": "markdown",
      "source": [
        "groupby 함수를 통해 특정 인덱스 또는 열을 기준으로 같은 데이터끼리 묶어서 처리할 수 있다.\n",
        "\n",
        "일반적으로 groupby 함수 단독으로 사용하지 않고, 주로 통계 관련 함수와 함께 사용한다."
      ],
      "metadata": {
        "id": "6wt7x9cvmk54"
      }
    },
    {
      "cell_type": "code",
      "source": [
        "df = pd.DataFrame({\n",
        "    \"A\": np.random.randint(2, size=100),\n",
        "    \"B\": np.random.randint(3, size=100),\n",
        "    \"C\": np.random.rand(100),\n",
        "    \"D\": np.random.randn(100)\n",
        "})\n",
        "df"
      ],
      "metadata": {
        "id": "gRh-0bEkkZD2"
      },
      "execution_count": null,
      "outputs": []
    },
    {
      "cell_type": "code",
      "source": [
        "df.groupby(\"A\").sum()"
      ],
      "metadata": {
        "id": "U8OqkyhFkw6h"
      },
      "execution_count": null,
      "outputs": []
    },
    {
      "cell_type": "code",
      "source": [
        "df.groupby(\"B\").sum()"
      ],
      "metadata": {
        "id": "KKkRLzpdk4MM"
      },
      "execution_count": null,
      "outputs": []
    },
    {
      "cell_type": "code",
      "source": [
        "df.groupby([\"A\", \"B\"]).mean()"
      ],
      "metadata": {
        "id": "yLfL3R6jlLid"
      },
      "execution_count": null,
      "outputs": []
    },
    {
      "cell_type": "markdown",
      "source": [
        "데이터프레임 재구조화 관련 함수와 함께 사용하면 다양한 동작이 가능하다."
      ],
      "metadata": {
        "id": "XI7Svimzmzwt"
      }
    },
    {
      "cell_type": "code",
      "source": [
        "df.melt().groupby(\"variable\").mean()"
      ],
      "metadata": {
        "id": "8h0pb-rgl6vd"
      },
      "execution_count": null,
      "outputs": []
    },
    {
      "cell_type": "code",
      "source": [
        "df.stack().groupby(level=1).mean()"
      ],
      "metadata": {
        "id": "ziN8xthBlQge"
      },
      "execution_count": null,
      "outputs": []
    },
    {
      "cell_type": "code",
      "source": [
        "df.mean()"
      ],
      "metadata": {
        "id": "T_glTULmmMNT"
      },
      "execution_count": null,
      "outputs": []
    },
    {
      "cell_type": "markdown",
      "metadata": {
        "id": "hRsso6xeVRdp"
      },
      "source": [
        "## <font color=\"green\">기타</font>"
      ]
    },
    {
      "cell_type": "markdown",
      "metadata": {
        "id": "FmyUkeqdHQJq"
      },
      "source": [
        "### 다중 색인"
      ]
    },
    {
      "cell_type": "markdown",
      "metadata": {
        "id": "erCird5YORIW"
      },
      "source": [
        "index, columns를 중첩 형태로 전달해서 다중 색인을 설정할 수 있다."
      ]
    },
    {
      "cell_type": "code",
      "metadata": {
        "id": "mA3rUWXQHSw1"
      },
      "source": [
        "import numpy as np\n",
        "import pandas as pd\n",
        "\n",
        "df = pd.DataFrame(np.arange(16).reshape(4, 4),\n",
        "                  index=[[1, 1, 2, 2], [\"IT\", \"일본어\", \"IT\", \"일본어\"]],\n",
        "                  columns=[[\"100기\", \"100기\", \"101기\", \"101기\"], [\"오전\", \"오후\", \"오전\", \"오후\"]])\n",
        "\n",
        "df"
      ],
      "execution_count": null,
      "outputs": []
    },
    {
      "cell_type": "code",
      "metadata": {
        "id": "xy75ZrTEH4zv"
      },
      "source": [
        "df[\"100기\"]"
      ],
      "execution_count": null,
      "outputs": []
    },
    {
      "cell_type": "code",
      "metadata": {
        "id": "AZOLyX7BIGeL"
      },
      "source": [
        "df[\"100기\", \"오후\"]"
      ],
      "execution_count": null,
      "outputs": []
    },
    {
      "cell_type": "code",
      "metadata": {
        "id": "tyRYZOxzIKtK"
      },
      "source": [
        "df.loc[1, \"100기\"]"
      ],
      "execution_count": null,
      "outputs": []
    },
    {
      "cell_type": "code",
      "metadata": {
        "id": "pM3aKfsiIb9F"
      },
      "source": [
        "df.loc[1, \"100기\"][\"IT\":\"IT\"]\n",
        "# df.loc[1, \"100기\"].loc[\"IT\"]"
      ],
      "execution_count": null,
      "outputs": []
    },
    {
      "cell_type": "code",
      "metadata": {
        "id": "AeZjjcS_N3kX"
      },
      "source": [
        "swapped_df = df.swaplevel(0, 1)\n",
        "swapped_df"
      ],
      "execution_count": null,
      "outputs": []
    },
    {
      "cell_type": "code",
      "metadata": {
        "id": "2FBjthVVOl2t"
      },
      "source": [
        "swapped_df2 = df.swaplevel(0, 1, axis=1)\n",
        "swapped_df2"
      ],
      "execution_count": null,
      "outputs": []
    },
    {
      "cell_type": "markdown",
      "metadata": {
        "id": "gPQAjnr0RDWG"
      },
      "source": [
        "### 축 재설정"
      ]
    },
    {
      "cell_type": "code",
      "metadata": {
        "id": "uEZDO3fjPdva"
      },
      "source": [
        "import pandas as pd\n",
        "\n",
        "df = pd.DataFrame({\n",
        "    \"idx1\": [1, 1, 2, 2],\n",
        "    \"idx2\": list(\"ABAB\"),\n",
        "    \"data1\": range(4),\n",
        "    \"data2\": range(5, 9)\n",
        "})\n",
        "df"
      ],
      "execution_count": null,
      "outputs": []
    },
    {
      "cell_type": "code",
      "metadata": {
        "id": "-gavQHYfaL71"
      },
      "source": [
        "# index를 column으로써 데이터 추가\n",
        "reset_df = df.reset_index()\n",
        "reset_df"
      ],
      "execution_count": null,
      "outputs": []
    },
    {
      "cell_type": "code",
      "metadata": {
        "id": "xnBF2rl1P-_p"
      },
      "source": [
        "# 열을 index로 설정\n",
        "set_df = df.set_index([\"idx1\", \"idx2\"])\n",
        "set_df"
      ],
      "execution_count": null,
      "outputs": []
    },
    {
      "cell_type": "code",
      "metadata": {
        "id": "tEy7AtmCQsl1"
      },
      "source": [
        "# index 이름 재설정\n",
        "set_df2 = set_df.set_axis([[\"C\", \"C\", \"D\", \"D\"], [3, 4, 5, 6]])\n",
        "set_df2"
      ],
      "execution_count": null,
      "outputs": []
    },
    {
      "cell_type": "code",
      "metadata": {
        "id": "bCNSvAcaR-FN"
      },
      "source": [
        "# columns 이름 재설정\n",
        "set_df3 = set_df2.set_axis([\"input\", \"output\"], axis=1)\n",
        "set_df3"
      ],
      "execution_count": null,
      "outputs": []
    },
    {
      "cell_type": "markdown",
      "metadata": {
        "id": "Gl9SJl4LS-3z"
      },
      "source": [
        "### 시각화"
      ]
    },
    {
      "cell_type": "markdown",
      "metadata": {
        "id": "aY588y4GT2nH"
      },
      "source": [
        "plot 함수를 쓰게 되면, pandas 모듈 내부에서 파이썬 시각화 라이브러리인 matplotlib을 호출하여 그래프로 표시해준다."
      ]
    },
    {
      "cell_type": "code",
      "source": [
        "import numpy as np\n",
        "import pandas as pd\n",
        "import matplotlib.pyplot as plt"
      ],
      "metadata": {
        "id": "jyNfTP7ljdyM"
      },
      "execution_count": null,
      "outputs": []
    },
    {
      "cell_type": "code",
      "source": [
        "rand_sr = pd.Series(np.random.rand(100)) # 0 이상 1 미만의 임의의 실수 100개 생성\n",
        "rand_sr.plot()\n",
        "plt.show()"
      ],
      "metadata": {
        "id": "cBRhsTRgje3I"
      },
      "execution_count": null,
      "outputs": []
    },
    {
      "cell_type": "code",
      "source": [
        "randn_sr = pd.Series(np.random.randn(100)) # 평균 0 표준편차 1인 임의의 실수 100개 생성\n",
        "randn_sr.plot()\n",
        "plt.show()"
      ],
      "metadata": {
        "id": "MJvAGfUwj2OT"
      },
      "execution_count": null,
      "outputs": []
    },
    {
      "cell_type": "code",
      "metadata": {
        "id": "ZyOnLZJ9TAi-",
        "collapsed": true
      },
      "source": [
        "random_df = pd.DataFrame({\n",
        "    \"rand\": rand_sr,\n",
        "    \"randn\": randn_sr\n",
        "})\n",
        "random_df.plot()\n",
        "plt.show()"
      ],
      "execution_count": null,
      "outputs": []
    },
    {
      "cell_type": "code",
      "source": [
        "x = np.linspace(0, 2 * np.pi, 10)\n",
        "sin_cos_df = pd.DataFrame({\n",
        "    \"sin\": np.sin(x),\n",
        "    \"cos\": np.cos(x)\n",
        "})\n",
        "sin_cos_df.plot()\n",
        "plt.show()"
      ],
      "metadata": {
        "id": "eUispLbdkWXy"
      },
      "execution_count": null,
      "outputs": []
    },
    {
      "cell_type": "markdown",
      "metadata": {
        "id": "xsTGUvqLUAsk"
      },
      "source": [
        "시각화와 관련하여 자세한 내용은 matplotlib을 확인하자."
      ]
    }
  ]
}