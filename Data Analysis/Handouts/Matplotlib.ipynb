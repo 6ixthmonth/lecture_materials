{
  "cells": [
    {
      "cell_type": "markdown",
      "metadata": {
        "id": "31khrO09Za_B"
      },
      "source": [
        "# ![title](https://upload.wikimedia.org/wikipedia/en/5/56/Matplotlib_logo.svg)"
      ]
    },
    {
      "cell_type": "markdown",
      "metadata": {
        "id": "W8c7HMXBZa_C"
      },
      "source": [
        "**Matplotlib**는 데이터의 시각화를 위한 Python의 라이브러리이다. Matplotlib을 이용하면 다양한 것을 만들 수 있다.\n",
        "\n",
        "- 논문에서 사용할 수 있는 수준의 도표를 만들 수 있다.\n",
        "- 확대/축소 및 이동, 실시간 반영 등의 기능을 갖춘, 상호작용이 가능한 도표를 만들 수 있다.\n",
        "- 시각적 스타일 및 레이아웃을 사용자 정의에 맞게 설정할 수 있다.\n",
        "- 시각화 결과물을 다양한 파일 형식으로 내보낼 수 있다.\n",
        "- Matplotlib에 구축된 다양한 서드 파티 패키지를 사용할 수 있다.\n",
        "\n",
        "![title](http://codetorial.net/matplotlib/_images/matplotlib_intro2.png)\n",
        "\n",
        "![title](https://upload.wikimedia.org/wikipedia/commons/c/ca/Mpl_screenshot_figures_and_code.png)"
      ]
    },
    {
      "cell_type": "markdown",
      "metadata": {
        "id": "mLAueOfQxRyn"
      },
      "source": [
        "# <font color=\"blue\">기본 사용법</font>"
      ]
    },
    {
      "cell_type": "markdown",
      "metadata": {
        "id": "R2SSexQTxqwN"
      },
      "source": [
        "matplotlib을 사용할 땐 주로 **pyplot** 모듈을 사용한다.\n",
        "\n",
        "pyplot엔 도표를 그리기 위해 필요한 대부분의 도구들이 포함되어 있다.\n",
        "\n",
        "pyplot은 일반적으로 plt라는 별칭으로 불러온다."
      ]
    },
    {
      "cell_type": "code",
      "execution_count": null,
      "metadata": {
        "id": "DIjxiKf3xhGA"
      },
      "outputs": [],
      "source": [
        "import matplotlib.pyplot as plt"
      ]
    },
    {
      "cell_type": "markdown",
      "metadata": {
        "id": "JiXjBOg5AIzd"
      },
      "source": [
        "matplotlib은 **Figure**를 사용해서 데이터를 시각화한다. **Figure**는 한 개 이상의 **Axes**를 포함하며 이를 조작하고 제어할 수 있다.\n",
        "\n",
        "**Axes**는 x-y 좌표계를 이용해서 데이터를 표현하는 영역이다. 하나의 **Axes**에 여러 개의 그래프를 그리고 설정할 수 있다.\n",
        "\n",
        "여러 가지 방법이 있지만, Axes와 함께 Figure를 만드는 방법 중 가장 쉬운 방법은 `subplots()` 함수를 사용하는 것이다."
      ]
    },
    {
      "cell_type": "code",
      "execution_count": null,
      "metadata": {
        "id": "boGzOcjQEJhE"
      },
      "outputs": [],
      "source": [
        "fig, ax = plt.subplots()  # 한 개의 Axes를 포함하는 Figure 생성\n",
        "ax.plot([1, 2, 3, 4], [1, 4, 2, 3]);  # Axes에 데이터를 표현"
      ]
    },
    {
      "cell_type": "markdown",
      "metadata": {
        "id": "7NcReBUPEmRV"
      },
      "source": [
        "![title](https://matplotlib.org/stable/_images/anatomy.png)"
      ]
    },
    {
      "cell_type": "markdown",
      "metadata": {
        "id": "RDxMNgweA6eK"
      },
      "source": [
        "## <font color=\"green\">Figure</font>"
      ]
    },
    {
      "cell_type": "markdown",
      "metadata": {
        "id": "2e2x4jFsFIrt"
      },
      "source": [
        "Figure는 도표 전체를 가리킨다. 하나의 Figure는 연동된 모든 자식 Axes들을 인식하고 연결되어 있기 때문에, 해당 Figure 내에 있는 Axes들을 조작하거나 제어할 수 있다.\n",
        "\n",
        "여러 가지 방법이 있지만, 새 Figure를 만드는 가장 쉬운 방법은 pyplot을 사용하는 것이다."
      ]
    },
    {
      "cell_type": "code",
      "execution_count": null,
      "metadata": {
        "id": "DXcOv-mIFsh0"
      },
      "outputs": [],
      "source": [
        "fig = plt.figure()  # Axes가 없는 비어있는 Figure 생성"
      ]
    },
    {
      "cell_type": "markdown",
      "metadata": {
        "id": "shnqAzjKFuAG"
      },
      "source": [
        "Figure와 함께 Axes를 생성하는 것이 편리한 경우가 많지만 나중에 Axes를 수동으로 추가할 수도 있다."
      ]
    },
    {
      "cell_type": "markdown",
      "metadata": {
        "id": "OJgmshoKGhEa"
      },
      "source": [
        "## <font color=\"green\">Axes</font>"
      ]
    },
    {
      "cell_type": "markdown",
      "metadata": {
        "id": "kG3HFmOZG7K8"
      },
      "source": [
        "Axes는 Figure에 포함되어 있으며 데이터를 표현하기 위한 영역을 가지고 있다. 또한 Axes는 눈금과 눈금 값을 표기하기 위한 **Axis** 객체를 두 개 이상 포함하고 있다. Axes는 그밖에도 제목, x축, y축 표기 레이블 등을 가지고 있다.\n",
        "\n",
        "Axes 클래스 및 그 멤버 함수들은 OOP 방식으로 도표를 그리기 위해 가장 처음으로 사용되는 것들이며 도표를 그리기 위한 다양한 방법들이 구현되어 있다."
      ]
    },
    {
      "cell_type": "markdown",
      "metadata": {
        "id": "JyIG2oH1NUEJ"
      },
      "source": [
        "## <font color=\"green\">Axis</font>"
      ]
    },
    {
      "cell_type": "markdown",
      "metadata": {
        "id": "hKtDB-qFNVpz"
      },
      "source": [
        "축이라는 뜻의 이 객체들은 스케일과 표시 범위를 설정하고 눈금과 눈금 표기값 등을 생성한다."
      ]
    },
    {
      "cell_type": "markdown",
      "metadata": {
        "id": "4TPQqbKEgNu1"
      },
      "source": [
        "# <font color=\"blue\">선도표(line plot) 그리기</font>"
      ]
    },
    {
      "cell_type": "markdown",
      "metadata": {
        "id": "mQld0yHcZa_D"
      },
      "source": [
        "## <font color=\"green\">기본적인 그래프 그리기</font>"
      ]
    },
    {
      "cell_type": "markdown",
      "metadata": {
        "id": "fEWHLUTf0c0L"
      },
      "source": [
        "**plot()** 함수는 그래프를 표시하기 전에 데이터를 적용하는 역할을 한다.\n",
        "\n",
        "plot() 함수의 인자로 표시할 데이터를 전달한 후 **show()** 함수를 통해 출력한다."
      ]
    },
    {
      "cell_type": "code",
      "execution_count": null,
      "metadata": {
        "id": "9_6470Rk0hGg"
      },
      "outputs": [],
      "source": [
        "plt.plot([1, 16, 4, 9])\n",
        "plt.show()"
      ]
    },
    {
      "cell_type": "markdown",
      "metadata": {
        "id": "qW4dMF620vai"
      },
      "source": [
        "위 코드에서 plot() 함수에 전달된 리스트는 자동으로 y축의 값으로 설정된다. x축의 값 또한 0부터 시작해서 1의 간격으로 자동으로 설정된다.\n",
        "\n",
        "또는 다음 코드와 같이 두 개의 리스트를 전달함으로써 각각 x축의 값, y축의 값으로 설정된 그래프를 그릴 수도 있다."
      ]
    },
    {
      "cell_type": "code",
      "execution_count": null,
      "metadata": {
        "id": "Hp9042bb1JRW"
      },
      "outputs": [],
      "source": [
        "plt.plot([1, 2, 4, 8], [1, 16, 4, 9])\n",
        "plt.show()"
      ]
    },
    {
      "cell_type": "markdown",
      "metadata": {
        "id": "tSYFgxVghRvf"
      },
      "source": [
        "리스트 뿐만 아니라 numpy array를 전달할 수도 있다. 실제로 plot() 함수에 전달되는 데이터는 함수 내부에서 numpy array로 처리된다."
      ]
    },
    {
      "cell_type": "code",
      "execution_count": null,
      "metadata": {
        "id": "0AFCbzr6id80"
      },
      "outputs": [],
      "source": [
        "import numpy as np\n",
        "\n",
        "x = np.arange(0., 5., .1) # 0.0 이상 5.0 미만의 범위를 0.1 간격으로 나눈 숫자들로 이루어진 numpy array 생성\n",
        "\n",
        "plt.plot(x, x ** 2)\n",
        "plt.show()"
      ]
    },
    {
      "cell_type": "markdown",
      "metadata": {
        "id": "WXOwmzdEkYxY"
      },
      "source": [
        "여러 개의 그래프를 동시에 표시할 수도 있다."
      ]
    },
    {
      "cell_type": "code",
      "execution_count": null,
      "metadata": {
        "id": "Ddw3LTwTkwwA"
      },
      "outputs": [],
      "source": [
        "x = np.linspace(0, 2 * np.pi, 9) # 0부터 2π까지의 범위를 9개만큼 나눈 숫자들로 이루어진 numpy array 생성\n",
        "\n",
        "plt.plot(x, np.sin(x), x, np.cos(x)) # plt.plot(x1, y1, x2, y2, ...)\n",
        "\n",
        "plt.show()"
      ]
    },
    {
      "cell_type": "code",
      "execution_count": null,
      "metadata": {
        "id": "LCbFYYi6Zf4a"
      },
      "outputs": [],
      "source": [
        "x = np.linspace(0, 2 * np.pi, 9) # 0부터 2π까지의 범위를 9개만큼 나눈 숫자들로 이루어진 numpy array 생성\n",
        "\n",
        "plt.plot(x, np.sin(x)) # 첫 번째 그래프 값 설정\n",
        "plt.plot(x, np.cos(x)) # 두 번째 그래프 값 설정\n",
        "\n",
        "plt.show()"
      ]
    },
    {
      "cell_type": "markdown",
      "metadata": {
        "id": "DVFYCHIeZa_D"
      },
      "source": [
        "## <font color=\"green\">제목 표시하기</font>"
      ]
    },
    {
      "cell_type": "markdown",
      "metadata": {
        "id": "-NO0MpeFZa_E"
      },
      "source": [
        "**title()** 함수를 이용해서 그림의 제목을 표시할 수 있다.\n",
        "\n",
        "또한 **xlabel()** 함수와 **ylabel()** 함수를 이용해서 각각 x축의 이름과 y축의 이름을 표시할 수 있다.\n",
        "\n"
      ]
    },
    {
      "cell_type": "code",
      "execution_count": null,
      "metadata": {
        "id": "vCvVyFB9GffS"
      },
      "outputs": [],
      "source": [
        "plt.plot([\"Jan\", \"Feb\", \"March\"], [104.8, 72.9, 134.7])\n",
        "\n",
        "plt.title(\"Monthly Sales Graph\")\n",
        "plt.xlabel(\"Month\")\n",
        "plt.ylabel(\"Sales\")\n",
        "\n",
        "plt.show()"
      ]
    },
    {
      "cell_type": "markdown",
      "metadata": {
        "id": "YdLBqBq1HiLx"
      },
      "source": [
        "plot() 함수에 label 키워드 인자를 설정함으로써 그래프에 이름을 지정할 수 있다.\n",
        "\n",
        "이렇게 지정된 이름은 **legend()** 함수를 통해 범례로써 표시할 수 있다."
      ]
    },
    {
      "cell_type": "code",
      "execution_count": null,
      "metadata": {
        "id": "WY04H8p0J1C_"
      },
      "outputs": [],
      "source": [
        "x  = [1, 2, 3, 4, 5, 6, 7, 8, 9]\n",
        "y1 = [1, 3, 5, 3, 1, 3, 5, 3, 1]\n",
        "y2 = [2, 4, 6, 4, 2, 4, 6, 4, 2]\n",
        "plt.plot(x, y1, label=\"line L\")\n",
        "plt.plot(x, y2, label=\"line H\")\n",
        "plt.plot()\n",
        "\n",
        "plt.xlabel(\"x axis\")\n",
        "plt.ylabel(\"y axis\")\n",
        "plt.title(\"Line Graph Example\")\n",
        "plt.legend()\n",
        "plt.show()"
      ]
    },
    {
      "cell_type": "markdown",
      "metadata": {
        "id": "ddbgnMJiZUNs"
      },
      "source": [
        "### <font color=\"red\">한글 폰트 설정하기</font>"
      ]
    },
    {
      "cell_type": "markdown",
      "metadata": {
        "id": "AwWHMVFPD0Ed"
      },
      "source": [
        "matplotlib에서 축 이름 등에 한글을 작성하면 제대로 출력되지 않는 걸 확인할 수 있다."
      ]
    },
    {
      "cell_type": "code",
      "execution_count": null,
      "metadata": {
        "id": "T75C1I0TDzMc"
      },
      "outputs": [],
      "source": [
        "import numpy as np\n",
        "import matplotlib.pyplot as plt\n",
        "\n",
        "data = np.random.randint(-200, 100, 50).cumsum()\n",
        "plt.plot(data)\n",
        "plt.title('시간별 가격 추이')\n",
        "plt.ylabel('주식 가격')\n",
        "plt.xlabel('시간(분)')\n",
        "plt.show()"
      ]
    },
    {
      "cell_type": "markdown",
      "metadata": {
        "id": "8HoLnL7XZwfY"
      },
      "source": [
        "기본적으로 matplotlib은 한글 폰트가 설치되어 있지 않다.\n",
        "\n",
        "우선 jupyter notebook 구동 환경에 설치되어 있는 폰트는 다음과 같이 확인할 수 있다."
      ]
    },
    {
      "cell_type": "code",
      "execution_count": null,
      "metadata": {
        "id": "oSQ_eU2EasO-"
      },
      "outputs": [],
      "source": [
        "import matplotlib.font_manager as fm\n",
        "\n",
        "fonts = fm.findSystemFonts() # 시스템 폰트를 찾는 함수\n",
        "for font in fonts:\n",
        "    print(font)"
      ]
    },
    {
      "cell_type": "markdown",
      "metadata": {
        "id": "AEJ4Ay__hRim"
      },
      "source": [
        "설치할 폰트 경로를 찾아 문자열로 저장한 뒤, 다음의 코드를 통해 matplotlib에 해당 폰트를 적용할 수 있다."
      ]
    },
    {
      "cell_type": "code",
      "execution_count": null,
      "metadata": {
        "id": "XkrwltLyb6c8"
      },
      "outputs": [],
      "source": [
        "fpath = r\"C:\\Windows\\Fonts\\malgun.ttf\" # 설치할 폰트 경로 문자열\n",
        "fname = fm.FontProperties(fname=fpath, size=12).get_name()\n",
        "plt.rc(\"font\", family=fname)"
      ]
    },
    {
      "cell_type": "code",
      "execution_count": null,
      "metadata": {
        "id": "IJhXCmqbYWPj"
      },
      "outputs": [],
      "source": [
        "plt.plot(data)\n",
        "plt.title('시간별 가격 추이')\n",
        "plt.ylabel('주식 가격')\n",
        "plt.xlabel('시간(분)')\n",
        "plt.show()"
      ]
    },
    {
      "cell_type": "markdown",
      "metadata": {
        "id": "vHLWRiBUDWn7"
      },
      "source": [
        "일부 한글 폰트는 matplotlib에 적용했을 때, 마이너스 폰트가 제대로 출력되지 않는다.\n",
        "\n",
        "다음의 코드로 마이너스 폰트 또한 정상적으로 출력할 수 있다."
      ]
    },
    {
      "cell_type": "code",
      "execution_count": null,
      "metadata": {
        "id": "EEcUh3kocPpE"
      },
      "outputs": [],
      "source": [
        "plt.rcParams['axes.unicode_minus'] = False"
      ]
    },
    {
      "cell_type": "markdown",
      "metadata": {
        "id": "94gC9KcbDeKO"
      },
      "source": [
        "지금까지의 과정을 무사히 진행했다면 한글 폰트가 정상적으로 출력되는 걸 확인할 수 있다."
      ]
    },
    {
      "cell_type": "code",
      "execution_count": null,
      "metadata": {
        "id": "KciyMOlucbtU"
      },
      "outputs": [],
      "source": [
        "plt.plot(data)\n",
        "plt.title('시간별 가격 추이')\n",
        "plt.ylabel('주식 가격')\n",
        "plt.xlabel('시간(분)')\n",
        "plt.show()"
      ]
    },
    {
      "cell_type": "markdown",
      "metadata": {
        "id": "e2AaGhwMZa_V"
      },
      "source": [
        "## <font color=\"green\">축 설정하기</font>"
      ]
    },
    {
      "cell_type": "markdown",
      "metadata": {
        "id": "cirugbQaZa_W"
      },
      "source": [
        "\n",
        "\n",
        "**xlim()**, **ylim()** 함수를 통해 각 축의 표시 범위를 설정할 수 있다.\n",
        "\n",
        "**axis()** 함수를 통해 한꺼번에 설정할 수도 있다. 이때는 xmin, xmax, ymin, ymax 값을 리스트 형태로 전달한다."
      ]
    },
    {
      "cell_type": "code",
      "execution_count": null,
      "metadata": {
        "id": "Se9zrzTSZa_X",
        "scrolled": true
      },
      "outputs": [],
      "source": [
        "plt.plot([1, 2, 4, 8], [1, 16, 4, 9])\n",
        "\n",
        "# plt.xlim(0, 10)\n",
        "# plt.ylim(0, 20)\n",
        "plt.axis([0, 10, 0, 20])\n",
        "\n",
        "plt.show()"
      ]
    },
    {
      "cell_type": "markdown",
      "metadata": {
        "id": "7BJGiLBH7Pqk"
      },
      "source": [
        "**xscale()**, **yscale()** 함수를 통해 각 축의 스케일을 설정할 수 있다.\n",
        "\n",
        "설정할 수 있는 스케일의 종류는 선형(linear), 로그(log), 시메트릭 로그(symlog), 로짓(logit) 등이 있다.\n",
        "\n",
        "**grid()** 함수를 통해 그리드(격자) 선을 표시할 수 있다."
      ]
    },
    {
      "cell_type": "code",
      "execution_count": null,
      "metadata": {
        "id": "_MUwbikr8HNx"
      },
      "outputs": [],
      "source": [
        "x = np.arange(0., 1., .01)\n",
        "\n",
        "plt.plot(x, x)\n",
        "plt.yscale(\"linear\")\n",
        "plt.title(\"linear scale\")\n",
        "plt.grid()\n",
        "plt.show()\n",
        "\n",
        "plt.plot(x, x)\n",
        "plt.yscale(\"log\")\n",
        "plt.title(\"log scale\")\n",
        "plt.grid()\n",
        "plt.show()\n",
        "\n",
        "plt.plot(x, x)\n",
        "plt.yscale(\"symlog\")\n",
        "plt.title(\"symlog scale\")\n",
        "plt.grid()\n",
        "plt.show()\n",
        "\n",
        "plt.plot(x, x)\n",
        "plt.yscale(\"logit\")\n",
        "plt.title(\"logit scale\")\n",
        "plt.grid()\n",
        "plt.show()"
      ]
    },
    {
      "cell_type": "markdown",
      "metadata": {
        "id": "1Tcbp2oD8CXU"
      },
      "source": [
        "**xticks(), yticks()** 함수를 통해 각 축의 눈금(ticks)을 설정할 수 있다."
      ]
    },
    {
      "cell_type": "code",
      "execution_count": null,
      "metadata": {
        "id": "1BWOroNIEjY0"
      },
      "outputs": [],
      "source": [
        "plt.plot([1, 16, 4, 9])\n",
        "plt.show()\n",
        "\n",
        "plt.plot([1, 16, 4, 9])\n",
        "plt.xticks(np.arange(0., 2., .5)) # 표시할 눈금 값을 numpy array 형태로 전달\n",
        "plt.show()\n",
        "\n",
        "plt.plot([1, 16, 4, 9])\n",
        "plt.xticks([0, 1, 3], ['January', 'February', 'March'], rotation=30) # 표시할 눈금 값, 명칭, 회전 설정\n",
        "plt.show()\n",
        "\n",
        "plt.plot([1, 16, 4, 9])\n",
        "plt.xticks([]) # 눈금을 없앰\n",
        "plt.show()"
      ]
    },
    {
      "cell_type": "markdown",
      "metadata": {
        "id": "y7AHCItL8C_r"
      },
      "source": [
        "## <font color=\"green\">스타일</font>"
      ]
    },
    {
      "cell_type": "markdown",
      "metadata": {
        "id": "2J6JCDgs9QuM"
      },
      "source": [
        "plot() 함수에 다양한 키워드 인수를 전달하여 스타일을 바꿀 수 있다."
      ]
    },
    {
      "cell_type": "code",
      "execution_count": null,
      "metadata": {
        "id": "yRJmuA8ZGByr"
      },
      "outputs": [],
      "source": [
        "x = np.arange(5)\n",
        "\n",
        "plt.plot(x, x ** 2,\n",
        "         color=\"red\",\n",
        "         linestyle=\"dashed\",\n",
        "         linewidth=3.14,\n",
        "         marker=\"o\",\n",
        "         markeredgecolor=\"green\",\n",
        "         markeredgewidth=1.23,\n",
        "         markerfacecolor=\"yellow\",\n",
        "         markersize=12.3)\n",
        "\n",
        "plt.show()"
      ]
    },
    {
      "cell_type": "markdown",
      "metadata": {
        "id": "yamyRczYI5GD"
      },
      "source": [
        "스타일 문자열을 사용해서 설정할 수도 있다."
      ]
    },
    {
      "cell_type": "code",
      "execution_count": null,
      "metadata": {
        "id": "Qax1QHmlA3q6"
      },
      "outputs": [],
      "source": [
        "x = np.linspace(0, 2 * np.pi, 10)\n",
        "\n",
        "plt.plot(x, np.sin(x), \"ro--\") # 적색 선 원형 마커 실선\n",
        "plt.plot(x, np.cos(x), \"g^-.\") # 녹색 선 삼각형 마커 실점선\n",
        "plt.plot(x, -np.sin(x), \"bs:\") # 청색 선 사각형 마커 점선\n",
        "\n",
        "plt.show()"
      ]
    },
    {
      "cell_type": "markdown",
      "metadata": {
        "id": "D0Iaece7HZDM"
      },
      "source": [
        "# <font color=\"blue\">막대 그래프(bar chart) 그리기</font>"
      ]
    },
    {
      "cell_type": "markdown",
      "metadata": {
        "id": "ZlhFFsSwHh85"
      },
      "source": [
        "**bar()** 함수를 이용해서 막대 그래프를 그릴 수 있다."
      ]
    },
    {
      "cell_type": "code",
      "execution_count": null,
      "metadata": {
        "id": "ogibGroSKU7_"
      },
      "outputs": [],
      "source": [
        "x1 = [1, 3, 4, 5, 6, 7, 9]\n",
        "y1 = [4, 7, 2, 4, 7, 8, 3]\n",
        "\n",
        "x2 = [2, 4, 6, 8, 10]\n",
        "y2 = [5, 6, 2, 6, 2]\n",
        "\n",
        "plt.bar(x1, y1, label=\"Blue Bar\", color='blue', edgecolor=\"yellow\", linewidth=3)\n",
        "plt.bar(x2, y2, label=\"Green Bar\", color='green', edgecolor=\"red\", linewidth=3)\n",
        "\n",
        "plt.xlabel(\"bar number\")\n",
        "plt.ylabel(\"bar height\")\n",
        "plt.title(\"Bar Chart Example\")\n",
        "plt.legend()\n",
        "plt.show()"
      ]
    },
    {
      "cell_type": "markdown",
      "metadata": {
        "id": "rv0s0E-X6HJ5"
      },
      "source": [
        "**barh()** 함수를 이용해서 수평 막대 그래프를 그릴 수 있다."
      ]
    },
    {
      "cell_type": "code",
      "execution_count": null,
      "metadata": {
        "id": "Vw7tpA_86LNG"
      },
      "outputs": [],
      "source": [
        "x1 = [1, 3, 4, 5, 6, 7, 9]\n",
        "y1 = [4, 7, 2, 4, 7, 8, 3]\n",
        "\n",
        "x2 = [2, 4, 6, 8, 10]\n",
        "y2 = [5, 6, 2, 6, 2]\n",
        "\n",
        "plt.barh(x1, y1, label=\"Blue Bar\", color='blue', edgecolor=\"yellow\", linewidth=3)\n",
        "plt.barh(x2, y2, label=\"Green Bar\", color='green', edgecolor=\"red\", linewidth=3)\n",
        "\n",
        "plt.xlabel(\"bar number\")\n",
        "plt.ylabel(\"bar height\")\n",
        "plt.title(\"Bar Chart Example 2\")\n",
        "plt.legend()\n",
        "plt.gca().invert_yaxis() # y축의 순서를 거꾸로 한다.\n",
        "plt.show()"
      ]
    },
    {
      "cell_type": "markdown",
      "metadata": {
        "id": "dysxDL5SHj7Z"
      },
      "source": [
        "# <font color=\"blue\">산점도(scatter plot) 그리기</font>"
      ]
    },
    {
      "cell_type": "markdown",
      "metadata": {
        "id": "SNO2fA8JHmJY"
      },
      "source": [
        "**scatter()** 함수를 이용해서 산점도를 그릴 수 있다."
      ]
    },
    {
      "cell_type": "code",
      "execution_count": null,
      "metadata": {
        "id": "jE1Q2RAQGD2p"
      },
      "outputs": [],
      "source": [
        "x1 = [1, 2, 3]\n",
        "y1 = [5, 5, 5]\n",
        "\n",
        "x2 = np.arange(5)\n",
        "y2 = [2, 3, 2, 3, 4]\n",
        "\n",
        "x3 = np.arange(5)\n",
        "y3 = [6, 8, 7, 8, 7]\n",
        "\n",
        "plt.scatter(x1, y1)\n",
        "plt.scatter(x2, y2, color='r', marker='v')\n",
        "plt.scatter(x3, y3, color='r', marker='^')\n",
        "\n",
        "plt.title('Scatter Plot Example')\n",
        "plt.show()"
      ]
    },
    {
      "cell_type": "markdown",
      "source": [
        "각 점마다 색상과 크기를 따로 할당할 수도 있다."
      ],
      "metadata": {
        "id": "pS_sQ0J2cnJD"
      }
    },
    {
      "cell_type": "code",
      "source": [
        "x = y = size = color = np.arange(1, 102, 10)\n",
        "\n",
        "plt.scatter(x, y, s=size, c=color)\n",
        "\n",
        "plt.show()"
      ],
      "metadata": {
        "id": "St9AnG1bcmZK"
      },
      "execution_count": null,
      "outputs": []
    },
    {
      "cell_type": "markdown",
      "source": [
        "이때 colormap을 설정할 수도 있다. colormap은, 데이터의 분포를 그라데이션 색상으로 표현한 것이다."
      ],
      "metadata": {
        "id": "fMnoTycDlS6W"
      }
    },
    {
      "cell_type": "code",
      "source": [
        "x = y = size = color = np.arange(1, 102, 10)\n",
        "\n",
        "plt.scatter(x, y+10, s=size, c=color, cmap=\"Reds\")\n",
        "plt.scatter(x, y+20, s=size, c=color, cmap=\"Greens\")\n",
        "plt.scatter(x, y+30, s=size, c=color, cmap=\"Blues\")\n",
        "\n",
        "plt.show()"
      ],
      "metadata": {
        "id": "u_yRCde5jnWF"
      },
      "execution_count": null,
      "outputs": []
    },
    {
      "cell_type": "markdown",
      "source": [
        "colormap의 종류는 다음과 같다.\n",
        "\n",
        "---\n",
        "\n",
        "![title](https://matplotlib.org/stable/_images/sphx_glr_colormaps_001.png)\n",
        "![title](https://matplotlib.org/stable/_images/sphx_glr_colormaps_002.png)\n",
        "![title](https://matplotlib.org/stable/_images/sphx_glr_colormaps_003.png)\n",
        "\n",
        "---\n",
        "\n",
        "이외에도 matplotlib에서는 다양한 종류의 colormap을 제공한다."
      ],
      "metadata": {
        "id": "SBnnqmw7lbnX"
      }
    },
    {
      "cell_type": "code",
      "source": [
        "# line plot과 bar plot, scatter plot 비교\n",
        "x = np.arange(50)\n",
        "y = np.random.randn(50)\n",
        "\n",
        "plt.plot(x, y)\n",
        "plt.show()\n",
        "\n",
        "plt.bar(x, y)\n",
        "plt.show()\n",
        "\n",
        "plt.scatter(x, y)\n",
        "plt.show()"
      ],
      "metadata": {
        "id": "aK39XLVndjol"
      },
      "execution_count": null,
      "outputs": []
    },
    {
      "cell_type": "markdown",
      "metadata": {
        "id": "IQWKHuQWIQwQ"
      },
      "source": [
        "# <font color=\"blue\">히스토그램(histogram) 그리기</font>"
      ]
    },
    {
      "cell_type": "markdown",
      "metadata": {
        "id": "dKqIlvYYITcv"
      },
      "source": [
        "**hist()** 함수를 이용해서 히스토그램을 그릴 수 있다."
      ]
    },
    {
      "cell_type": "code",
      "execution_count": null,
      "metadata": {
        "id": "3_TNmcaWMql5"
      },
      "outputs": [],
      "source": [
        "x = np.arange(1000)\n",
        "y = np.random.randn(1000) # 평균이 0, 표준편차가 1인 표준정규분포를 따르는 난수 1000개 생성\n",
        "\n",
        "# 원본 데이터 출력\n",
        "plt.bar(x, y)\n",
        "plt.title(\"Raw Data\")\n",
        "plt.show()\n",
        "\n",
        "# 데이터를 구간 별로 나눠서 빈도 출력\n",
        "plt.hist(y), bins=20) # bins: 표현할 데이터를 20개의 구간으로 나눈다.\n",
        "plt.title(\"Histogram\")\n",
        "plt.show()\n",
        "\n",
        "plt.hist(y, bins=20, cumulative=True)\n",
        "plt.title(\"Cumulative Histogram\")\n",
        "plt.show()"
      ]
    },
    {
      "cell_type": "markdown",
      "metadata": {
        "id": "X6-fYczjIaRA"
      },
      "source": [
        "# <font color=\"blue\">원 그래프(pie chart) 그리기</font>"
      ]
    },
    {
      "cell_type": "markdown",
      "metadata": {
        "id": "cT3bC4XP4Yio"
      },
      "source": [
        "**pie()** 함수를 이용해서 원 그래프를 그릴 수 있다."
      ]
    },
    {
      "cell_type": "code",
      "execution_count": null,
      "metadata": {
        "id": "S8v8g_cBujtV"
      },
      "outputs": [],
      "source": [
        "plt.pie([0.3, 0.35, 0.4])\n",
        "\n",
        "plt.title('Pie Chart Example')\n",
        "plt.show()"
      ]
    },
    {
      "cell_type": "markdown",
      "metadata": {
        "id": "_YEe9Ebqu_zY"
      },
      "source": [
        "pie() 함수에 전달하는 값들의 합이 1을 넘기면, 데이터 총합에 대한 각 데이터의 비율을 계산하여 원 그래프를 그려준다.\n",
        "\n",
        "다양한 옵션들을 이용해서 원 그래프를 다른 방식으로 표시할 수 있다."
      ]
    },
    {
      "cell_type": "code",
      "execution_count": null,
      "metadata": {
        "id": "Vc1ihetpskLD"
      },
      "outputs": [],
      "source": [
        "sections = [12, 24, 36]\n",
        "labels = 'S1', 'S2', 'S3'\n",
        "colors = ['r', 'g', 'b']\n",
        "\n",
        "plt.pie(sections, # 조각의 크기를 설정하는 기본값.\n",
        "        explode=(0.2, 0, 0), # 조각을 중심으로부터 얼마만큼 떨어지게 할 것인지 설정한다. 기본값은 None.\n",
        "        labels=labels, # 조각의 이름을 표시한다. 기본값은 None.\n",
        "        colors=colors, # 조각의 색깔을 결정한다. 기본값은 None.\n",
        "        autopct='%.2f%%', # 비율(%)을 표시하는 형식 문자열을 지정한다. 기본값은 None.\n",
        "        shadow=True, # 그림자를 표시한다.\n",
        "        startangle=90, # 조각이 시작하는 위치를 결정한다. 기본 값은 0.\n",
        "        radius=1.2, # 반지름을 설정한다. 기본 값은 1.\n",
        "        counterclock=False, # 반시계방향으로 순서대로 표시할지 결정한다. 기본 값은 True.\n",
        "        rotatelabels=True) # 조각의 이름을 회전시킨다. 기본 값은 False.\n",
        "\n",
        "plt.title('Pie Chart Example 2')\n",
        "plt.show()"
      ]
    },
    {
      "cell_type": "markdown",
      "source": [
        "# <font color=\"blue\">Figure, Axes 다루기</font>"
      ],
      "metadata": {
        "id": "9OdkDUahEolz"
      }
    },
    {
      "cell_type": "code",
      "source": [
        "import matplotlib.pyplot as plt"
      ],
      "metadata": {
        "id": "VtjB9uzsEuor"
      },
      "execution_count": null,
      "outputs": []
    },
    {
      "cell_type": "markdown",
      "source": [
        "## <font color=\"green\">Figure, Axes 객체 생성</font>"
      ],
      "metadata": {
        "id": "5ozsKoqwRAYF"
      }
    },
    {
      "cell_type": "markdown",
      "source": [
        "pyplot에서 **axes** 객체를 생성할 수 있다.\n",
        "\n",
        "만들어진 **axes** 객체에서 다양한 함수를 사용해서 그래프를 표현할 수 있다."
      ],
      "metadata": {
        "id": "5p3UPKvsOyfH"
      }
    },
    {
      "cell_type": "code",
      "source": [
        "# axes 객체를 생성해서 기존에 만들어진 figure 객체에 연결시킨다.\n",
        "# 기존에 만들어진 figure 객체가 없으면 자동으로 생성한다.\n",
        "ax = plt.axes([0.1, 0.1, 0.8, 0.8]) # left, bottom, width, height\n",
        "# ax = plt.subplot()\n",
        "# fig, ax = plt.subplots() # figure 객체와 axes 객체를 동시에 생성한다.\n",
        "\n",
        "ax.plot([1, 16, 4, 9])\n",
        "plt.show()"
      ],
      "metadata": {
        "id": "BBLhTBrAKGde"
      },
      "execution_count": null,
      "outputs": []
    },
    {
      "cell_type": "markdown",
      "source": [
        "pyplot에서 **figure** 객체를 생성할 수 있다.\n",
        "\n",
        "만들어진 **figure** 객체에서 다양한 함수를 사용해서 axes 객체를 생성할 수 있다."
      ],
      "metadata": {
        "id": "jA7sH3RhOimf"
      }
    },
    {
      "cell_type": "code",
      "source": [
        "# 새 figure 객체를 생성한다.\n",
        "fig = plt.figure()\n",
        "\n",
        "# figure 객체에 axes 객체를 추가한다.\n",
        "ax = fig.add_axes([0.1, 0.1, 0.8, 0.8])\n",
        "# ax = fig.add_subplot()\n",
        "# ax = fig.subplots()\n",
        "\n",
        "ax.plot([1, 16, 4, 9])\n",
        "plt.show()"
      ],
      "metadata": {
        "id": "dEhIPAntFhe7"
      },
      "execution_count": null,
      "outputs": []
    },
    {
      "cell_type": "markdown",
      "source": [
        "## <font color=\"green\">Figure 설정</font>"
      ],
      "metadata": {
        "id": "6BhnZ6NkRIis"
      }
    },
    {
      "cell_type": "markdown",
      "source": [
        "figure 객체 생성 시 다양한 설정을 할 수 있다."
      ],
      "metadata": {
        "id": "4oBgUT8DQ8mh"
      }
    },
    {
      "cell_type": "code",
      "source": [
        "fig = plt.figure(\n",
        "    figsize=(9.6, 7.2), # figure 객체의 크기. 기본값 6.4 * 4.8 인치.\n",
        "    dpi=75.0, # 해상도(dots per inch). 기본값 100.\n",
        "    facecolor=\"gray\", # 배경색\n",
        "    edgecolor=\"red\", # 테두리색\n",
        "    linewidth=3.14 # 테두리 두께\n",
        ")\n",
        "\n",
        "ax = fig.subplots()\n",
        "ax.plot([1, 16, 4, 9])\n",
        "plt.show()"
      ],
      "metadata": {
        "id": "ucgk0Sk-RKAF"
      },
      "execution_count": null,
      "outputs": []
    },
    {
      "cell_type": "markdown",
      "source": [
        "## <font color=\"green\">Axes 설정</font>"
      ],
      "metadata": {
        "id": "3mfj36z7TTQO"
      }
    },
    {
      "cell_type": "code",
      "source": [
        "import numpy as np"
      ],
      "metadata": {
        "id": "2Ve8k7BOTxbH"
      },
      "execution_count": null,
      "outputs": []
    },
    {
      "cell_type": "markdown",
      "source": [
        "pyplot에서 했던 것처럼, axes 객체에 도표를 그리는 다양한 함수를 사용할 수 있다."
      ],
      "metadata": {
        "id": "1FtJi-rClXbA"
      }
    },
    {
      "cell_type": "code",
      "source": [
        "x = np.arange(50)\n",
        "y = np.random.randn(50)\n",
        "\n",
        "fig, ax = plt.subplots()\n",
        "ax.plot(x, y)\n",
        "# ax.bar(x, y)\n",
        "# ax.scatter(x, y)\n",
        "\n",
        "plt.show()"
      ],
      "metadata": {
        "id": "RVoiplDzTW6H"
      },
      "execution_count": null,
      "outputs": []
    },
    {
      "cell_type": "markdown",
      "source": [
        "pyplot에서 했던 것처럼, 다양한 설정 또한 사용할 수 있다."
      ],
      "metadata": {
        "id": "4Vz-EE9Cl-v3"
      }
    },
    {
      "cell_type": "code",
      "source": [
        "x = np.arange(5)\n",
        "y1 = x\n",
        "y2 = x ** 2\n",
        "y3 = x ** 3\n",
        "\n",
        "fig, ax = plt.subplots()\n",
        "ax.plot(x, y1, label=\"linear\")\n",
        "ax.plot(x, y2, label=\"square\")\n",
        "ax.plot(x, y3, label=\"cubic\")\n",
        "\n",
        "ax.axis([0, 5, 0, 100])\n",
        "ax.grid()\n",
        "ax.legend()\n",
        "\n",
        "plt.show()"
      ],
      "metadata": {
        "id": "M8MKzgTyiF3G"
      },
      "execution_count": null,
      "outputs": []
    },
    {
      "cell_type": "markdown",
      "source": [
        "이때, 일부 설정은 함수명이 다르니 유의해야 한다."
      ],
      "metadata": {
        "id": "jayh7A1qmHgy"
      }
    },
    {
      "cell_type": "code",
      "source": [
        "x = np.arange(5)\n",
        "y1 = x\n",
        "y2 = x ** 2\n",
        "y3 = x ** 3\n",
        "\n",
        "fig, ax = plt.subplots()\n",
        "ax.plot(x, y1, label=\"linear\")\n",
        "ax.plot(x, y2, label=\"square\")\n",
        "ax.plot(x, y3, label=\"cubic\")\n",
        "\n",
        "ax.set_xlim(0, 5) # plt.xlim()\n",
        "ax.set_ylim(0, 100) # plt.ylim()\n",
        "ax.set_xlabel(\"x axis\") # plt.xlabel()\n",
        "ax.set_ylabel(\"y axis\") # plt.ylabel()\n",
        "ax.set_title(\"sample\") # plt.title()\n",
        "ax.set_xticks(np.arange(0, 4)) # plt.xticks()\n",
        "ax.set_yticks(np.arange(0, 100, 10)) # plt.yticks()\n",
        "\n",
        "plt.show()"
      ],
      "metadata": {
        "id": "L85BlStZkJAm"
      },
      "execution_count": null,
      "outputs": []
    },
    {
      "cell_type": "markdown",
      "metadata": {
        "id": "JLLEdloHIVOi"
      },
      "source": [
        "# <font color=\"blue\">서브플롯 그리기</font>"
      ]
    },
    {
      "cell_type": "markdown",
      "metadata": {
        "id": "8X9E4oET4Z3k"
      },
      "source": [
        "**plt.subplot()** 또는 **fig.add_subplot()** 함수를 이용해서 하나의 figure에 여러 개의 axes를 추가할 수 있다."
      ]
    },
    {
      "cell_type": "code",
      "execution_count": null,
      "metadata": {
        "id": "Sk3LjA9rz1CR"
      },
      "outputs": [],
      "source": [
        "x = np.linspace(0, 2 * np.pi, 9)\n",
        "\n",
        "y1 = np.sin(x)\n",
        "y2 = np.cos(x)\n",
        "\n",
        "plt.subplot(211) # nrows=2, ncols=1, index=1\n",
        "# plt.subplot(2, 1, 1) # nrows=2, ncols=1, index=1\n",
        "plt.plot(x, y1, \"ro--\")\n",
        "plt.xticks([])\n",
        "\n",
        "plt.subplot(212) # nrows=2, ncols=1, index=2\n",
        "# plt.subplot(2, 1, 2) # nrows=2, ncols=1, index=2\n",
        "plt.plot(x, y2, \"g^:\")\n",
        "plt.xticks(x)\n",
        "\n",
        "plt.show()"
      ]
    },
    {
      "cell_type": "markdown",
      "metadata": {
        "id": "iEmEKD1a_iBB"
      },
      "source": [
        "**plt.subplots()** 또는 **fig.subplots()** 함수를 이용해서 표시할 수도 있다. subplots() 함수로 표시할 플롯의 개수를 설정한 다음, 반환되는 객체를 이용해서 각 플롯의 데이터를 설정한다."
      ]
    },
    {
      "cell_type": "code",
      "execution_count": null,
      "metadata": {
        "id": "7k1vUGEB_mYA"
      },
      "outputs": [],
      "source": [
        "fig, axes = plt.subplots(2, 2, sharex=True, sharey=True)\n",
        "\n",
        "fig.set_size_inches((8, 8)) # figure의 크기를 설정한다.\n",
        "\n",
        "axes[0, 0].scatter(np.random.random(100), np.random.random(100), color=\"cyan\", edgecolor=\"red\", alpha=0.5)\n",
        "axes[0, 1].scatter(np.random.random(100), np.random.random(100), color=\"magenta\", edgecolor=\"green\", alpha=0.5)\n",
        "axes[1, 0].scatter(np.random.random(100), np.random.random(100), color=\"yellow\", edgecolor=\"blue\", alpha=0.5)\n",
        "axes[1, 1].scatter(np.random.random(100), np.random.random(100), color=\"white\", edgecolor=\"black\", alpha=0.5)\n",
        "\n",
        "axes[0, 0].set_title(\"subplot 0\")\n",
        "axes[0, 1].set_title(\"subplot 1\")\n",
        "axes[1, 0].set_title(\"subplot 2\")\n",
        "axes[1, 1].set_title(\"subplot 3\")\n",
        "\n",
        "plt.show()"
      ]
    },
    {
      "cell_type": "markdown",
      "metadata": {
        "id": "cfHzCnXx7LUU"
      },
      "source": [
        "또는 **plt.subplot2grid()** 함수를 이용해서 격자식 레이아웃 형태로 배치할 수도 있다."
      ]
    },
    {
      "cell_type": "code",
      "execution_count": null,
      "metadata": {
        "id": "Ycg4vGQB7S7N"
      },
      "outputs": [],
      "source": [
        "fig = plt.figure()\n",
        "ax1 = plt.subplot2grid((6, 2), (0, 0), rowspan=1, colspan=1) # 격자 크기, 표시할 플롯의 위치, 행 통합, 열 통합 값을 차례로 전달한다.\n",
        "ax2 = plt.subplot2grid((6, 2), (1, 0), rowspan=3, colspan=2)\n",
        "ax3 = plt.subplot2grid((6, 2), (4, 0), rowspan=2, colspan=1)\n",
        "ax4 = plt.subplot2grid((6, 2), (4, 1), rowspan=1, colspan=1)\n",
        "\n",
        "ax1.plot(np.arange(100), np.random.rand(100))\n",
        "ax2.plot(np.arange(100), np.random.randint(10, size=100))\n",
        "ax3.plot(np.arange(50), np.random.randint(5, size=50))\n",
        "ax4.plot(np.arange(50), np.random.randint(5, size=50))\n",
        "\n",
        "plt.tight_layout()\n",
        "plt.show()"
      ]
    },
    {
      "cell_type": "code",
      "source": [
        "# 새 figure 객체를 생성한다.\n",
        "fig = plt.figure()\n",
        "\n",
        "# figure 객체에 axes 객체를 추가한다.\n",
        "# ax = fig.add_subplot(111)\n",
        "# ax = fig.add_subplot(1, 1, 1)\n",
        "# ax = fig.subplots(1, 1)\n",
        "\n",
        "ax.plot([1, 16, 4, 9])\n",
        "plt.show()"
      ],
      "metadata": {
        "id": "kodnATP2OHdl"
      },
      "execution_count": null,
      "outputs": []
    }
  ],
  "metadata": {
    "colab": {
      "collapsed_sections": [
        "31khrO09Za_B",
        "mLAueOfQxRyn",
        "RDxMNgweA6eK",
        "OJgmshoKGhEa",
        "JyIG2oH1NUEJ",
        "4TPQqbKEgNu1",
        "mQld0yHcZa_D",
        "DVFYCHIeZa_D",
        "ddbgnMJiZUNs",
        "e2AaGhwMZa_V",
        "y7AHCItL8C_r",
        "D0Iaece7HZDM",
        "dysxDL5SHj7Z",
        "IQWKHuQWIQwQ",
        "X6-fYczjIaRA",
        "9OdkDUahEolz",
        "5ozsKoqwRAYF",
        "6BhnZ6NkRIis",
        "3mfj36z7TTQO",
        "JLLEdloHIVOi"
      ],
      "name": "Matplotlib_강의_자료.ipynb",
      "provenance": []
    },
    "kernelspec": {
      "display_name": "Python 3 (ipykernel)",
      "language": "python",
      "name": "python3"
    },
    "language_info": {
      "codemirror_mode": {
        "name": "ipython",
        "version": 3
      },
      "file_extension": ".py",
      "mimetype": "text/x-python",
      "name": "python",
      "nbconvert_exporter": "python",
      "pygments_lexer": "ipython3",
      "version": "3.7.13"
    }
  },
  "nbformat": 4,
  "nbformat_minor": 0
}