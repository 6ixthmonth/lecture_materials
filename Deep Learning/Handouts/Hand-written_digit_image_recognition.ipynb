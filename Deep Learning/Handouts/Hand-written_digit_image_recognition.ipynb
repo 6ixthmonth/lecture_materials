{
 "cells": [
  {
   "cell_type": "code",
   "execution_count": 1,
   "metadata": {
    "id": "Tmn5qpNLgae_"
   },
   "outputs": [],
   "source": [
    "# 패키지 수입\n",
    "import numpy as np\n",
    "import pandas as pd\n",
    "import matplotlib.pyplot as plt\n",
    "\n",
    "from sklearn.datasets import load_digits\n",
    "from sklearn.model_selection import train_test_split\n",
    "from sklearn.metrics import confusion_matrix\n",
    "\n",
    "from tensorflow.keras.utils import to_categorical\n",
    "from tensorflow.keras.models import Sequential\n",
    "from tensorflow.keras.layers import InputLayer, Conv2D, MaxPool2D, Flatten, Dense"
   ]
  },
  {
   "cell_type": "code",
   "execution_count": 2,
   "metadata": {
    "id": "Sn21D29g_-Uz"
   },
   "outputs": [],
   "source": [
    "# 하이퍼 패러미터 설정\n",
    "MY_BATCH = 100\n",
    "MY_EPOCH = 50"
   ]
  },
  {
   "cell_type": "code",
   "execution_count": 3,
   "metadata": {
    "id": "NOsURhgoiEaw"
   },
   "outputs": [],
   "source": [
    "# 0. 데이터 불러오기\n",
    "digits = load_digits()\n",
    "X = digits.data\n",
    "Y = digits.target"
   ]
  },
  {
   "cell_type": "code",
   "execution_count": 4,
   "metadata": {
    "id": "xVK3gbxIqJyr"
   },
   "outputs": [
    {
     "data": {
      "image/png": "[encoded data removed]",
      "text/plain": [
       "<Figure size 720x720 with 9 Axes>"
      ]
     },
     "metadata": {},
     "output_type": "display_data"
    }
   ],
   "source": [
    "# 1. 샘플 데이터 시각화\n",
    "sample_num = 100\n",
    "\n",
    "fig, ax = plt.subplots(3, 3, figsize=(10, 10))\n",
    "\n",
    "for row in range(3):\n",
    "    for col in range(3):\n",
    "        sub = ax[row, col]\n",
    "        sub.imshow(X[sample_num].reshape(8, 8), cmap=\"gray\")\n",
    "\n",
    "        sub.set_title(str(sample_num) + \": \" + str(Y[sample_num]))\n",
    "        sub.set_xticks([])\n",
    "        sub.set_yticks([])\n",
    "\n",
    "        sample_num += 100\n",
    "\n",
    "plt.show()"
   ]
  },
  {
   "cell_type": "code",
   "execution_count": 5,
   "metadata": {
    "id": "QX1I_9Kzuj9H"
   },
   "outputs": [],
   "source": [
    "# 2. 입력 데이터 차원 수 재구성\n",
    "X = X.reshape(X.shape[0], 8, 8, 1)"
   ]
  },
  {
   "cell_type": "code",
   "execution_count": 6,
   "metadata": {
    "id": "vQ8R_KGrvRN9"
   },
   "outputs": [],
   "source": [
    "# 3. 입력 데이터 스케일링\n",
    "X = X / 255.0"
   ]
  },
  {
   "cell_type": "code",
   "execution_count": 7,
   "metadata": {
    "id": "PgLxNkhW_nZ0"
   },
   "outputs": [],
   "source": [
    "# 4. 출력 데이터 원-핫 인코딩\n",
    "Y = to_categorical(Y, 10)"
   ]
  },
  {
   "cell_type": "code",
   "execution_count": 8,
   "metadata": {
    "id": "VCUTbAnGC2y9"
   },
   "outputs": [],
   "source": [
    "# 5. 학습용, 평가용 데이터 분할\n",
    "X_train, X_test, Y_train, Y_test = train_test_split(X, Y, test_size=0.25, random_state=43)"
   ]
  },
  {
   "cell_type": "code",
   "execution_count": 9,
   "metadata": {
    "id": "LPTcVrFz_vJV"
   },
   "outputs": [
    {
     "name": "stdout",
     "output_type": "stream",
     "text": [
      "Model: \"sequential\"\n",
      "_________________________________________________________________\n",
      "Layer (type)                 Output Shape              Param #   \n",
      "=================================================================\n",
      "conv2d (Conv2D)              (None, 8, 8, 12)          204       \n",
      "_________________________________________________________________\n",
      "max_pooling2d (MaxPooling2D) (None, 4, 4, 12)          0         \n",
      "_________________________________________________________________\n",
      "conv2d_1 (Conv2D)            (None, 4, 4, 24)          4632      \n",
      "_________________________________________________________________\n",
      "max_pooling2d_1 (MaxPooling2 (None, 2, 2, 24)          0         \n",
      "_________________________________________________________________\n",
      "flatten (Flatten)            (None, 96)                0         \n",
      "_________________________________________________________________\n",
      "dense (Dense)                (None, 2000)              194000    \n",
      "_________________________________________________________________\n",
      "dense_1 (Dense)              (None, 10)                20010     \n",
      "=================================================================\n",
      "Total params: 218,846\n",
      "Trainable params: 218,846\n",
      "Non-trainable params: 0\n",
      "_________________________________________________________________\n"
     ]
    }
   ],
   "source": [
    "# 6. 인공신경망 구축\n",
    "model = Sequential()\n",
    "\n",
    "model.add(InputLayer(input_shape=(8, 8, 1)))\n",
    "\n",
    "model.add(Conv2D(12, kernel_size=(4, 4), padding=\"same\", activation=\"relu\"))\n",
    "model.add(MaxPool2D(pool_size=(2, 2), padding=\"same\"))\n",
    "\n",
    "model.add(Conv2D(24, kernel_size=(4, 4), padding=\"same\", activation=\"relu\"))\n",
    "model.add(MaxPool2D(pool_size=(2, 2), padding=\"same\"))\n",
    "\n",
    "model.add(Flatten())\n",
    "model.add(Dense(2000, activation=\"relu\"))\n",
    "model.add(Dense(10, activation=\"softmax\"))\n",
    "\n",
    "model.summary()"
   ]
  },
  {
   "cell_type": "code",
   "execution_count": 10,
   "metadata": {
    "id": "PdcMbKUvA2Ej"
   },
   "outputs": [],
   "source": [
    "# 7. 기타 환경 설정\n",
    "model.compile(optimizer=\"adam\", loss=\"categorical_crossentropy\", metrics=[\"acc\"])"
   ]
  },
  {
   "cell_type": "code",
   "execution_count": 11,
   "metadata": {
    "id": "XxxFVmwTBB35"
   },
   "outputs": [
    {
     "name": "stdout",
     "output_type": "stream",
     "text": [
      "Epoch 1/50\n",
      "14/14 [==============================] - 0s 13ms/step - loss: 2.2966 - acc: 0.1054 - val_loss: 2.2904 - val_acc: 0.0689\n",
      "Epoch 2/50\n",
      "14/14 [==============================] - 0s 4ms/step - loss: 2.2580 - acc: 0.1990 - val_loss: 2.2336 - val_acc: 0.2289\n",
      "Epoch 3/50\n",
      "14/14 [==============================] - 0s 4ms/step - loss: 2.1488 - acc: 0.3289 - val_loss: 2.0477 - val_acc: 0.4111\n",
      "Epoch 4/50\n",
      "14/14 [==============================] - 0s 4ms/step - loss: 1.8718 - acc: 0.5457 - val_loss: 1.6672 - val_acc: 0.5911\n",
      "Epoch 5/50\n",
      "14/14 [==============================] - 0s 4ms/step - loss: 1.4289 - acc: 0.6540 - val_loss: 1.2255 - val_acc: 0.6400\n",
      "Epoch 6/50\n",
      "14/14 [==============================] - 0s 4ms/step - loss: 1.0586 - acc: 0.6986 - val_loss: 0.9460 - val_acc: 0.7178\n",
      "Epoch 7/50\n",
      "14/14 [==============================] - 0s 4ms/step - loss: 0.8508 - acc: 0.7595 - val_loss: 0.7990 - val_acc: 0.7711\n",
      "Epoch 8/50\n",
      "14/14 [==============================] - 0s 4ms/step - loss: 0.7099 - acc: 0.8040 - val_loss: 0.6903 - val_acc: 0.7822\n",
      "Epoch 9/50\n",
      "14/14 [==============================] - 0s 4ms/step - loss: 0.6102 - acc: 0.8248 - val_loss: 0.5875 - val_acc: 0.8467\n",
      "Epoch 10/50\n",
      "14/14 [==============================] - 0s 4ms/step - loss: 0.5348 - acc: 0.8530 - val_loss: 0.5565 - val_acc: 0.8267\n",
      "Epoch 11/50\n",
      "14/14 [==============================] - 0s 4ms/step - loss: 0.4971 - acc: 0.8537 - val_loss: 0.4898 - val_acc: 0.8600\n",
      "Epoch 12/50\n",
      "14/14 [==============================] - 0s 4ms/step - loss: 0.4577 - acc: 0.8686 - val_loss: 0.4824 - val_acc: 0.8511\n",
      "Epoch 13/50\n",
      "14/14 [==============================] - 0s 4ms/step - loss: 0.4164 - acc: 0.8827 - val_loss: 0.4687 - val_acc: 0.8311\n",
      "Epoch 14/50\n",
      "14/14 [==============================] - 0s 4ms/step - loss: 0.3924 - acc: 0.8953 - val_loss: 0.4004 - val_acc: 0.8778\n",
      "Epoch 15/50\n",
      "14/14 [==============================] - 0s 4ms/step - loss: 0.3467 - acc: 0.9072 - val_loss: 0.3471 - val_acc: 0.8867\n",
      "Epoch 16/50\n",
      "14/14 [==============================] - 0s 4ms/step - loss: 0.3228 - acc: 0.9027 - val_loss: 0.3320 - val_acc: 0.9000\n",
      "Epoch 17/50\n",
      "14/14 [==============================] - 0s 4ms/step - loss: 0.3119 - acc: 0.9072 - val_loss: 0.3175 - val_acc: 0.9000\n",
      "Epoch 18/50\n",
      "14/14 [==============================] - 0s 4ms/step - loss: 0.2864 - acc: 0.9102 - val_loss: 0.3193 - val_acc: 0.8956\n",
      "Epoch 19/50\n",
      "14/14 [==============================] - 0s 4ms/step - loss: 0.2809 - acc: 0.9183 - val_loss: 0.3048 - val_acc: 0.9000\n",
      "Epoch 20/50\n",
      "14/14 [==============================] - 0s 4ms/step - loss: 0.2604 - acc: 0.9213 - val_loss: 0.2713 - val_acc: 0.9244\n",
      "Epoch 21/50\n",
      "14/14 [==============================] - 0s 4ms/step - loss: 0.2503 - acc: 0.9220 - val_loss: 0.2532 - val_acc: 0.9356\n",
      "Epoch 22/50\n",
      "14/14 [==============================] - 0s 4ms/step - loss: 0.2352 - acc: 0.9310 - val_loss: 0.2709 - val_acc: 0.9067\n",
      "Epoch 23/50\n",
      "14/14 [==============================] - 0s 4ms/step - loss: 0.2264 - acc: 0.9310 - val_loss: 0.2317 - val_acc: 0.9289\n",
      "Epoch 24/50\n",
      "14/14 [==============================] - 0s 4ms/step - loss: 0.2145 - acc: 0.9391 - val_loss: 0.2319 - val_acc: 0.9222\n",
      "Epoch 25/50\n",
      "14/14 [==============================] - 0s 4ms/step - loss: 0.2183 - acc: 0.9354 - val_loss: 0.2458 - val_acc: 0.9133\n",
      "Epoch 26/50\n",
      "14/14 [==============================] - 0s 4ms/step - loss: 0.2222 - acc: 0.9354 - val_loss: 0.2165 - val_acc: 0.9356\n",
      "Epoch 27/50\n",
      "14/14 [==============================] - 0s 4ms/step - loss: 0.2209 - acc: 0.9302 - val_loss: 0.2115 - val_acc: 0.9400\n",
      "Epoch 28/50\n",
      "14/14 [==============================] - 0s 4ms/step - loss: 0.1952 - acc: 0.9362 - val_loss: 0.1837 - val_acc: 0.9422\n",
      "Epoch 29/50\n",
      "14/14 [==============================] - 0s 4ms/step - loss: 0.1801 - acc: 0.9465 - val_loss: 0.1755 - val_acc: 0.9422\n",
      "Epoch 30/50\n",
      "14/14 [==============================] - 0s 4ms/step - loss: 0.1746 - acc: 0.9428 - val_loss: 0.1840 - val_acc: 0.9400\n",
      "Epoch 31/50\n",
      "14/14 [==============================] - 0s 4ms/step - loss: 0.1670 - acc: 0.9488 - val_loss: 0.1945 - val_acc: 0.9422\n",
      "Epoch 32/50\n",
      "14/14 [==============================] - 0s 4ms/step - loss: 0.1777 - acc: 0.9421 - val_loss: 0.1853 - val_acc: 0.9422\n",
      "Epoch 33/50\n",
      "14/14 [==============================] - 0s 4ms/step - loss: 0.1517 - acc: 0.9555 - val_loss: 0.1661 - val_acc: 0.9533\n",
      "Epoch 34/50\n",
      "14/14 [==============================] - 0s 4ms/step - loss: 0.1492 - acc: 0.9562 - val_loss: 0.1435 - val_acc: 0.9578\n",
      "Epoch 35/50\n",
      "14/14 [==============================] - 0s 4ms/step - loss: 0.1410 - acc: 0.9577 - val_loss: 0.1440 - val_acc: 0.9578\n",
      "Epoch 36/50\n",
      "14/14 [==============================] - 0s 4ms/step - loss: 0.1466 - acc: 0.9607 - val_loss: 0.1415 - val_acc: 0.9600\n",
      "Epoch 37/50\n",
      "14/14 [==============================] - 0s 4ms/step - loss: 0.1361 - acc: 0.9592 - val_loss: 0.1466 - val_acc: 0.9511\n",
      "Epoch 38/50\n",
      "14/14 [==============================] - 0s 4ms/step - loss: 0.1431 - acc: 0.9547 - val_loss: 0.1361 - val_acc: 0.9644\n",
      "Epoch 39/50\n",
      "14/14 [==============================] - 0s 4ms/step - loss: 0.1382 - acc: 0.9569 - val_loss: 0.1358 - val_acc: 0.9578\n",
      "Epoch 40/50\n",
      "14/14 [==============================] - 0s 4ms/step - loss: 0.1185 - acc: 0.9651 - val_loss: 0.1265 - val_acc: 0.9689\n",
      "Epoch 41/50\n",
      "14/14 [==============================] - 0s 4ms/step - loss: 0.1201 - acc: 0.9644 - val_loss: 0.1175 - val_acc: 0.9622\n",
      "Epoch 42/50\n",
      "14/14 [==============================] - 0s 4ms/step - loss: 0.1138 - acc: 0.9644 - val_loss: 0.1218 - val_acc: 0.9644\n",
      "Epoch 43/50\n",
      "14/14 [==============================] - 0s 4ms/step - loss: 0.1089 - acc: 0.9696 - val_loss: 0.1130 - val_acc: 0.9622\n",
      "Epoch 44/50\n",
      "14/14 [==============================] - 0s 4ms/step - loss: 0.1037 - acc: 0.9696 - val_loss: 0.1240 - val_acc: 0.9644\n",
      "Epoch 45/50\n",
      "14/14 [==============================] - 0s 4ms/step - loss: 0.1086 - acc: 0.9673 - val_loss: 0.1326 - val_acc: 0.9556\n",
      "Epoch 46/50\n",
      "14/14 [==============================] - 0s 4ms/step - loss: 0.0982 - acc: 0.9696 - val_loss: 0.1163 - val_acc: 0.9644\n",
      "Epoch 47/50\n",
      "14/14 [==============================] - 0s 4ms/step - loss: 0.0944 - acc: 0.9725 - val_loss: 0.1059 - val_acc: 0.9644\n",
      "Epoch 48/50\n",
      "14/14 [==============================] - 0s 4ms/step - loss: 0.0916 - acc: 0.9748 - val_loss: 0.1081 - val_acc: 0.9622\n",
      "Epoch 49/50\n",
      "14/14 [==============================] - 0s 4ms/step - loss: 0.1002 - acc: 0.9681 - val_loss: 0.1147 - val_acc: 0.9600\n",
      "Epoch 50/50\n",
      "14/14 [==============================] - 0s 4ms/step - loss: 0.0950 - acc: 0.9703 - val_loss: 0.1112 - val_acc: 0.9600\n"
     ]
    }
   ],
   "source": [
    "# 8. 학습 진행\n",
    "hist = model.fit(X_train, Y_train, batch_size=MY_BATCH, epochs=MY_EPOCH, verbose=1, validation_data=(X_test, Y_test))"
   ]
  },
  {
   "cell_type": "code",
   "execution_count": 12,
   "metadata": {
    "id": "VHqt-phDDstc"
   },
   "outputs": [
    {
     "data": {
      "image/png": "[encoded data removed]",
      "text/plain": [
       "<Figure size 720x720 with 2 Axes>"
      ]
     },
     "metadata": {
      "needs_background": "light"
     },
     "output_type": "display_data"
    }
   ],
   "source": [
    "# 9. 학습 내역 시각화\n",
    "fig, loss_ax = plt.subplots(figsize=(10, 10))\n",
    "acc_ax = loss_ax.twinx()\n",
    "\n",
    "loss_ax.plot(hist.history[\"loss\"], \"r\", label=\"train loss\")\n",
    "loss_ax.plot(hist.history[\"val_loss\"], \"m\", label=\"val loss\")\n",
    "\n",
    "acc_ax.plot(hist.history[\"acc\"], \"b\", label=\"train acc\")\n",
    "acc_ax.plot(hist.history[\"val_acc\"], \"c\", label=\"val acc\")\n",
    "\n",
    "loss_ax.set_xlabel(\"Epochs\")\n",
    "loss_ax.set_ylabel(\"Loss\")\n",
    "acc_ax.set_ylabel(\"Accuracy\")\n",
    "\n",
    "loss_ax.legend()\n",
    "acc_ax.legend()\n",
    "\n",
    "plt.show()"
   ]
  },
  {
   "cell_type": "code",
   "execution_count": 13,
   "metadata": {
    "id": "haAX_hKUGk-k"
   },
   "outputs": [
    {
     "name": "stdout",
     "output_type": "stream",
     "text": [
      "5/5 [==============================] - 0s 1ms/step - loss: 0.1112 - acc: 0.9600\n",
      "Test loss: 0.11115242540836334\n",
      "Test accuracy: 0.9599999785423279\n"
     ]
    }
   ],
   "source": [
    "# 10. 평가 진행\n",
    "loss, acc = model.evaluate(X_test, Y_test, batch_size=MY_BATCH, verbose=1)\n",
    "print(f\"{loss=}, {acc=}\")"
   ]
  },
  {
   "cell_type": "code",
   "execution_count": 14,
   "metadata": {
    "id": "JV9ghNv0Gfps"
   },
   "outputs": [
    {
     "name": "stdout",
     "output_type": "stream",
     "text": [
      "5/5 [==============================] - 0s 998us/step\n"
     ]
    }
   ],
   "source": [
    "# 11. 예측 데이터 생성\n",
    "Y_pred = model.predict(X_test, batch_size=MY_BATCH, verbose=1)"
   ]
  },
  {
   "cell_type": "code",
   "execution_count": 15,
   "metadata": {
    "id": "d0G2dfxmHm08"
   },
   "outputs": [],
   "source": [
    "# 12. 원-핫 인코딩 되돌리기\n",
    "Y_test = np.argmax(Y_test, axis=1)\n",
    "Y_pred = np.argmax(Y_pred, axis=1)"
   ]
  },
  {
   "cell_type": "code",
   "execution_count": 16,
   "metadata": {
    "id": "iejml3lxInh-"
   },
   "outputs": [
    {
     "data": {
      "image/png": "[encoded data removed]",
      "text/plain": [
       "<Figure size 720x720 with 9 Axes>"
      ]
     },
     "metadata": {},
     "output_type": "display_data"
    }
   ],
   "source": [
    "# 13. 틀린 예측 데이터 시각화\n",
    "row = 3\n",
    "col = 3\n",
    "\n",
    "fig, ax = plt.subplots(row, col, figsize=(10, 10))\n",
    "\n",
    "i = 0\n",
    "cnt = 0\n",
    "\n",
    "while cnt < (row * col):\n",
    "    if Y_test[i] == Y_pred[i]:\n",
    "        i += 1\n",
    "        continue\n",
    "\n",
    "    sub = ax[int(cnt/row), int(cnt%col)]\n",
    "    sub.imshow(X_test[i].reshape(8, 8), cmap=\"gray\")\n",
    "\n",
    "    title = str(i) + \"- Predict: \" + str(Y_pred[i]) + \"\\nActual: \" + str(Y_test[i]) \n",
    "    sub.set_title(title)\n",
    "    sub.set_xticks([])\n",
    "    sub.set_yticks([])\n",
    "\n",
    "    i += 1\n",
    "    cnt += 1\n",
    "\n",
    "plt.show()"
   ]
  },
  {
   "cell_type": "code",
   "execution_count": 17,
   "metadata": {
    "id": "UHZ-7aF3IDy5"
   },
   "outputs": [
    {
     "data": {
      "text/html": [
       "<div>\n",
       "<style scoped>\n",
       "    .dataframe tbody tr th:only-of-type {\n",
       "        vertical-align: middle;\n",
       "    }\n",
       "\n",
       "    .dataframe tbody tr th {\n",
       "        vertical-align: top;\n",
       "    }\n",
       "\n",
       "    .dataframe thead th {\n",
       "        text-align: right;\n",
       "    }\n",
       "</style>\n",
       "<table border=\"1\" class=\"dataframe\">\n",
       "  <thead>\n",
       "    <tr style=\"text-align: right;\">\n",
       "      <th></th>\n",
       "      <th>0</th>\n",
       "      <th>1</th>\n",
       "      <th>2</th>\n",
       "      <th>3</th>\n",
       "      <th>4</th>\n",
       "      <th>5</th>\n",
       "      <th>6</th>\n",
       "      <th>7</th>\n",
       "      <th>8</th>\n",
       "      <th>9</th>\n",
       "    </tr>\n",
       "  </thead>\n",
       "  <tbody>\n",
       "    <tr>\n",
       "      <th>0</th>\n",
       "      <td>51</td>\n",
       "      <td>0</td>\n",
       "      <td>0</td>\n",
       "      <td>0</td>\n",
       "      <td>0</td>\n",
       "      <td>0</td>\n",
       "      <td>0</td>\n",
       "      <td>0</td>\n",
       "      <td>0</td>\n",
       "      <td>0</td>\n",
       "    </tr>\n",
       "    <tr>\n",
       "      <th>1</th>\n",
       "      <td>0</td>\n",
       "      <td>26</td>\n",
       "      <td>3</td>\n",
       "      <td>0</td>\n",
       "      <td>0</td>\n",
       "      <td>0</td>\n",
       "      <td>0</td>\n",
       "      <td>0</td>\n",
       "      <td>5</td>\n",
       "      <td>3</td>\n",
       "    </tr>\n",
       "    <tr>\n",
       "      <th>2</th>\n",
       "      <td>0</td>\n",
       "      <td>0</td>\n",
       "      <td>37</td>\n",
       "      <td>0</td>\n",
       "      <td>0</td>\n",
       "      <td>0</td>\n",
       "      <td>0</td>\n",
       "      <td>0</td>\n",
       "      <td>1</td>\n",
       "      <td>0</td>\n",
       "    </tr>\n",
       "    <tr>\n",
       "      <th>3</th>\n",
       "      <td>0</td>\n",
       "      <td>0</td>\n",
       "      <td>0</td>\n",
       "      <td>30</td>\n",
       "      <td>0</td>\n",
       "      <td>1</td>\n",
       "      <td>0</td>\n",
       "      <td>0</td>\n",
       "      <td>0</td>\n",
       "      <td>0</td>\n",
       "    </tr>\n",
       "    <tr>\n",
       "      <th>4</th>\n",
       "      <td>0</td>\n",
       "      <td>0</td>\n",
       "      <td>0</td>\n",
       "      <td>0</td>\n",
       "      <td>49</td>\n",
       "      <td>0</td>\n",
       "      <td>0</td>\n",
       "      <td>0</td>\n",
       "      <td>0</td>\n",
       "      <td>1</td>\n",
       "    </tr>\n",
       "    <tr>\n",
       "      <th>5</th>\n",
       "      <td>0</td>\n",
       "      <td>0</td>\n",
       "      <td>0</td>\n",
       "      <td>0</td>\n",
       "      <td>0</td>\n",
       "      <td>43</td>\n",
       "      <td>0</td>\n",
       "      <td>0</td>\n",
       "      <td>0</td>\n",
       "      <td>0</td>\n",
       "    </tr>\n",
       "    <tr>\n",
       "      <th>6</th>\n",
       "      <td>0</td>\n",
       "      <td>0</td>\n",
       "      <td>0</td>\n",
       "      <td>0</td>\n",
       "      <td>0</td>\n",
       "      <td>0</td>\n",
       "      <td>52</td>\n",
       "      <td>0</td>\n",
       "      <td>0</td>\n",
       "      <td>0</td>\n",
       "    </tr>\n",
       "    <tr>\n",
       "      <th>7</th>\n",
       "      <td>0</td>\n",
       "      <td>0</td>\n",
       "      <td>0</td>\n",
       "      <td>0</td>\n",
       "      <td>1</td>\n",
       "      <td>0</td>\n",
       "      <td>0</td>\n",
       "      <td>45</td>\n",
       "      <td>0</td>\n",
       "      <td>0</td>\n",
       "    </tr>\n",
       "    <tr>\n",
       "      <th>8</th>\n",
       "      <td>0</td>\n",
       "      <td>1</td>\n",
       "      <td>0</td>\n",
       "      <td>0</td>\n",
       "      <td>0</td>\n",
       "      <td>1</td>\n",
       "      <td>0</td>\n",
       "      <td>0</td>\n",
       "      <td>52</td>\n",
       "      <td>0</td>\n",
       "    </tr>\n",
       "    <tr>\n",
       "      <th>9</th>\n",
       "      <td>0</td>\n",
       "      <td>0</td>\n",
       "      <td>0</td>\n",
       "      <td>1</td>\n",
       "      <td>0</td>\n",
       "      <td>0</td>\n",
       "      <td>0</td>\n",
       "      <td>0</td>\n",
       "      <td>0</td>\n",
       "      <td>47</td>\n",
       "    </tr>\n",
       "  </tbody>\n",
       "</table>\n",
       "</div>"
      ],
      "text/plain": [
       "    0   1   2   3   4   5   6   7   8   9\n",
       "0  51   0   0   0   0   0   0   0   0   0\n",
       "1   0  26   3   0   0   0   0   0   5   3\n",
       "2   0   0  37   0   0   0   0   0   1   0\n",
       "3   0   0   0  30   0   1   0   0   0   0\n",
       "4   0   0   0   0  49   0   0   0   0   1\n",
       "5   0   0   0   0   0  43   0   0   0   0\n",
       "6   0   0   0   0   0   0  52   0   0   0\n",
       "7   0   0   0   0   1   0   0  45   0   0\n",
       "8   0   1   0   0   0   1   0   0  52   0\n",
       "9   0   0   0   1   0   0   0   0   0  47"
      ]
     },
     "metadata": {},
     "output_type": "display_data"
    }
   ],
   "source": [
    "# 14. 혼동 행렬 생성\n",
    "cm = confusion_matrix(Y_test, Y_pred)\n",
    "cm = pd.DataFrame(cm)\n",
    "display(cm)"
   ]
  }
 ],
 "metadata": {
  "colab": {
   "authorship_tag": "ABX9TyOMF2xnvGQ6JsyCxziD6gVe",
   "name": "SWDO 6기 3차 역량평가(정답).ipynb",
   "private_outputs": true,
   "provenance": []
  },
  "kernelspec": {
   "display_name": "Python 3 (ipykernel)",
   "language": "python",
   "name": "python3"
  },
  "language_info": {
   "codemirror_mode": {
    "name": "ipython",
    "version": 3
   },
   "file_extension": ".py",
   "mimetype": "text/x-python",
   "name": "python",
   "nbconvert_exporter": "python",
   "pygments_lexer": "ipython3",
   "version": "3.7.13"
  }
 },
 "nbformat": 4,
 "nbformat_minor": 1
}
