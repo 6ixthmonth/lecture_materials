{
 "cells": [
  {
   "cell_type": "code",
   "execution_count": 1,
   "id": "4b022db2",
   "metadata": {},
   "outputs": [],
   "source": [
    "# 케라스를 이용한 패션 아이템 이미지 인식 예제"
   ]
  },
  {
   "cell_type": "code",
   "execution_count": 2,
   "id": "b6ce6742",
   "metadata": {},
   "outputs": [
    {
     "name": "stderr",
     "output_type": "stream",
     "text": [
      "Using TensorFlow backend.\n"
     ]
    }
   ],
   "source": [
    "# 패키지 불러오기\n",
    "import numpy as np\n",
    "import pandas as pd\n",
    "import matplotlib.pyplot as plt\n",
    "\n",
    "from tensorflow.keras.datasets import fashion_mnist # 원본 데이터를 불러올 때 사용하는 클래스\n",
    "from keras.utils import np_utils # 데이터 전처리에 사용하는 모듈\n",
    "\n",
    "from tensorflow.keras.models import Sequential\n",
    "from tensorflow.keras.layers import InputLayer, Conv2D, MaxPool2D # CNN 모델에 사용할 클래스들\n",
    "from tensorflow.keras.layers import Flatten, Dense # DNN 모델로 변환할 때 사용할 클래스들"
   ]
  },
  {
   "cell_type": "code",
   "execution_count": 3,
   "id": "d4da0a75",
   "metadata": {},
   "outputs": [],
   "source": [
    "# 하이퍼패러미터 설정\n",
    "MY_BATCH = 200\n",
    "MY_EPOCH = 10"
   ]
  },
  {
   "cell_type": "code",
   "execution_count": 4,
   "id": "4f447d00",
   "metadata": {},
   "outputs": [],
   "source": [
    "# 데이터 불러오기\n",
    "(x_train, y_train), (x_test, y_test) = fashion_mnist.load_data()"
   ]
  },
  {
   "cell_type": "code",
   "execution_count": 5,
   "id": "47390bca",
   "metadata": {},
   "outputs": [
    {
     "name": "stdout",
     "output_type": "stream",
     "text": [
      "입력 데이터 shape: (60000, 28, 28)\n",
      "최소 픽셀값: 0\n",
      "최대 픽셀값: 255\n",
      "출력 데이터 shape: (60000,)\n",
      "출력 최소값: 0\n",
      "출력 최대값: 9\n"
     ]
    }
   ],
   "source": [
    "# 원본 데이터 확인하기\n",
    "print(\"입력 데이터 shape:\", x_train.shape) # 28*28 픽셀의 2차원 이미지를 60000장 구성한 3차원 배열\n",
    "print(\"최소 픽셀값:\", x_train.min()) # 0\n",
    "print(\"최대 픽셀값:\", x_train.max()) # 255\n",
    "\n",
    "print(\"출력 데이터 shape:\", y_train.shape) # 0~9 사이의 값을 60000개 구성한 1차원 배열\n",
    "print(\"출력 최소값:\", y_train.min())\n",
    "print(\"출력 최대값:\", y_train.max())"
   ]
  },
  {
   "cell_type": "code",
   "execution_count": 6,
   "id": "37c9b426",
   "metadata": {},
   "outputs": [],
   "source": [
    "# 출력 값에 해당하는 이름표 목록 생성\n",
    "labels = ['t-shirt', 'trouser', 'pullover', 'dress', 'coat',\n",
    "'sandal', 'shirt', 'sneaker', 'bag', 'ankle-boot']"
   ]
  },
  {
   "cell_type": "code",
   "execution_count": 7,
   "id": "b7ab5cce",
   "metadata": {},
   "outputs": [
    {
     "data": {
      "image/png": "[encoded data removed]",
      "text/plain": [
       "<Figure size 432x288 with 1 Axes>"
      ]
     },
     "metadata": {},
     "output_type": "display_data"
    }
   ],
   "source": [
    "# 원본 이미지 시각화\n",
    "num = 1\n",
    "\n",
    "plt.imshow(x_train[num], cmap=\"Greys\")\n",
    "\n",
    "plt.title(str(num) + \": \" + labels[y_train[num]])\n",
    "plt.xticks([])\n",
    "plt.yticks([])\n",
    "plt.show()"
   ]
  },
  {
   "cell_type": "code",
   "execution_count": 8,
   "id": "ae9bf361",
   "metadata": {},
   "outputs": [],
   "source": [
    "# 입력 데이터 전처리\n",
    "# 데이터 스케일링\n",
    "x_train = x_train / 255.0\n",
    "x_test = x_test / 255.0"
   ]
  },
  {
   "cell_type": "code",
   "execution_count": 9,
   "id": "a312c4f7",
   "metadata": {},
   "outputs": [
    {
     "name": "stdout",
     "output_type": "stream",
     "text": [
      "0.0\n",
      "1.0\n"
     ]
    }
   ],
   "source": [
    "# 스케일링된 데이터 확인\n",
    "print(x_train.min())\n",
    "print(x_train.max())"
   ]
  },
  {
   "cell_type": "code",
   "execution_count": 10,
   "id": "cdc16493",
   "metadata": {},
   "outputs": [],
   "source": [
    "# 입력 데이터 전처리\n",
    "# 색상 채널 수 추가\n",
    "x_train = x_train.reshape(60000, 28, 28, 1)\n",
    "x_test = x_test.reshape(10000, 28, 28, 1)"
   ]
  },
  {
   "cell_type": "code",
   "execution_count": 11,
   "id": "d3420e88",
   "metadata": {},
   "outputs": [
    {
     "name": "stdout",
     "output_type": "stream",
     "text": [
      "(60000, 28, 28, 1)\n",
      "(10000, 28, 28, 1)\n"
     ]
    }
   ],
   "source": [
    "# 입력 데이터 차원 수 확인\n",
    "print(x_train.shape)\n",
    "print(x_test.shape)"
   ]
  },
  {
   "cell_type": "code",
   "execution_count": 12,
   "id": "07e34215",
   "metadata": {},
   "outputs": [],
   "source": [
    "# 출력 데이터 전처리\n",
    "# 범주형 데이터에 대해서 one-hot encoding 실시\n",
    "y_train = np_utils.to_categorical(y_train, 10)\n",
    "y_test = np_utils.to_categorical(y_test, 10)"
   ]
  },
  {
   "cell_type": "code",
   "execution_count": 13,
   "id": "1bd8a238",
   "metadata": {},
   "outputs": [
    {
     "data": {
      "text/plain": [
       "array([0., 0., 0., 0., 0., 0., 0., 0., 0., 1.], dtype=float32)"
      ]
     },
     "execution_count": 13,
     "metadata": {},
     "output_type": "execute_result"
    }
   ],
   "source": [
    "# one-hot encoding된 데이터 확인\n",
    "# y_train.shape\n",
    "y_train[0]"
   ]
  },
  {
   "cell_type": "code",
   "execution_count": 14,
   "id": "ac38a3e3",
   "metadata": {},
   "outputs": [],
   "source": [
    "# Q8\n",
    "x_train = x_train[0:30000]\n",
    "y_train = y_train[0:30000]"
   ]
  },
  {
   "cell_type": "code",
   "execution_count": 15,
   "id": "7406ea31",
   "metadata": {},
   "outputs": [
    {
     "name": "stdout",
     "output_type": "stream",
     "text": [
      "Model: \"sequential\"\n",
      "_________________________________________________________________\n",
      "Layer (type)                 Output Shape              Param #   \n",
      "=================================================================\n",
      "conv2d (Conv2D)              (None, 28, 28, 32)        160       \n",
      "_________________________________________________________________\n",
      "max_pooling2d (MaxPooling2D) (None, 14, 14, 32)        0         \n",
      "_________________________________________________________________\n",
      "conv2d_1 (Conv2D)            (None, 14, 14, 64)        8256      \n",
      "_________________________________________________________________\n",
      "max_pooling2d_1 (MaxPooling2 (None, 7, 7, 64)          0         \n",
      "_________________________________________________________________\n",
      "flatten (Flatten)            (None, 3136)              0         \n",
      "_________________________________________________________________\n",
      "dense (Dense)                (None, 128)               401536    \n",
      "_________________________________________________________________\n",
      "dense_1 (Dense)              (None, 10)                1290      \n",
      "=================================================================\n",
      "Total params: 411,242\n",
      "Trainable params: 411,242\n",
      "Non-trainable params: 0\n",
      "_________________________________________________________________\n"
     ]
    }
   ],
   "source": [
    "# 인공 신경망 생성\n",
    "model = Sequential()\n",
    "model.add(InputLayer(input_shape=(28, 28, 1))) # 입력층 추가\n",
    "\n",
    "\n",
    "# 첫 번째 합성곱 신경망 추가\n",
    "model.add(Conv2D(32, kernel_size=(2, 2), padding=\"same\", activation=\"relu\")) # Convolution layer 추가\n",
    "# model.add(Conv2D(32, kernel_size=(3, 3), padding=\"same\", activation=\"relu\")) # Q3\n",
    "# model.add(Conv2D(16, kernel_size=(2, 2), padding=\"same\", activation=\"relu\")) # Q4\n",
    "model.add(MaxPool2D(pool_size=(2, 2), padding=\"same\")) # Pooling layer 추가\n",
    "\n",
    "\n",
    "# 두 번째 합성곱 신경망 추가\n",
    "model.add(Conv2D(64, kernel_size=(2, 2), padding=\"same\", activation=\"relu\")) # Convolution layer 추가\n",
    "# model.add(Conv2D(64, kernel_size=(3, 3), padding=\"same\", activation=\"relu\")) # Q3\n",
    "# model.add(Conv2D(32, kernel_size=(2, 2), padding=\"same\", activation=\"relu\")) # Q4\n",
    "model.add(MaxPool2D(pool_size=(2, 2), padding=\"same\")) # Pooling layer 추가\n",
    "\n",
    "\n",
    "# Fully-connected layer 추가 \n",
    "model.add(Flatten())\n",
    "model.add(Dense(128, activation=\"relu\")) # 은닉층 추가\n",
    "# model.add(Dense(256, activation=\"relu\")) # Q5\n",
    "model.add(Dense(10, activation=\"softmax\")) # 출력층 추가\n",
    "\n",
    "\n",
    "model.summary()\n",
    "# model.save(\"fashion_before.h5\")"
   ]
  },
  {
   "cell_type": "code",
   "execution_count": 16,
   "id": "368b4950",
   "metadata": {},
   "outputs": [],
   "source": [
    "# 인공 신경망 모델 환경 설정\n",
    "model.compile(optimizer=\"adam\", loss=\"categorical_crossentropy\", metrics=[\"acc\"])"
   ]
  },
  {
   "cell_type": "code",
   "execution_count": 17,
   "id": "20aa4640",
   "metadata": {},
   "outputs": [
    {
     "name": "stdout",
     "output_type": "stream",
     "text": [
      "Epoch 1/10\n",
      "150/150 [==============================] - 7s 44ms/step - loss: 0.6651 - acc: 0.7662\n",
      "Epoch 2/10\n",
      "150/150 [==============================] - 6s 41ms/step - loss: 0.4031 - acc: 0.8587\n",
      "Epoch 3/10\n",
      "150/150 [==============================] - 6s 41ms/step - loss: 0.3507 - acc: 0.8751\n",
      "Epoch 4/10\n",
      "150/150 [==============================] - 6s 43ms/step - loss: 0.3233 - acc: 0.8842\n",
      "Epoch 5/10\n",
      "150/150 [==============================] - 6s 42ms/step - loss: 0.2926 - acc: 0.8945\n",
      "Epoch 6/10\n",
      "150/150 [==============================] - 6s 41ms/step - loss: 0.2742 - acc: 0.9011\n",
      "Epoch 7/10\n",
      "150/150 [==============================] - 6s 42ms/step - loss: 0.2614 - acc: 0.9053\n",
      "Epoch 8/10\n",
      "150/150 [==============================] - 6s 41ms/step - loss: 0.2419 - acc: 0.9130\n",
      "Epoch 9/10\n",
      "150/150 [==============================] - 6s 42ms/step - loss: 0.2353 - acc: 0.9135\n",
      "Epoch 10/10\n",
      "150/150 [==============================] - 6s 43ms/step - loss: 0.2178 - acc: 0.9210\n",
      "총 학습시간: 63.79321074485779\n"
     ]
    }
   ],
   "source": [
    "# 학습 진행\n",
    "from time import time\n",
    "\n",
    "begin = time()\n",
    "history = model.fit(x_train, y_train, batch_size=MY_BATCH, epochs=MY_EPOCH, verbose=1)\n",
    "end = time()\n",
    "print(\"총 학습시간:\", end-begin)\n",
    "\n",
    "# model.save(\"fashion_after.h5\")"
   ]
  },
  {
   "cell_type": "code",
   "execution_count": 18,
   "id": "d852d058",
   "metadata": {},
   "outputs": [
    {
     "data": {
      "image/png": "[encoded data removed]",
      "text/plain": [
       "<Figure size 432x288 with 2 Axes>"
      ]
     },
     "metadata": {
      "needs_background": "light"
     },
     "output_type": "display_data"
    }
   ],
   "source": [
    "# 학습 내역 시각화\n",
    "# plt.plot(history.history[\"loss\"])\n",
    "# plt.plot(history.history[\"acc\"])\n",
    "\n",
    "fig, loss_ax = plt.subplots()\n",
    "acc_ax = loss_ax.twinx() # loss_ax axes 객체와 x축을 공유하는 axes 객체 생성\n",
    "\n",
    "loss_ax.plot(history.history[\"loss\"], \"r--\") # 손실값 변화량 시각화\n",
    "acc_ax.plot(history.history[\"acc\"], \"b--\") # 정확도 변화량 시각화\n",
    "\n",
    "loss_ax.set_xlabel(\"epochs\")\n",
    "loss_ax.set_ylabel(\"loss\")\n",
    "acc_ax.set_ylabel(\"acc\")\n",
    "\n",
    "plt.show()"
   ]
  },
  {
   "cell_type": "code",
   "execution_count": 19,
   "id": "fba29031",
   "metadata": {},
   "outputs": [
    {
     "name": "stdout",
     "output_type": "stream",
     "text": [
      "313/313 [==============================] - 1s 2ms/step - loss: 0.2963 - acc: 0.8939\n",
      "평가 loss: 0.29632872343063354\n",
      "평가 acc: 0.8938999772071838\n"
     ]
    }
   ],
   "source": [
    "# 평가 진행\n",
    "loss, acc = model.evaluate(x_test, y_test, verbose=1)\n",
    "print(f\"{loss=}, {acc=}\")"
   ]
  },
  {
   "cell_type": "code",
   "execution_count": 20,
   "id": "92d5240d",
   "metadata": {},
   "outputs": [],
   "source": [
    "# 예측 진행\n",
    "y_pred = model.predict(x_test)"
   ]
  },
  {
   "cell_type": "code",
   "execution_count": 21,
   "id": "9a8f606d",
   "metadata": {},
   "outputs": [
    {
     "data": {
      "image/png": "[encoded data removed]",
      "text/plain": [
       "<Figure size 432x288 with 1 Axes>"
      ]
     },
     "metadata": {
      "needs_background": "light"
     },
     "output_type": "display_data"
    },
    {
     "name": "stdout",
     "output_type": "stream",
     "text": [
      "[0. 0. 0. 0. 1. 0. 0. 0. 0. 0.]\n",
      "[9.47994739e-03 2.43030227e-05 4.45504725e-01 1.43454445e-05\n",
      " 1.87323112e-02 2.01851090e-05 5.26190400e-01 2.72014713e-08\n",
      " 2.40242352e-05 9.81295216e-06]\n"
     ]
    }
   ],
   "source": [
    "# 예측 데이터 확인\n",
    "num = 25\n",
    "\n",
    "plt.imshow(x_test[num]) # 입력 데이터(이미지) 시각화\n",
    "plt.show()\n",
    "print(y_test[num]) # 출력 데이터(정답) 확인\n",
    "print(y_pred[num]) # 예측 데이터 확인"
   ]
  },
  {
   "cell_type": "code",
   "execution_count": 22,
   "id": "cb769b51",
   "metadata": {},
   "outputs": [
    {
     "name": "stdout",
     "output_type": "stream",
     "text": [
      "[[10  5 15]\n",
      " [17  3  8]]\n",
      "3\n",
      "[1 0 0]\n",
      "[2 0]\n"
     ]
    }
   ],
   "source": [
    "# np.argmax() 함수 알아보는 예제\n",
    "arr = np.array([[10, 5, 15], [17, 3, 8]])\n",
    "print(arr)\n",
    "\n",
    "print(np.argmax(arr)) # 전체 데이터 중 가장 큰 값의 인덱스\n",
    "print(np.argmax(arr, axis=0)) # 열 별로 가장 큰 값의 인덱스\n",
    "print(np.argmax(arr, axis=1)) # 행 별로 가장 큰 값의 인덱스"
   ]
  },
  {
   "cell_type": "code",
   "execution_count": 23,
   "id": "6b208bea",
   "metadata": {},
   "outputs": [],
   "source": [
    "# one-hot encoding 되돌리기\n",
    "y_test = np.argmax(y_test, axis=1)\n",
    "y_pred = np.argmax(y_pred, axis=1)"
   ]
  },
  {
   "cell_type": "code",
   "execution_count": 24,
   "id": "baf80ce4",
   "metadata": {},
   "outputs": [
    {
     "name": "stdout",
     "output_type": "stream",
     "text": [
      "4\n",
      "4\n"
     ]
    }
   ],
   "source": [
    "# 되돌린 데이터 결과 확인하기\n",
    "num = 14\n",
    "print(y_test[num])\n",
    "print(y_pred[num])"
   ]
  },
  {
   "cell_type": "code",
   "execution_count": 25,
   "id": "34ac8fd9",
   "metadata": {},
   "outputs": [
    {
     "data": {
      "image/png": "[encoded data removed]",
      "text/plain": [
       "<Figure size 1440x1440 with 25 Axes>"
      ]
     },
     "metadata": {},
     "output_type": "display_data"
    }
   ],
   "source": [
    "# 틀린 데이터 시각화\n",
    "cnt = 0 # 시각화한 개수를 나타내주는 변수\n",
    "num = 0 # 검사할 번호를 나타내주는 변수\n",
    "\n",
    "fig, ax = plt.subplots(5, 5) # 5행 5열의 서브플롯 생성\n",
    "fig.set_size_inches((20, 20)) # 시각화 결과물 크기 설정\n",
    "\n",
    "while cnt < 25:\n",
    "    if y_test[num] != y_pred[num]: # 예측이 틀린 경우\n",
    "        # subplot에 틀린 결과 이미지를 추가해주는 코드\n",
    "        ax[cnt // 5][cnt % 5].imshow(x_test[num], cmap=\"Greys\")\n",
    "        ax[cnt // 5][cnt % 5].set_xticks([])\n",
    "        ax[cnt // 5][cnt % 5].set_yticks([])\n",
    "        \n",
    "        title = \"p: \" + labels[y_pred[num]] + \"/ a: \" + labels[y_test[num]]\n",
    "        ax[cnt // 5][cnt % 5].set_title(title)\n",
    "        \n",
    "        cnt += 1\n",
    "    \n",
    "    num += 1\n",
    "\n",
    "plt.show()"
   ]
  },
  {
   "cell_type": "code",
   "execution_count": 26,
   "id": "54593cc0",
   "metadata": {},
   "outputs": [
    {
     "data": {
      "text/html": [
       "<div>\n",
       "<style scoped>\n",
       "    .dataframe tbody tr th:only-of-type {\n",
       "        vertical-align: middle;\n",
       "    }\n",
       "\n",
       "    .dataframe tbody tr th {\n",
       "        vertical-align: top;\n",
       "    }\n",
       "\n",
       "    .dataframe thead th {\n",
       "        text-align: right;\n",
       "    }\n",
       "</style>\n",
       "<table border=\"1\" class=\"dataframe\">\n",
       "  <thead>\n",
       "    <tr style=\"text-align: right;\">\n",
       "      <th></th>\n",
       "      <th>0</th>\n",
       "      <th>1</th>\n",
       "      <th>2</th>\n",
       "      <th>3</th>\n",
       "      <th>4</th>\n",
       "      <th>5</th>\n",
       "      <th>6</th>\n",
       "      <th>7</th>\n",
       "      <th>8</th>\n",
       "      <th>9</th>\n",
       "    </tr>\n",
       "  </thead>\n",
       "  <tbody>\n",
       "    <tr>\n",
       "      <th>0</th>\n",
       "      <td>779</td>\n",
       "      <td>0</td>\n",
       "      <td>12</td>\n",
       "      <td>18</td>\n",
       "      <td>4</td>\n",
       "      <td>1</td>\n",
       "      <td>179</td>\n",
       "      <td>0</td>\n",
       "      <td>7</td>\n",
       "      <td>0</td>\n",
       "    </tr>\n",
       "    <tr>\n",
       "      <th>1</th>\n",
       "      <td>1</td>\n",
       "      <td>970</td>\n",
       "      <td>0</td>\n",
       "      <td>17</td>\n",
       "      <td>4</td>\n",
       "      <td>0</td>\n",
       "      <td>8</td>\n",
       "      <td>0</td>\n",
       "      <td>0</td>\n",
       "      <td>0</td>\n",
       "    </tr>\n",
       "    <tr>\n",
       "      <th>2</th>\n",
       "      <td>9</td>\n",
       "      <td>1</td>\n",
       "      <td>852</td>\n",
       "      <td>6</td>\n",
       "      <td>52</td>\n",
       "      <td>0</td>\n",
       "      <td>80</td>\n",
       "      <td>0</td>\n",
       "      <td>0</td>\n",
       "      <td>0</td>\n",
       "    </tr>\n",
       "    <tr>\n",
       "      <th>3</th>\n",
       "      <td>13</td>\n",
       "      <td>8</td>\n",
       "      <td>8</td>\n",
       "      <td>886</td>\n",
       "      <td>23</td>\n",
       "      <td>0</td>\n",
       "      <td>55</td>\n",
       "      <td>0</td>\n",
       "      <td>7</td>\n",
       "      <td>0</td>\n",
       "    </tr>\n",
       "    <tr>\n",
       "      <th>4</th>\n",
       "      <td>1</td>\n",
       "      <td>0</td>\n",
       "      <td>67</td>\n",
       "      <td>33</td>\n",
       "      <td>810</td>\n",
       "      <td>0</td>\n",
       "      <td>89</td>\n",
       "      <td>0</td>\n",
       "      <td>0</td>\n",
       "      <td>0</td>\n",
       "    </tr>\n",
       "    <tr>\n",
       "      <th>5</th>\n",
       "      <td>0</td>\n",
       "      <td>0</td>\n",
       "      <td>0</td>\n",
       "      <td>0</td>\n",
       "      <td>0</td>\n",
       "      <td>986</td>\n",
       "      <td>0</td>\n",
       "      <td>5</td>\n",
       "      <td>0</td>\n",
       "      <td>9</td>\n",
       "    </tr>\n",
       "    <tr>\n",
       "      <th>6</th>\n",
       "      <td>74</td>\n",
       "      <td>2</td>\n",
       "      <td>54</td>\n",
       "      <td>19</td>\n",
       "      <td>60</td>\n",
       "      <td>0</td>\n",
       "      <td>784</td>\n",
       "      <td>0</td>\n",
       "      <td>7</td>\n",
       "      <td>0</td>\n",
       "    </tr>\n",
       "    <tr>\n",
       "      <th>7</th>\n",
       "      <td>0</td>\n",
       "      <td>0</td>\n",
       "      <td>0</td>\n",
       "      <td>0</td>\n",
       "      <td>0</td>\n",
       "      <td>23</td>\n",
       "      <td>0</td>\n",
       "      <td>912</td>\n",
       "      <td>2</td>\n",
       "      <td>63</td>\n",
       "    </tr>\n",
       "    <tr>\n",
       "      <th>8</th>\n",
       "      <td>4</td>\n",
       "      <td>2</td>\n",
       "      <td>0</td>\n",
       "      <td>4</td>\n",
       "      <td>0</td>\n",
       "      <td>3</td>\n",
       "      <td>8</td>\n",
       "      <td>2</td>\n",
       "      <td>977</td>\n",
       "      <td>0</td>\n",
       "    </tr>\n",
       "    <tr>\n",
       "      <th>9</th>\n",
       "      <td>0</td>\n",
       "      <td>0</td>\n",
       "      <td>0</td>\n",
       "      <td>0</td>\n",
       "      <td>0</td>\n",
       "      <td>3</td>\n",
       "      <td>1</td>\n",
       "      <td>13</td>\n",
       "      <td>0</td>\n",
       "      <td>983</td>\n",
       "    </tr>\n",
       "  </tbody>\n",
       "</table>\n",
       "</div>"
      ],
      "text/plain": [
       "     0    1    2    3    4    5    6    7    8    9\n",
       "0  779    0   12   18    4    1  179    0    7    0\n",
       "1    1  970    0   17    4    0    8    0    0    0\n",
       "2    9    1  852    6   52    0   80    0    0    0\n",
       "3   13    8    8  886   23    0   55    0    7    0\n",
       "4    1    0   67   33  810    0   89    0    0    0\n",
       "5    0    0    0    0    0  986    0    5    0    9\n",
       "6   74    2   54   19   60    0  784    0    7    0\n",
       "7    0    0    0    0    0   23    0  912    2   63\n",
       "8    4    2    0    4    0    3    8    2  977    0\n",
       "9    0    0    0    0    0    3    1   13    0  983"
      ]
     },
     "metadata": {},
     "output_type": "display_data"
    }
   ],
   "source": [
    "# 혼동 행렬을 통해 예측 결과 평가\n",
    "from sklearn.metrics import confusion_matrix\n",
    "\n",
    "cm = confusion_matrix(y_test, y_pred) # 실제 정답과 예측된 값을 이용해서 혼동 행렬 구성\n",
    "cm = pd.DataFrame(cm)\n",
    "\n",
    "display(cm)"
   ]
  },
  {
   "cell_type": "code",
   "execution_count": 27,
   "id": "1a1f4905",
   "metadata": {},
   "outputs": [
    {
     "name": "stdout",
     "output_type": "stream",
     "text": [
      "0.8939\n"
     ]
    }
   ],
   "source": [
    "# f1 score 계산\n",
    "from sklearn.metrics import f1_score\n",
    "\n",
    "f1 = f1_score(y_test, y_pred, average=\"micro\")\n",
    "print(f1) # = accuracy"
   ]
  }
 ],
 "metadata": {
  "kernelspec": {
   "display_name": "Python 3 (ipykernel)",
   "language": "python",
   "name": "python3"
  },
  "language_info": {
   "codemirror_mode": {
    "name": "ipython",
    "version": 3
   },
   "file_extension": ".py",
   "mimetype": "text/x-python",
   "name": "python",
   "nbconvert_exporter": "python",
   "pygments_lexer": "ipython3",
   "version": "3.7.13"
  }
 },
 "nbformat": 4,
 "nbformat_minor": 5
}
